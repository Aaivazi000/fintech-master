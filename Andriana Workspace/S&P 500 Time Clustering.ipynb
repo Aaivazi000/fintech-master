{
 "cells": [
  {
   "cell_type": "markdown",
   "metadata": {},
   "source": [
    "## S&P 500 Time Clustering (2013-2018)##"
   ]
  },
  {
   "cell_type": "markdown",
   "metadata": {},
   "source": [
    "#### General Steps:"
   ]
  },
  {
   "cell_type": "markdown",
   "metadata": {},
   "source": [
    "Group S&P return data (% price return too?) by months over all 5 years. Use the describe function to get basic stats on all months (over the 5 years). Plot all 12 month’s avg PR or TR and see what months cluster together. Run KNN. Do this for % PR and TR too. Normalization may be needed. By looking at what months are closer together over the 5 years it may show signs of very general trends…like Aug & Dec being slow (aka low returns)..we can also do this for companies too using volumes!\n",
    "\n",
    "Group S&P return data by month (all Jan’s together, all Feb’s together) and split the data up into years (all jan 2013 groups together, all Feb 2013 grouped together, etc). Get basic stats (.describe) for all months in their year (1 chart for 01/2013, 1 chart for 02/2013, etc). Plot all months’ avgs of a given data feature (TR, PR, % PR). How do they group together? Are all Feb’s together? All Jan’s together? Are dec and Jan very close? Run KNN. Normalization may be needed.\n",
    "\n",
    "If we find all Feb’s group together (aka make a cluster) if we introduce a new point can we identify what month it’s from by getting it’s cluster"
   ]
  },
  {
   "cell_type": "code",
   "execution_count": 515,
   "metadata": {
    "collapsed": true
   },
   "outputs": [],
   "source": [
    "#Library Imports\n",
    "import numpy as np\n",
    "import pandas as pd\n",
    "import matplotlib.pyplot as plt\n",
    "%matplotlib inline"
   ]
  },
  {
   "cell_type": "code",
   "execution_count": 516,
   "metadata": {
    "collapsed": true
   },
   "outputs": [],
   "source": [
    "pr = pd.read_csv(\"/Users/andriana/Capstone_Data/sp_500_price_return_1.csv\", parse_dates=['Effective date '])"
   ]
  },
  {
   "cell_type": "code",
   "execution_count": 517,
   "metadata": {},
   "outputs": [
    {
     "data": {
      "text/html": [
       "<div>\n",
       "<style>\n",
       "    .dataframe thead tr:only-child th {\n",
       "        text-align: right;\n",
       "    }\n",
       "\n",
       "    .dataframe thead th {\n",
       "        text-align: left;\n",
       "    }\n",
       "\n",
       "    .dataframe tbody tr th {\n",
       "        vertical-align: top;\n",
       "    }\n",
       "</style>\n",
       "<table border=\"1\" class=\"dataframe\">\n",
       "  <thead>\n",
       "    <tr style=\"text-align: right;\">\n",
       "      <th></th>\n",
       "      <th>Effective date</th>\n",
       "      <th>S&amp;P 500 (TR)</th>\n",
       "      <th>S&amp;P 500 (Net TR)</th>\n",
       "      <th>S&amp;P 500</th>\n",
       "    </tr>\n",
       "  </thead>\n",
       "  <tbody>\n",
       "    <tr>\n",
       "      <th>0</th>\n",
       "      <td>2013-04-10</td>\n",
       "      <td>2804.81</td>\n",
       "      <td>2589.71</td>\n",
       "      <td>1587.73</td>\n",
       "    </tr>\n",
       "    <tr>\n",
       "      <th>1</th>\n",
       "      <td>2013-04-11</td>\n",
       "      <td>2815.02</td>\n",
       "      <td>2599.07</td>\n",
       "      <td>1593.37</td>\n",
       "    </tr>\n",
       "    <tr>\n",
       "      <th>2</th>\n",
       "      <td>2013-04-12</td>\n",
       "      <td>2807.10</td>\n",
       "      <td>2591.74</td>\n",
       "      <td>1588.85</td>\n",
       "    </tr>\n",
       "    <tr>\n",
       "      <th>3</th>\n",
       "      <td>2013-04-15</td>\n",
       "      <td>2742.63</td>\n",
       "      <td>2532.21</td>\n",
       "      <td>1552.36</td>\n",
       "    </tr>\n",
       "    <tr>\n",
       "      <th>4</th>\n",
       "      <td>2013-04-16</td>\n",
       "      <td>2781.86</td>\n",
       "      <td>2568.43</td>\n",
       "      <td>1574.57</td>\n",
       "    </tr>\n",
       "  </tbody>\n",
       "</table>\n",
       "</div>"
      ],
      "text/plain": [
       "  Effective date   S&P 500 (TR)  S&P 500 (Net TR)  S&P 500\n",
       "0      2013-04-10       2804.81           2589.71  1587.73\n",
       "1      2013-04-11       2815.02           2599.07  1593.37\n",
       "2      2013-04-12       2807.10           2591.74  1588.85\n",
       "3      2013-04-15       2742.63           2532.21  1552.36\n",
       "4      2013-04-16       2781.86           2568.43  1574.57"
      ]
     },
     "execution_count": 517,
     "metadata": {},
     "output_type": "execute_result"
    }
   ],
   "source": [
    "pr.set_index('Effective date ')\n",
    "pr.head()"
   ]
  },
  {
   "cell_type": "code",
   "execution_count": null,
   "metadata": {
    "collapsed": true
   },
   "outputs": [],
   "source": []
  },
  {
   "cell_type": "markdown",
   "metadata": {},
   "source": [
    "#### Section 1 Goal: Group all Months together"
   ]
  },
  {
   "cell_type": "code",
   "execution_count": 518,
   "metadata": {
    "collapsed": true
   },
   "outputs": [],
   "source": [
    "pr.rename(columns = {'Effective date ':'date'},inplace=True)"
   ]
  },
  {
   "cell_type": "code",
   "execution_count": 519,
   "metadata": {
    "collapsed": true
   },
   "outputs": [],
   "source": [
    "pr = pr.set_index('date')"
   ]
  },
  {
   "cell_type": "code",
   "execution_count": 520,
   "metadata": {
    "collapsed": true
   },
   "outputs": [],
   "source": [
    "#Make dataframes for all months of 2014\n",
    "jan14 = pr['2014-01']\n",
    "feb14 = pr['2014-02']\n",
    "mar14 = pr['2014-03']\n",
    "apr14 = pr['2014-04']\n",
    "may14 = pr['2014-05']\n",
    "jun14 = pr['2014-06']\n",
    "jul14 = pr['2014-07']\n",
    "aug14 = pr['2014-08']\n",
    "sep14 = pr['2014-09']\n",
    "oct14 = pr['2014-10']\n",
    "nov14 = pr['2014-11']\n",
    "dec14 = pr['2014-12']"
   ]
  },
  {
   "cell_type": "code",
   "execution_count": 521,
   "metadata": {
    "collapsed": true
   },
   "outputs": [],
   "source": [
    "jan14_2 = jan14.describe().round(2)\n",
    "feb14_2 = feb14.describe().round(2)\n",
    "mar14_2 = mar14.describe().round(2)\n",
    "apr14_2 = apr14.describe().round(2)\n",
    "may14_2 = may14.describe().round(2)\n",
    "jun14_2 = jun14.describe().round(2)\n",
    "jul14_2 = jul14.describe().round(2)\n",
    "aug14_2 = aug14.describe().round(2)\n",
    "sep14_2 = sep14.describe().round(2)\n",
    "oct14_2 = oct14.describe().round(2)\n",
    "nov14_2 = nov14.describe().round(2)\n",
    "dec14_2 = dec14.describe().round(2)"
   ]
  },
  {
   "cell_type": "code",
   "execution_count": 522,
   "metadata": {
    "collapsed": true
   },
   "outputs": [],
   "source": [
    "d14 = [jan14_2.loc['mean','S&P 500'].round(1),feb14_2.loc['mean','S&P 500'].round(1),\n",
    "      mar14_2.loc['mean','S&P 500'].round(1),apr14_2.loc['mean','S&P 500'].round(1),\n",
    "      may14_2.loc['mean','S&P 500'].round(1),jun14_2.loc['mean','S&P 500'].round(1),\n",
    "      jul14_2.loc['mean','S&P 500'].round(1),aug14_2.loc['mean','S&P 500'].round(1),\n",
    "      sep14_2.loc['mean','S&P 500'].round(1),oct14_2.loc['mean','S&P 500'].round(1),\n",
    "      nov14_2.loc['mean','S&P 500'].round(1),dec14_2.loc['mean','S&P 500'].round(1)]"
   ]
  },
  {
   "cell_type": "code",
   "execution_count": 523,
   "metadata": {
    "collapsed": true
   },
   "outputs": [],
   "source": [
    "months = ['01','02','03','04','05','06','07','08','09','10','11','12']"
   ]
  },
  {
   "cell_type": "code",
   "execution_count": 524,
   "metadata": {},
   "outputs": [
    {
     "data": {
      "text/plain": [
       "Text(0.5,1,'Price Return of S&P 500 (2014)')"
      ]
     },
     "execution_count": 524,
     "metadata": {},
     "output_type": "execute_result"
    },
    {
     "data": {
      "image/png": "[encoded data removed]",
      "text/plain": [
       "<matplotlib.figure.Figure at 0x1208c1cf8>"
      ]
     },
     "metadata": {},
     "output_type": "display_data"
    }
   ],
   "source": [
    "plt.bar(months,d14)\n",
    "plt.xlabel('Month')\n",
    "plt.ylabel('S&P 500 Price Return')\n",
    "plt.title('Price Return of S&P 500 (2014)')"
   ]
  },
  {
   "cell_type": "code",
   "execution_count": 525,
   "metadata": {
    "collapsed": true
   },
   "outputs": [],
   "source": [
    "#Make dataframes for all months of 2015\n",
    "jan15 = pr['2015-01']\n",
    "feb15 = pr['2015-02']\n",
    "mar15 = pr['2015-03']\n",
    "apr15 = pr['2015-04']\n",
    "may15 = pr['2015-05']\n",
    "jun15 = pr['2015-06']\n",
    "jul15 = pr['2015-07']\n",
    "aug15 = pr['2015-08']\n",
    "sep15 = pr['2015-09']\n",
    "oct15 = pr['2015-10']\n",
    "nov15 = pr['2015-11']\n",
    "dec15 = pr['2015-12']"
   ]
  },
  {
   "cell_type": "code",
   "execution_count": 526,
   "metadata": {
    "collapsed": true
   },
   "outputs": [],
   "source": [
    "jan15_2 = jan15.describe().round(2)\n",
    "feb15_2 = feb15.describe().round(2)\n",
    "mar15_2 = mar15.describe().round(2)\n",
    "apr15_2 = apr15.describe().round(2)\n",
    "may15_2 = may15.describe().round(2)\n",
    "jun15_2 = jun15.describe().round(2)\n",
    "jul15_2 = jul15.describe().round(2)\n",
    "aug15_2 = aug15.describe().round(2)\n",
    "sep15_2 = sep15.describe().round(2)\n",
    "oct15_2 = oct15.describe().round(2)\n",
    "nov15_2 = nov15.describe().round(2)\n",
    "dec15_2 = dec15.describe().round(2)"
   ]
  },
  {
   "cell_type": "code",
   "execution_count": 527,
   "metadata": {
    "collapsed": true
   },
   "outputs": [],
   "source": [
    "d15 = [jan15_2.loc['mean','S&P 500'].round(1),feb15_2.loc['mean','S&P 500'].round(1),\n",
    "      mar15_2.loc['mean','S&P 500'].round(1),apr15_2.loc['mean','S&P 500'].round(1),\n",
    "      may15_2.loc['mean','S&P 500'].round(1),jun15_2.loc['mean','S&P 500'].round(1),\n",
    "      jul15_2.loc['mean','S&P 500'].round(1),aug15_2.loc['mean','S&P 500'].round(1),\n",
    "      sep15_2.loc['mean','S&P 500'].round(1),oct15_2.loc['mean','S&P 500'].round(1),\n",
    "      nov15_2.loc['mean','S&P 500'].round(1),dec15_2.loc['mean','S&P 500'].round(1)]"
   ]
  },
  {
   "cell_type": "code",
   "execution_count": 528,
   "metadata": {
    "collapsed": true
   },
   "outputs": [],
   "source": [
    "#Make dataframes for all months of 2016\n",
    "jan16 = pr['2016-01']\n",
    "feb16 = pr['2016-02']\n",
    "mar16 = pr['2016-03']\n",
    "apr16 = pr['2016-04']\n",
    "may16 = pr['2016-05']\n",
    "jun16 = pr['2016-06']\n",
    "jul16 = pr['2016-07']\n",
    "aug16 = pr['2016-08']\n",
    "sep16 = pr['2016-09']\n",
    "oct16 = pr['2016-10']\n",
    "nov16 = pr['2016-11']\n",
    "dec16 = pr['2016-12']\n",
    "#use Describe\n",
    "jan16_2 = jan16.describe().round(2)\n",
    "feb16_2 = feb16.describe().round(2)\n",
    "mar16_2 = mar16.describe().round(2)\n",
    "apr16_2 = apr16.describe().round(2)\n",
    "may16_2 = may16.describe().round(2)\n",
    "jun16_2 = jun16.describe().round(2)\n",
    "jul16_2 = jul16.describe().round(2)\n",
    "aug16_2 = aug16.describe().round(2)\n",
    "sep16_2 = sep16.describe().round(2)\n",
    "oct16_2 = oct16.describe().round(2)\n",
    "nov16_2 = nov16.describe().round(2)\n",
    "dec16_2 = dec16.describe().round(2)\n",
    "#Collect data\n",
    "d16 = [jan16_2.loc['mean','S&P 500'].round(1),feb16_2.loc['mean','S&P 500'].round(1),\n",
    "      mar16_2.loc['mean','S&P 500'].round(1),apr16_2.loc['mean','S&P 500'].round(1),\n",
    "      may16_2.loc['mean','S&P 500'].round(1),jun16_2.loc['mean','S&P 500'].round(1),\n",
    "      jul16_2.loc['mean','S&P 500'].round(1),aug16_2.loc['mean','S&P 500'].round(1),\n",
    "      sep16_2.loc['mean','S&P 500'].round(1),oct16_2.loc['mean','S&P 500'].round(1),\n",
    "      nov16_2.loc['mean','S&P 500'].round(1),dec16_2.loc['mean','S&P 500'].round(1)]"
   ]
  },
  {
   "cell_type": "code",
   "execution_count": 529,
   "metadata": {
    "collapsed": true
   },
   "outputs": [],
   "source": [
    "#Make dataframes for all months of 2016\n",
    "jan17 = pr['2017-01']\n",
    "feb17 = pr['2017-02']\n",
    "mar17 = pr['2017-03']\n",
    "apr17 = pr['2017-04']\n",
    "may17 = pr['2017-05']\n",
    "jun17 = pr['2017-06']\n",
    "jul17 = pr['2017-07']\n",
    "aug17 = pr['2017-08']\n",
    "sep17 = pr['2017-09']\n",
    "oct17 = pr['2017-10']\n",
    "nov17 = pr['2017-11']\n",
    "dec17 = pr['2017-12']\n",
    "#use Describe\n",
    "jan17_2 = jan17.describe().round(2)\n",
    "feb17_2 = feb17.describe().round(2)\n",
    "mar17_2 = mar17.describe().round(2)\n",
    "apr17_2 = apr17.describe().round(2)\n",
    "may17_2 = may17.describe().round(2)\n",
    "jun17_2 = jun17.describe().round(2)\n",
    "jul17_2 = jul17.describe().round(2)\n",
    "aug17_2 = aug17.describe().round(2)\n",
    "sep17_2 = sep17.describe().round(2)\n",
    "oct17_2 = oct17.describe().round(2)\n",
    "nov17_2 = nov17.describe().round(2)\n",
    "dec17_2 = dec17.describe().round(2)\n",
    "#Collect data\n",
    "d17 = [jan17_2.loc['mean','S&P 500'].round(1),feb17_2.loc['mean','S&P 500'].round(1),\n",
    "      mar17_2.loc['mean','S&P 500'].round(1),apr17_2.loc['mean','S&P 500'].round(1),\n",
    "      may17_2.loc['mean','S&P 500'].round(1),jun17_2.loc['mean','S&P 500'].round(1),\n",
    "      jul17_2.loc['mean','S&P 500'].round(1),aug17_2.loc['mean','S&P 500'].round(1),\n",
    "      sep17_2.loc['mean','S&P 500'].round(1),oct17_2.loc['mean','S&P 500'].round(1),\n",
    "      nov17_2.loc['mean','S&P 500'].round(1),dec17_2.loc['mean','S&P 500'].round(1)]"
   ]
  },
  {
   "cell_type": "code",
   "execution_count": 530,
   "metadata": {},
   "outputs": [
    {
     "data": {
      "image/png": "[encoded data removed]",
      "text/plain": [
       "<matplotlib.figure.Figure at 0x120a40a20>"
      ]
     },
     "metadata": {},
     "output_type": "display_data"
    }
   ],
   "source": [
    "plt.figure(figsize=(10,7))\n",
    "plt.scatter(months,d14,c='b',label='2014')\n",
    "plt.scatter(months,d15,c='r', label='2015')\n",
    "plt.scatter(months,d16,c='g', label='2016')\n",
    "plt.scatter(months,d17,c='k', label='2017')\n",
    "plt.legend()\n",
    "plt.xlabel('Month')\n",
    "plt.ylabel('S&P 500 Price Return')\n",
    "plt.title('Monthly Average Price Return of S&P 500 (2014-2017)')\n",
    "plt.show()"
   ]
  },
  {
   "cell_type": "code",
   "execution_count": 531,
   "metadata": {
    "collapsed": true
   },
   "outputs": [],
   "source": [
    "d14[1] = feb14_2.loc['mean','S&P 500'].round(1)"
   ]
  },
  {
   "cell_type": "code",
   "execution_count": 532,
   "metadata": {},
   "outputs": [
    {
     "data": {
      "text/html": [
       "<div>\n",
       "<style>\n",
       "    .dataframe thead tr:only-child th {\n",
       "        text-align: right;\n",
       "    }\n",
       "\n",
       "    .dataframe thead th {\n",
       "        text-align: left;\n",
       "    }\n",
       "\n",
       "    .dataframe tbody tr th {\n",
       "        vertical-align: top;\n",
       "    }\n",
       "</style>\n",
       "<table border=\"1\" class=\"dataframe\">\n",
       "  <thead>\n",
       "    <tr style=\"text-align: right;\">\n",
       "      <th></th>\n",
       "      <th>S&amp;P 500 (TR)</th>\n",
       "      <th>S&amp;P 500 (Net TR)</th>\n",
       "      <th>S&amp;P 500</th>\n",
       "    </tr>\n",
       "    <tr>\n",
       "      <th>date</th>\n",
       "      <th></th>\n",
       "      <th></th>\n",
       "      <th></th>\n",
       "    </tr>\n",
       "  </thead>\n",
       "  <tbody>\n",
       "    <tr>\n",
       "      <th>2014-01-02</th>\n",
       "      <td>3286.69</td>\n",
       "      <td>3020.60</td>\n",
       "      <td>1831.98</td>\n",
       "    </tr>\n",
       "    <tr>\n",
       "      <th>2014-01-03</th>\n",
       "      <td>3285.68</td>\n",
       "      <td>3019.65</td>\n",
       "      <td>1831.37</td>\n",
       "    </tr>\n",
       "    <tr>\n",
       "      <th>2014-01-06</th>\n",
       "      <td>3277.48</td>\n",
       "      <td>3012.10</td>\n",
       "      <td>1826.77</td>\n",
       "    </tr>\n",
       "    <tr>\n",
       "      <th>2014-01-07</th>\n",
       "      <td>3297.45</td>\n",
       "      <td>3030.44</td>\n",
       "      <td>1837.88</td>\n",
       "    </tr>\n",
       "    <tr>\n",
       "      <th>2014-01-08</th>\n",
       "      <td>3297.74</td>\n",
       "      <td>3030.43</td>\n",
       "      <td>1837.49</td>\n",
       "    </tr>\n",
       "    <tr>\n",
       "      <th>2014-01-09</th>\n",
       "      <td>3298.87</td>\n",
       "      <td>3031.47</td>\n",
       "      <td>1838.13</td>\n",
       "    </tr>\n",
       "    <tr>\n",
       "      <th>2014-01-10</th>\n",
       "      <td>3306.49</td>\n",
       "      <td>3038.48</td>\n",
       "      <td>1842.37</td>\n",
       "    </tr>\n",
       "    <tr>\n",
       "      <th>2014-01-13</th>\n",
       "      <td>3265.27</td>\n",
       "      <td>3000.50</td>\n",
       "      <td>1819.20</td>\n",
       "    </tr>\n",
       "    <tr>\n",
       "      <th>2014-01-14</th>\n",
       "      <td>3300.61</td>\n",
       "      <td>3032.97</td>\n",
       "      <td>1838.88</td>\n",
       "    </tr>\n",
       "    <tr>\n",
       "      <th>2014-01-15</th>\n",
       "      <td>3317.75</td>\n",
       "      <td>3048.69</td>\n",
       "      <td>1848.38</td>\n",
       "    </tr>\n",
       "    <tr>\n",
       "      <th>2014-01-16</th>\n",
       "      <td>3313.36</td>\n",
       "      <td>3044.64</td>\n",
       "      <td>1845.89</td>\n",
       "    </tr>\n",
       "    <tr>\n",
       "      <th>2014-01-17</th>\n",
       "      <td>3300.51</td>\n",
       "      <td>3032.81</td>\n",
       "      <td>1838.70</td>\n",
       "    </tr>\n",
       "    <tr>\n",
       "      <th>2014-01-21</th>\n",
       "      <td>3309.74</td>\n",
       "      <td>3041.28</td>\n",
       "      <td>1843.80</td>\n",
       "    </tr>\n",
       "    <tr>\n",
       "      <th>2014-01-22</th>\n",
       "      <td>3312.04</td>\n",
       "      <td>3043.28</td>\n",
       "      <td>1844.86</td>\n",
       "    </tr>\n",
       "    <tr>\n",
       "      <th>2014-01-23</th>\n",
       "      <td>3282.64</td>\n",
       "      <td>3016.25</td>\n",
       "      <td>1828.46</td>\n",
       "    </tr>\n",
       "    <tr>\n",
       "      <th>2014-01-24</th>\n",
       "      <td>3214.13</td>\n",
       "      <td>2953.29</td>\n",
       "      <td>1790.29</td>\n",
       "    </tr>\n",
       "    <tr>\n",
       "      <th>2014-01-27</th>\n",
       "      <td>3198.57</td>\n",
       "      <td>2938.97</td>\n",
       "      <td>1781.56</td>\n",
       "    </tr>\n",
       "    <tr>\n",
       "      <th>2014-01-28</th>\n",
       "      <td>3218.21</td>\n",
       "      <td>2957.02</td>\n",
       "      <td>1792.50</td>\n",
       "    </tr>\n",
       "    <tr>\n",
       "      <th>2014-01-29</th>\n",
       "      <td>3185.70</td>\n",
       "      <td>2927.05</td>\n",
       "      <td>1774.20</td>\n",
       "    </tr>\n",
       "    <tr>\n",
       "      <th>2014-01-30</th>\n",
       "      <td>3221.78</td>\n",
       "      <td>2960.15</td>\n",
       "      <td>1794.19</td>\n",
       "    </tr>\n",
       "    <tr>\n",
       "      <th>2014-01-31</th>\n",
       "      <td>3200.95</td>\n",
       "      <td>2941.01</td>\n",
       "      <td>1782.59</td>\n",
       "    </tr>\n",
       "  </tbody>\n",
       "</table>\n",
       "</div>"
      ],
      "text/plain": [
       "            S&P 500 (TR)  S&P 500 (Net TR)  S&P 500\n",
       "date                                               \n",
       "2014-01-02       3286.69           3020.60  1831.98\n",
       "2014-01-03       3285.68           3019.65  1831.37\n",
       "2014-01-06       3277.48           3012.10  1826.77\n",
       "2014-01-07       3297.45           3030.44  1837.88\n",
       "2014-01-08       3297.74           3030.43  1837.49\n",
       "2014-01-09       3298.87           3031.47  1838.13\n",
       "2014-01-10       3306.49           3038.48  1842.37\n",
       "2014-01-13       3265.27           3000.50  1819.20\n",
       "2014-01-14       3300.61           3032.97  1838.88\n",
       "2014-01-15       3317.75           3048.69  1848.38\n",
       "2014-01-16       3313.36           3044.64  1845.89\n",
       "2014-01-17       3300.51           3032.81  1838.70\n",
       "2014-01-21       3309.74           3041.28  1843.80\n",
       "2014-01-22       3312.04           3043.28  1844.86\n",
       "2014-01-23       3282.64           3016.25  1828.46\n",
       "2014-01-24       3214.13           2953.29  1790.29\n",
       "2014-01-27       3198.57           2938.97  1781.56\n",
       "2014-01-28       3218.21           2957.02  1792.50\n",
       "2014-01-29       3185.70           2927.05  1774.20\n",
       "2014-01-30       3221.78           2960.15  1794.19\n",
       "2014-01-31       3200.95           2941.01  1782.59"
      ]
     },
     "execution_count": 532,
     "metadata": {},
     "output_type": "execute_result"
    }
   ],
   "source": [
    "pr['2014-01']"
   ]
  },
  {
   "cell_type": "markdown",
   "metadata": {},
   "source": [
    "## Adding Features to data"
   ]
  },
  {
   "cell_type": "markdown",
   "metadata": {},
   "source": [
    "#### Calclulating Price Return % change from daily, weekly, monthly"
   ]
  },
  {
   "cell_type": "markdown",
   "metadata": {},
   "source": [
    "% change = (today's price return - tomorrow's price return)/today's price return"
   ]
  },
  {
   "cell_type": "code",
   "execution_count": 533,
   "metadata": {},
   "outputs": [],
   "source": [
    "pchangeDay = pr['2014':'2018']['S&P 500'].pct_change().round(5)\n",
    "pchangeWeek = pr['2014':'2018']['S&P 500'].pct_change(7).round(5)\n",
    "pchangeMonth = pr['2014':'2018']['S&P 500'].pct_change(21).round(5)"
   ]
  },
  {
   "cell_type": "code",
   "execution_count": 534,
   "metadata": {},
   "outputs": [],
   "source": [
    "#Merge into dataframe\n",
    "pr_1 = pr.merge(pchangeDay.to_frame(),left_index=True,right_index=True)"
   ]
  },
  {
   "cell_type": "code",
   "execution_count": 535,
   "metadata": {},
   "outputs": [
    {
     "data": {
      "text/html": [
       "<div>\n",
       "<style>\n",
       "    .dataframe thead tr:only-child th {\n",
       "        text-align: right;\n",
       "    }\n",
       "\n",
       "    .dataframe thead th {\n",
       "        text-align: left;\n",
       "    }\n",
       "\n",
       "    .dataframe tbody tr th {\n",
       "        vertical-align: top;\n",
       "    }\n",
       "</style>\n",
       "<table border=\"1\" class=\"dataframe\">\n",
       "  <thead>\n",
       "    <tr style=\"text-align: right;\">\n",
       "      <th></th>\n",
       "      <th>S&amp;P 500 (TR)</th>\n",
       "      <th>S&amp;P 500 (Net TR)</th>\n",
       "      <th>S&amp;P 500</th>\n",
       "      <th>Daily % Change</th>\n",
       "    </tr>\n",
       "    <tr>\n",
       "      <th>date</th>\n",
       "      <th></th>\n",
       "      <th></th>\n",
       "      <th></th>\n",
       "      <th></th>\n",
       "    </tr>\n",
       "  </thead>\n",
       "  <tbody>\n",
       "    <tr>\n",
       "      <th>2014-01-02</th>\n",
       "      <td>3286.69</td>\n",
       "      <td>3020.60</td>\n",
       "      <td>1831.98</td>\n",
       "      <td>NaN</td>\n",
       "    </tr>\n",
       "    <tr>\n",
       "      <th>2014-01-03</th>\n",
       "      <td>3285.68</td>\n",
       "      <td>3019.65</td>\n",
       "      <td>1831.37</td>\n",
       "      <td>-0.00033</td>\n",
       "    </tr>\n",
       "    <tr>\n",
       "      <th>2014-01-06</th>\n",
       "      <td>3277.48</td>\n",
       "      <td>3012.10</td>\n",
       "      <td>1826.77</td>\n",
       "      <td>-0.00251</td>\n",
       "    </tr>\n",
       "    <tr>\n",
       "      <th>2014-01-07</th>\n",
       "      <td>3297.45</td>\n",
       "      <td>3030.44</td>\n",
       "      <td>1837.88</td>\n",
       "      <td>0.00608</td>\n",
       "    </tr>\n",
       "    <tr>\n",
       "      <th>2014-01-08</th>\n",
       "      <td>3297.74</td>\n",
       "      <td>3030.43</td>\n",
       "      <td>1837.49</td>\n",
       "      <td>-0.00021</td>\n",
       "    </tr>\n",
       "  </tbody>\n",
       "</table>\n",
       "</div>"
      ],
      "text/plain": [
       "            S&P 500 (TR)  S&P 500 (Net TR)  S&P 500  Daily % Change\n",
       "date                                                               \n",
       "2014-01-02       3286.69           3020.60  1831.98             NaN\n",
       "2014-01-03       3285.68           3019.65  1831.37        -0.00033\n",
       "2014-01-06       3277.48           3012.10  1826.77        -0.00251\n",
       "2014-01-07       3297.45           3030.44  1837.88         0.00608\n",
       "2014-01-08       3297.74           3030.43  1837.49        -0.00021"
      ]
     },
     "execution_count": 535,
     "metadata": {},
     "output_type": "execute_result"
    }
   ],
   "source": [
    "pr_1.rename(columns = {'S&P 500_y':'Daily % Change'},inplace=True)\n",
    "pr_1.rename(columns = {'S&P 500_x':'S&P 500'},inplace=True)\n",
    "pr_1.head()"
   ]
  },
  {
   "cell_type": "code",
   "execution_count": 536,
   "metadata": {},
   "outputs": [],
   "source": [
    "pr_2 = pr_1.merge(pchangeWeek.to_frame(),left_index=True,right_index=True)"
   ]
  },
  {
   "cell_type": "code",
   "execution_count": 537,
   "metadata": {},
   "outputs": [],
   "source": [
    "pr_2.rename(columns = {'S&P 500_x':'S&P 500'},inplace=True)\n",
    "pr_2.rename(columns = {'S&P 500_y':'Weekly % Change'},inplace=True)"
   ]
  },
  {
   "cell_type": "code",
   "execution_count": 538,
   "metadata": {},
   "outputs": [],
   "source": [
    "pr_3 = pr_2.merge(pchangeMonth.to_frame(),left_index=True,right_index=True)\n",
    "pr_3.rename(columns = {'S&P 500_x':'S&P 500'},inplace=True)\n",
    "pr_3.rename(columns = {'S&P 500_y':'Monthly % Change'},inplace=True)\n",
    "pr_1 = pr_3"
   ]
  },
  {
   "cell_type": "markdown",
   "metadata": {
    "collapsed": true
   },
   "source": [
    "#### Calclulating Total Return % change from daily, weekly, monthly"
   ]
  },
  {
   "cell_type": "code",
   "execution_count": 539,
   "metadata": {
    "collapsed": true
   },
   "outputs": [],
   "source": [
    "trchangeDay = pr['2014':'2018']['S&P 500 (TR)'].pct_change().round(5)\n",
    "trchangeWeek = pr['2014':'2018']['S&P 500 (TR)'].pct_change(7).round(5)\n",
    "trchangeMonth = pr['2014':'2018']['S&P 500 (TR)'].pct_change(21).round(5)"
   ]
  },
  {
   "cell_type": "code",
   "execution_count": 540,
   "metadata": {},
   "outputs": [],
   "source": [
    "pr_3 = pr_3.merge(trchangeDay.to_frame(),left_index=True,right_index=True)"
   ]
  },
  {
   "cell_type": "code",
   "execution_count": 541,
   "metadata": {},
   "outputs": [],
   "source": [
    "pr_3.rename(columns = {'S&P 500 (TR)_x':'S&P 500 (TR)'},inplace=True)"
   ]
  },
  {
   "cell_type": "code",
   "execution_count": 542,
   "metadata": {},
   "outputs": [],
   "source": [
    "pr_3.rename(columns = {'S&P 500 (TR)_y':'TR Daily %'},inplace=True)"
   ]
  },
  {
   "cell_type": "code",
   "execution_count": 543,
   "metadata": {},
   "outputs": [],
   "source": [
    "pr_3 = pr_3.merge(trchangeWeek.to_frame(),left_index=True,right_index=True)"
   ]
  },
  {
   "cell_type": "code",
   "execution_count": 544,
   "metadata": {},
   "outputs": [],
   "source": [
    "pr_3.rename(columns = {'S&P 500 (TR)_x':'S&P 500 (TR)'},inplace=True)\n",
    "pr_3.rename(columns = {'S&P 500 (TR)_y':'TR Weekly %'},inplace=True)"
   ]
  },
  {
   "cell_type": "code",
   "execution_count": 545,
   "metadata": {},
   "outputs": [],
   "source": [
    "pr_3 = pr_3.merge(trchangeMonth.to_frame(),left_index=True,right_index=True)"
   ]
  },
  {
   "cell_type": "code",
   "execution_count": 546,
   "metadata": {},
   "outputs": [],
   "source": [
    "pr_3.rename(columns = {'S&P 500 (TR)_x':'S&P 500 (TR)'},inplace=True)\n",
    "pr_3.rename(columns = {'S&P 500 (TR)_y':'TR Monthly %'},inplace=True)"
   ]
  },
  {
   "cell_type": "code",
   "execution_count": 548,
   "metadata": {},
   "outputs": [],
   "source": [
    "pr_1 = pr_3"
   ]
  },
  {
   "cell_type": "code",
   "execution_count": null,
   "metadata": {},
   "outputs": [],
   "source": []
  },
  {
   "cell_type": "code",
   "execution_count": null,
   "metadata": {
    "collapsed": true
   },
   "outputs": [],
   "source": []
  }
 ],
 "metadata": {
  "kernelspec": {
   "display_name": "Python 3",
   "language": "python",
   "name": "python3"
  },
  "language_info": {
   "codemirror_mode": {
    "name": "ipython",
    "version": 3
   },
   "file_extension": ".py",
   "mimetype": "text/x-python",
   "name": "python",
   "nbconvert_exporter": "python",
   "pygments_lexer": "ipython3",
   "version": "3.6.3"
  }
 },
 "nbformat": 4,
 "nbformat_minor": 2
}
