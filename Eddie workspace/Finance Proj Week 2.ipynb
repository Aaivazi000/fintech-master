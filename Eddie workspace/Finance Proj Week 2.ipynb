{
 "cells": [
  {
   "cell_type": "markdown",
   "metadata": {},
   "source": [
    "# Taken from week one"
   ]
  },
  {
   "cell_type": "code",
   "execution_count": null,
   "metadata": {
    "collapsed": true
   },
   "outputs": [],
   "source": [
    "import csv\n",
    "import pandas as pd\n",
    "import matplotlib.pyplot as plt\n",
    "from matplotlib import dates\n",
    "import numpy as np\n",
    "from datetime import datetime\n",
    "%matplotlib inline\n",
    "\n",
    "#Read the .csv file containing 5yrs worth of S&P500\n",
    "df = pd.read_csv('all_stocks_5yr.csv', index_col = 'date', parse_dates=[\"date\"])\n",
    "sp = pd.read_csv('SP500.csv', index_col=\"Date\", parse_dates=[\"Date\"])"
   ]
  },
  {
   "cell_type": "code",
   "execution_count": null,
   "metadata": {
    "collapsed": true
   },
   "outputs": [],
   "source": [
    "#Get the names of all the companies\n",
    "all_company_names = []\n",
    "for names in df.Name:\n",
    "    if names not in all_company_names:\n",
    "        all_company_names.append(names)\n",
    "        \n",
    "##Timestamp here\n",
    "#all_dates = []\n",
    "#for dates in df.date:\n",
    "#    if dates not in all_dates:\n",
    "#        all_dates.append(dates)"
   ]
  },
  {
   "cell_type": "code",
   "execution_count": null,
   "metadata": {
    "collapsed": true
   },
   "outputs": [],
   "source": [
    "#% change per business day\n",
    "close_price = df.groupby('Name').close\n",
    "open_price = df.groupby('Name').open\n",
    "\n",
    "df['per_change'] = (df.close - df.open) / df.open\n",
    "sp[\"per_change\"] = (sp.Close - sp.Open) / sp.Open"
   ]
  },
  {
   "cell_type": "markdown",
   "metadata": {},
   "source": [
    "# Import sectors for each company"
   ]
  },
  {
   "cell_type": "code",
   "execution_count": null,
   "metadata": {},
   "outputs": [],
   "source": [
    "sectors = pd.read_csv('sectors.csv')\n",
    "all_company_names.sort()\n",
    "all_company_names"
   ]
  },
  {
   "cell_type": "code",
   "execution_count": null,
   "metadata": {
    "collapsed": true
   },
   "outputs": [],
   "source": [
    "#all_dates[0]"
   ]
  },
  {
   "cell_type": "code",
   "execution_count": null,
   "metadata": {
    "collapsed": true
   },
   "outputs": [],
   "source": [
    "#all_dates[-1]"
   ]
  },
  {
   "cell_type": "code",
   "execution_count": null,
   "metadata": {
    "collapsed": true
   },
   "outputs": [],
   "source": [
    "sectors = sectors.sort_values('Symbol')"
   ]
  },
  {
   "cell_type": "code",
   "execution_count": null,
   "metadata": {},
   "outputs": [],
   "source": [
    "sectors[sectors['Sector'] == 'Telecommunication Services']"
   ]
  },
  {
   "cell_type": "code",
   "execution_count": null,
   "metadata": {},
   "outputs": [],
   "source": [
    "import time\n",
    "found = {}\n",
    "start = time.time()\n",
    "for names in sectors.Symbol:\n",
    "    if names in all_company_names:\n",
    "        found[names] = sectors[sectors[\"Symbol\"] == names].Sector.item()\n",
    "end = time.time()\n",
    "print(end-start)"
   ]
  },
  {
   "cell_type": "code",
   "execution_count": null,
   "metadata": {},
   "outputs": [],
   "source": [
    "len(found)"
   ]
  },
  {
   "cell_type": "code",
   "execution_count": null,
   "metadata": {},
   "outputs": [],
   "source": [
    "sectors[sectors[\"Symbol\"] == \"AAPL\"].Sector"
   ]
  },
  {
   "cell_type": "code",
   "execution_count": null,
   "metadata": {
    "collapsed": true
   },
   "outputs": [],
   "source": [
    "test = []\n",
    "test.append(sectors[sectors[\"Symbol\"] == \"AAPL\"].Sector.item())"
   ]
  },
  {
   "cell_type": "code",
   "execution_count": null,
   "metadata": {},
   "outputs": [],
   "source": [
    "test"
   ]
  },
  {
   "cell_type": "code",
   "execution_count": null,
   "metadata": {
    "collapsed": true
   },
   "outputs": [],
   "source": [
    "key_needed = []\n",
    "for names in all_company_names:\n",
    "    if names not in found.keys():\n",
    "        key_needed.append(names)"
   ]
  },
  {
   "cell_type": "code",
   "execution_count": null,
   "metadata": {},
   "outputs": [],
   "source": [
    "key_needed\n",
    "names_sectors = sectors.Sector.unique()\n",
    "names_sectors"
   ]
  },
  {
   "cell_type": "markdown",
   "metadata": {},
   "source": [
    "# Is not a good choice but, I cannot find a csv with sectors of such. So I will manually input the remaining ones I don't have, for now."
   ]
  },
  {
   "cell_type": "code",
   "execution_count": null,
   "metadata": {
    "collapsed": true
   },
   "outputs": [],
   "source": [
    "found['CBG'] = 'Real Estate'                       #Symbol changed to 'CBRE'\n",
    "found['CHK'] = 'Energy'                            #Removed due to captialization on March 19,2018\n",
    "found['HCN'] = 'Real Estate'                       #Symbol changed to 'WELL'\n",
    "found['PCLN'] = 'Consumer Discretionary'           #Symbol changed to 'BKNG'\n",
    "found['PDCO'] = 'Health Care'                      #Removed due to captialization on March 19,2018\n",
    "found['SIG'] = 'Consumer Discretionary'            #Removed due to captialization on March 19,2018\n",
    "found['SNI'] = 'Consumer Discretionary'            #Discovery Communications acquired SNI. What does this mean?"
   ]
  },
  {
   "cell_type": "markdown",
   "metadata": {},
   "source": [
    "# NEED TO FIND OUT SECTOR FOR SNI, WHAT DOES IT MEAN DISCOVERY COMMUNICATIONS ACQUIRED SNI?"
   ]
  },
  {
   "cell_type": "code",
   "execution_count": null,
   "metadata": {},
   "outputs": [],
   "source": [
    "len(found)"
   ]
  },
  {
   "cell_type": "code",
   "execution_count": null,
   "metadata": {},
   "outputs": [],
   "source": [
    "sp.head()"
   ]
  },
  {
   "cell_type": "code",
   "execution_count": null,
   "metadata": {
    "collapsed": true
   },
   "outputs": [],
   "source": [
    "market_return = (sp.loc['2018-02-07'].Close - sp.loc['2013-02-08'].Close)/sp.loc['2013-02-08'].Close"
   ]
  },
  {
   "cell_type": "code",
   "execution_count": null,
   "metadata": {
    "collapsed": true
   },
   "outputs": [],
   "source": [
    "market_return"
   ]
  },
  {
   "cell_type": "code",
   "execution_count": null,
   "metadata": {
    "collapsed": true
   },
   "outputs": [],
   "source": [
    "sp.tail()"
   ]
  },
  {
   "cell_type": "code",
   "execution_count": null,
   "metadata": {
    "collapsed": true
   },
   "outputs": [],
   "source": [
    "sp[\"per_change\"].sort_values(ascending = False)"
   ]
  },
  {
   "cell_type": "code",
   "execution_count": null,
   "metadata": {
    "collapsed": true
   },
   "outputs": [],
   "source": [
    "sorting = df['per_change'].sort_values(ascending = False)"
   ]
  },
  {
   "cell_type": "code",
   "execution_count": null,
   "metadata": {
    "collapsed": true
   },
   "outputs": [],
   "source": [
    "sorting"
   ]
  },
  {
   "cell_type": "code",
   "execution_count": null,
   "metadata": {
    "collapsed": true
   },
   "outputs": [],
   "source": [
    "df.head()"
   ]
  },
  {
   "cell_type": "code",
   "execution_count": null,
   "metadata": {
    "collapsed": true
   },
   "outputs": [],
   "source": [
    "list_company_close = []\n",
    "\n",
    "for name in all_company_names:\n",
    "    list_company_close.append(df.groupby('Name'))"
   ]
  },
  {
   "cell_type": "code",
   "execution_count": null,
   "metadata": {
    "collapsed": true
   },
   "outputs": [],
   "source": [
    "sp['Close'][:].pct_change().plot(figsize = (15,9))\n",
    "#You can change : to whatever year you may want.\n",
    "plt.ylabel('Percent Change Per Day')\n",
    "plt.title('S&P 500 Percent Change Per Day')"
   ]
  },
  {
   "cell_type": "code",
   "execution_count": null,
   "metadata": {
    "collapsed": true
   },
   "outputs": [],
   "source": [
    "apple = df[df['Name'] == 'AAPL'].close\n",
    "print(apple)"
   ]
  },
  {
   "cell_type": "code",
   "execution_count": null,
   "metadata": {
    "collapsed": true
   },
   "outputs": [],
   "source": [
    "df[df['Name'] == 'AAPL'].close[0]"
   ]
  },
  {
   "cell_type": "markdown",
   "metadata": {},
   "source": [
    "# company % return in 5 year range"
   ]
  },
  {
   "cell_type": "code",
   "execution_count": null,
   "metadata": {
    "collapsed": true
   },
   "outputs": [],
   "source": [
    "company_returns_5yr = []\n",
    "start = time.time()\n",
    "for name in all_company_names:\n",
    "    first_close = df[df['Name'] == name].close[0]\n",
    "    last_close = df[df['Name'] == name].close[-1]\n",
    "    company_returns_5yr.append((last_close - first_close)/first_close)\n",
    "    \n",
    "end = time.time()\n",
    "print(end-start)"
   ]
  },
  {
   "cell_type": "code",
   "execution_count": null,
   "metadata": {
    "collapsed": true
   },
   "outputs": [],
   "source": [
    "company_returns_5yr = pd.DataFrame(company_returns_5yr)\n",
    "company_returns_5yr.columns = ['Percent Returns']\n",
    "company_returns_5yr.index = all_company_names"
   ]
  },
  {
   "cell_type": "code",
   "execution_count": null,
   "metadata": {
    "collapsed": true
   },
   "outputs": [],
   "source": [
    "company_returns_5yr.sort_values('Percent Returns',ascending = False)"
   ]
  },
  {
   "cell_type": "markdown",
   "metadata": {},
   "source": [
    "WOW! I didn't know NVDA increased by 1700% !!! Over 5 years. Stock looks promising right??? Let's find out later."
   ]
  },
  {
   "cell_type": "code",
   "execution_count": null,
   "metadata": {
    "collapsed": true
   },
   "outputs": [],
   "source": [
    "first_close = df[df['Name'] == 'NVDA'].close[0]\n",
    "last_close = df[df['Name'] == 'NVDA'].close[-1]"
   ]
  },
  {
   "cell_type": "code",
   "execution_count": null,
   "metadata": {
    "collapsed": true
   },
   "outputs": [],
   "source": [
    "first_close"
   ]
  },
  {
   "cell_type": "code",
   "execution_count": null,
   "metadata": {
    "collapsed": true
   },
   "outputs": [],
   "source": [
    "last_close"
   ]
  },
  {
   "cell_type": "code",
   "execution_count": null,
   "metadata": {
    "collapsed": true
   },
   "outputs": [],
   "source": [
    "#just confirming my eyes here."
   ]
  },
  {
   "cell_type": "code",
   "execution_count": null,
   "metadata": {
    "collapsed": true
   },
   "outputs": [],
   "source": [
    "df[df['Name'] == 'NVDA'].close.plot(figsize = (10,10))"
   ]
  },
  {
   "cell_type": "code",
   "execution_count": null,
   "metadata": {
    "collapsed": true
   },
   "outputs": [],
   "source": [
    "#A little zoom at that massive increase\n",
    "df[df['Name'] == 'NVDA']['2017'].close.plot(figsize = (10,10))"
   ]
  },
  {
   "cell_type": "code",
   "execution_count": null,
   "metadata": {
    "collapsed": true
   },
   "outputs": [],
   "source": [
    "#A little zoom at that massive increase\n",
    "df[df['Name'] == 'NVDA']['2016'].close.plot(figsize = (10,10))"
   ]
  },
  {
   "cell_type": "code",
   "execution_count": null,
   "metadata": {
    "collapsed": true
   },
   "outputs": [],
   "source": [
    "sp['per_change'].plot(figsize = (15,9))\n",
    "plt.xlabel('Date')\n",
    "plt.ylabel('Open & Close % Change')\n",
    "plt.title('S&P 500 % Change per Day')"
   ]
  },
  {
   "cell_type": "code",
   "execution_count": null,
   "metadata": {
    "collapsed": true
   },
   "outputs": [],
   "source": [
    "plt.hist((sp['per_change'] * 100), bins = 40,histtype = 'bar',edgecolor='black')\n",
    "#((sp['per_change'] * 100)).plot(kind='hist', figsize = (10,10))\n",
    "plt.title('Percent Change Normal Distribution of S&P')\n",
    "plt.ylabel('Amount of occurrences')\n",
    "plt.xlabel('% Change')\n",
    "plt.figure(figsize = (10,10))    #Why is this not working?\n"
   ]
  },
  {
   "cell_type": "code",
   "execution_count": null,
   "metadata": {
    "collapsed": true
   },
   "outputs": [],
   "source": [
    "sp_TR = pd.read_csv('SP500TR.csv', index_col = 'Date', parse_dates=[\"Date\"])"
   ]
  },
  {
   "cell_type": "code",
   "execution_count": null,
   "metadata": {
    "collapsed": true
   },
   "outputs": [],
   "source": [
    "sp_TR.head()"
   ]
  },
  {
   "cell_type": "code",
   "execution_count": null,
   "metadata": {
    "collapsed": true
   },
   "outputs": [],
   "source": [
    "plt.plot(sp_TR['Close'], color = 'blue',label = 'Total Return')\n",
    "plt.plot(sp['Close'], color = 'red', label = 'Price Return')\n",
    "plt.xlabel('Year')\n",
    "plt.ylabel('USD')\n",
    "plt.legend()\n",
    "plt.figure(figsize = (8,8))"
   ]
  },
  {
   "cell_type": "code",
   "execution_count": null,
   "metadata": {
    "collapsed": true
   },
   "outputs": [],
   "source": [
    "df.head()"
   ]
  },
  {
   "cell_type": "code",
   "execution_count": null,
   "metadata": {
    "collapsed": true,
    "scrolled": true
   },
   "outputs": [],
   "source": [
    "plt.hist((df[df['Name'] == 'NVDA'].per_change * 100),bins = 40, histtype = 'bar', edgecolor = 'black')\n",
    "plt.title('NVIDIA % Change Distribution')\n",
    "plt.xlabel('% Change')\n",
    "plt.ylabel('Number of Occurances')\n",
    "plt.show()"
   ]
  },
  {
   "cell_type": "code",
   "execution_count": null,
   "metadata": {
    "collapsed": true
   },
   "outputs": [],
   "source": [
    "plt.hist((df[df['Name'] == 'AAPL'].per_change * 100),bins = 40, histtype = 'bar', edgecolor = 'black')\n",
    "plt.title('APPLE % Change Distribution')\n",
    "plt.xlabel('% Change')\n",
    "plt.ylabel('Number of Occurances')\n",
    "plt.show()"
   ]
  },
  {
   "cell_type": "code",
   "execution_count": null,
   "metadata": {
    "collapsed": true
   },
   "outputs": [],
   "source": [
    "sp.head()"
   ]
  },
  {
   "cell_type": "code",
   "execution_count": null,
   "metadata": {
    "collapsed": true
   },
   "outputs": [],
   "source": [
    "sp['Close'].plot(figsize = (15,9))\n",
    "plt.ylabel('USD')\n",
    "plt.title('Price Return of S&P')"
   ]
  },
  {
   "cell_type": "code",
   "execution_count": null,
   "metadata": {},
   "outputs": [],
   "source": [
    "#Convert into DataFrame and export it out for to use in future. \n",
    "found"
   ]
  },
  {
   "cell_type": "code",
   "execution_count": null,
   "metadata": {
    "collapsed": true
   },
   "outputs": [],
   "source": [
    "sector_filled = pd.DataFrame.from_dict(found, orient='index').reset_index()\n",
    "sector_filled.columns = ['Name','Sector']"
   ]
  },
  {
   "cell_type": "code",
   "execution_count": null,
   "metadata": {},
   "outputs": [],
   "source": [
    "sector_filled"
   ]
  },
  {
   "cell_type": "code",
   "execution_count": null,
   "metadata": {},
   "outputs": [],
   "source": [
    "df"
   ]
  },
  {
   "cell_type": "code",
   "execution_count": null,
   "metadata": {},
   "outputs": [],
   "source": [
    "df.head()"
   ]
  },
  {
   "cell_type": "code",
   "execution_count": null,
   "metadata": {},
   "outputs": [],
   "source": [
    "cols = ['Name']\n",
    "new = df.join(sector_filled.set_index(cols), on=cols)"
   ]
  },
  {
   "cell_type": "code",
   "execution_count": null,
   "metadata": {},
   "outputs": [],
   "source": [
    "#50 Mb\n",
    "new"
   ]
  },
  {
   "cell_type": "code",
   "execution_count": null,
   "metadata": {
    "collapsed": true
   },
   "outputs": [],
   "source": [
    "new.to_csv('SP500_sectors_filled.csv')"
   ]
  },
  {
   "cell_type": "code",
   "execution_count": null,
   "metadata": {
    "collapsed": true
   },
   "outputs": [],
   "source": []
  }
 ],
 "metadata": {
  "kernelspec": {
   "display_name": "Python 3",
   "language": "python",
   "name": "python3"
  },
  "language_info": {
   "codemirror_mode": {
    "name": "ipython",
    "version": 3
   },
   "file_extension": ".py",
   "mimetype": "text/x-python",
   "name": "python",
   "nbconvert_exporter": "python",
   "pygments_lexer": "ipython3",
   "version": "3.6.3"
  }
 },
 "nbformat": 4,
 "nbformat_minor": 2
}
