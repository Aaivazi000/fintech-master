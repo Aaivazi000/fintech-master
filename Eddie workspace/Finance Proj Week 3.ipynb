{
 "cells": [
  {
   "cell_type": "code",
   "execution_count": null,
   "metadata": {},
   "outputs": [],
   "source": [
    "import pandas as pd\n",
    "import numpy as np\n",
    "import csv\n",
    "from sklearn.neighbors import KNeighborsClassifier\n",
    "import matplotlib.pyplot as plt"
   ]
  },
  {
   "cell_type": "code",
   "execution_count": null,
   "metadata": {},
   "outputs": [],
   "source": [
    "#Import csv files\n",
    "df = pd.read_csv('SP500_sectors_filled2.csv', index_col = 'date', parse_dates=[\"date\"])\n",
    "sp = pd.read_csv('SP500.csv', index_col=\"Date\", parse_dates=[\"Date\"])"
   ]
  },
  {
   "cell_type": "code",
   "execution_count": null,
   "metadata": {},
   "outputs": [],
   "source": [
    "df.groupby('Name').mean()"
   ]
  },
  {
   "cell_type": "code",
   "execution_count": null,
   "metadata": {},
   "outputs": [],
   "source": [
    "#Get the company names\n",
    "company_name = df['Name'].unique()"
   ]
  },
  {
   "cell_type": "code",
   "execution_count": null,
   "metadata": {},
   "outputs": [],
   "source": [
    "#total % return from beginning to end of 5 year range\n",
    "import time\n",
    "company_returns_5yr = []\n",
    "start = time.time()\n",
    "for name in company_name:\n",
    "    first_close = df[df['Name'] == name].close[0]\n",
    "    last_close = df[df['Name'] == name].close[-1]\n",
    "    company_returns_5yr.append((last_close - first_close)/first_close)\n",
    "    \n",
    "end = time.time()\n",
    "print(end-start)"
   ]
  },
  {
   "cell_type": "code",
   "execution_count": null,
   "metadata": {},
   "outputs": [],
   "source": [
    "company_variables = pd.DataFrame(company_returns_5yr, columns = ['Price Return'])\n",
    "company_variables.index = company_name"
   ]
  },
  {
   "cell_type": "code",
   "execution_count": null,
   "metadata": {},
   "outputs": [],
   "source": [
    "len(df[df['Name'] == 'AAPL'].close)"
   ]
  },
  {
   "cell_type": "code",
   "execution_count": null,
   "metadata": {
    "scrolled": true
   },
   "outputs": [],
   "source": [
    "#Test\n",
    "change = (df[df['Name'] == 'VRTX'].per_change) * 100\n",
    "per_change_sp = ((sp.Close - sp.Open)/sp.Open)*100\n",
    "cov = np.cov(change,per_change_sp)\n",
    "var = np.var(per_change_sp)\n",
    "cov"
   ]
  },
  {
   "cell_type": "code",
   "execution_count": null,
   "metadata": {},
   "outputs": [],
   "source": [
    "all_date = sp.index.unique()"
   ]
  },
  {
   "cell_type": "code",
   "execution_count": null,
   "metadata": {},
   "outputs": [],
   "source": [
    "close = df[df['Name'] == 'DHR'].close\n",
    "set1 = set(close.index)\n",
    "set2 = set(all_date)\n",
    "set1.symmetric_difference(set2)"
   ]
  },
  {
   "cell_type": "code",
   "execution_count": null,
   "metadata": {},
   "outputs": [],
   "source": [
    "#Apparently I found missing data, there are some data that are missing dates."
   ]
  },
  {
   "cell_type": "code",
   "execution_count": null,
   "metadata": {},
   "outputs": [],
   "source": [
    "#Get the beta for each company, NaN if missing data\n",
    "beta_company = []\n",
    "for name in company_name:\n",
    "    print(name)\n",
    "    change = (df[df['Name'] == name].per_change)*100\n",
    "    sp_change = per_change_sp[close.index[0]:close.index[-1]]\n",
    "    if len(change) == len(sp_change):\n",
    "        cov = np.cov(change,sp_change)[0][1]\n",
    "        var = np.var(sp_change)\n",
    "    else:\n",
    "        cov = 'NaN'\n",
    "        var = 'NaN'\n",
    "    if (cov != 'NaN') and (var != 'NaN'):\n",
    "        beta_company.append(cov/var)\n",
    "    else:\n",
    "        beta_company.append('NaN')"
   ]
  },
  {
   "cell_type": "code",
   "execution_count": null,
   "metadata": {},
   "outputs": [],
   "source": [
    "beta = pd.DataFrame(data = beta_company, columns = ['Beta'])"
   ]
  },
  {
   "cell_type": "code",
   "execution_count": null,
   "metadata": {},
   "outputs": [],
   "source": [
    "beta.index = company_name\n",
    "beta"
   ]
  },
  {
   "cell_type": "code",
   "execution_count": null,
   "metadata": {},
   "outputs": [],
   "source": [
    "company_variables['Beta'] = beta.Beta\n",
    "company_variables"
   ]
  },
  {
   "cell_type": "code",
   "execution_count": null,
   "metadata": {},
   "outputs": [],
   "source": [
    "beta.to_csv('beta.csv')\n",
    "company_variables.to_csv('PR_B.csv')"
   ]
  },
  {
   "cell_type": "code",
   "execution_count": null,
   "metadata": {},
   "outputs": [],
   "source": [
    "#Something messed up for this. Using test above, cov didn't came out as nan.\n",
    "beta['Beta']['VRTX']"
   ]
  },
  {
   "cell_type": "code",
   "execution_count": null,
   "metadata": {
    "collapsed": true
   },
   "outputs": [],
   "source": []
  }
 ],
 "metadata": {
  "kernelspec": {
   "display_name": "Python 3",
   "language": "python",
   "name": "python3"
  },
  "language_info": {
   "codemirror_mode": {
    "name": "ipython",
    "version": 3
   },
   "file_extension": ".py",
   "mimetype": "text/x-python",
   "name": "python",
   "nbconvert_exporter": "python",
   "pygments_lexer": "ipython3",
   "version": "3.6.3"
  }
 },
 "nbformat": 4,
 "nbformat_minor": 2
}
