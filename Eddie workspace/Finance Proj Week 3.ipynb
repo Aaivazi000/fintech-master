{
 "cells": [
  {
   "cell_type": "code",
   "execution_count": null,
   "metadata": {},
   "outputs": [],
   "source": [
    "import pandas as pd\n",
    "import numpy as np\n",
    "import csv\n",
    "import matplotlib.pyplot as plt"
   ]
  },
  {
   "cell_type": "code",
   "execution_count": null,
   "metadata": {},
   "outputs": [],
   "source": [
    "#Import csv files\n",
    "df = pd.read_csv('SP500_sectors_filled2.csv', index_col = 'date', parse_dates=[\"date\"])\n",
    "sp = pd.read_csv('SP500.csv', index_col=\"Date\", parse_dates=[\"Date\"])"
   ]
  },
  {
   "cell_type": "code",
   "execution_count": null,
   "metadata": {},
   "outputs": [],
   "source": [
    "len(df.index.unique())\n",
    "#len(sp_change)"
   ]
  },
  {
   "cell_type": "code",
   "execution_count": null,
   "metadata": {},
   "outputs": [],
   "source": [
    "#Get the company names\n",
    "company_name = df['Name'].unique()"
   ]
  },
  {
   "cell_type": "code",
   "execution_count": null,
   "metadata": {},
   "outputs": [],
   "source": [
    "#total % return from beginning to end of 5 year range\n",
    "import time\n",
    "company_returns_5yr = []\n",
    "start = time.time()\n",
    "for name in company_name:\n",
    "    first_close = df[df['Name'] == name].close[0]\n",
    "    last_close = df[df['Name'] == name].close[-1]\n",
    "    company_returns_5yr.append((last_close - first_close)/first_close)\n",
    "    \n",
    "end = time.time()\n",
    "print(end-start)"
   ]
  },
  {
   "cell_type": "code",
   "execution_count": null,
   "metadata": {},
   "outputs": [],
   "source": [
    "company_variables = pd.DataFrame(company_returns_5yr, columns = ['Price_Return'])\n",
    "company_variables.index = company_name"
   ]
  },
  {
   "cell_type": "code",
   "execution_count": null,
   "metadata": {},
   "outputs": [],
   "source": [
    "len(df[df['Name'] == 'AAPL'].close)"
   ]
  },
  {
   "cell_type": "code",
   "execution_count": null,
   "metadata": {
    "scrolled": true
   },
   "outputs": [],
   "source": [
    "#Test\n",
    "change = (df[df['Name'] == 'VRTX'].per_change) * 100\n",
    "per_change_sp = ((sp.Close - sp.Open)/sp.Open)*100\n",
    "sp_change = per_change_sp[change.index[0]:change.index[-1]]\n",
    "\n",
    "cov = np.cov(change,per_change_sp)\n",
    "var = np.var(per_change_sp)\n",
    "cov"
   ]
  },
  {
   "cell_type": "code",
   "execution_count": null,
   "metadata": {},
   "outputs": [],
   "source": [
    "all_date = sp.index.unique()"
   ]
  },
  {
   "cell_type": "code",
   "execution_count": null,
   "metadata": {},
   "outputs": [],
   "source": [
    "change = df[df['Name'] == 'ALLE'].per_change\n",
    "test = per_change_sp\n",
    "#test.drop(missing.items(), inplace = True)\n",
    "#test2 = test[close.index == test.index]\n",
    "missing = []\n",
    "for name in company_name:\n",
    "    if len(df[df['Name'] == name].close) != len(test):\n",
    "        missing.append(name)\n",
    "missing"
   ]
  },
  {
   "cell_type": "code",
   "execution_count": null,
   "metadata": {},
   "outputs": [],
   "source": [
    "change = (df[df['Name'] == 'WRK'].per_change * 100).dropna()\n",
    "sp_change = per_change_sp[change.index[0]:change.index[-1]]\n",
    "test1 = pd.DataFrame(change)\n",
    "print(len(test1))\n",
    "test2 = pd.DataFrame(sp_change, columns = {\"test\":'0'})\n",
    "print(len(test2))\n",
    "test3 = test2.join(test1)\n",
    "test3 = test3.dropna()\n",
    "print(len(test3))\n",
    "np.cov(test3.test,test3.per_change)[0][1]"
   ]
  },
  {
   "cell_type": "code",
   "execution_count": null,
   "metadata": {},
   "outputs": [],
   "source": [
    "set1 = set(test3.index)\n",
    "set2 = set(sp_change.index)\n",
    "set1.symmetric_difference(set2)"
   ]
  },
  {
   "cell_type": "code",
   "execution_count": null,
   "metadata": {},
   "outputs": [],
   "source": [
    "#Apparently I found missing data, there are some data that are missing dates.\n",
    "def missing(a,b):\n",
    "    change1 = pd.DataFrame(a)\n",
    "    change2 = pd.DataFrame(b, columns = {\"sp\":\"0\"})\n",
    "    combine = change2.join(change1)\n",
    "    combine = combine.dropna()\n",
    "    cov = np.cov(combine.sp,combine.per_change)[0][1]\n",
    "    var = np.var(combine.sp)\n",
    "    return cov, var\n",
    "\n",
    "change = (df[df['Name'] == 'WRK'].per_change)*100\n",
    "sp_change = per_change_sp[change.index[0]:change.index[-1]]\n",
    "cov,var = missing(change,sp_change)\n",
    "cov"
   ]
  },
  {
   "cell_type": "code",
   "execution_count": null,
   "metadata": {},
   "outputs": [],
   "source": [
    "#Get the beta for each company, NaN if missing data\n",
    "beta_company = []\n",
    "for name in company_name:\n",
    "    change = (df[df['Name'] == name].per_change*100).dropna()\n",
    "    sp_change = per_change_sp[change.index[0]:change.index[-1]]\n",
    "    if len(change) == len(sp_change):\n",
    "        cov = np.cov(change,sp_change)[0][1]\n",
    "        var = np.var(sp_change)\n",
    "    else:\n",
    "        cov,var = missing(change,sp_change)\n",
    "        print(name)\n",
    "    if (cov != 'NaN' or cov != 'nan') and (var != 'NaN'):\n",
    "        beta_company.append(cov/var)\n",
    "    else:\n",
    "        beta_company.append('NaN')"
   ]
  },
  {
   "cell_type": "code",
   "execution_count": null,
   "metadata": {},
   "outputs": [],
   "source": [
    "beta = pd.DataFrame(data = beta_company, columns = ['Beta'])"
   ]
  },
  {
   "cell_type": "code",
   "execution_count": null,
   "metadata": {},
   "outputs": [],
   "source": [
    "beta.index = company_name\n",
    "#beta"
   ]
  },
  {
   "cell_type": "code",
   "execution_count": null,
   "metadata": {},
   "outputs": [],
   "source": [
    "company_variables['Beta'] = beta.Beta\n",
    "company_variables"
   ]
  },
  {
   "cell_type": "code",
   "execution_count": null,
   "metadata": {},
   "outputs": [],
   "source": [
    "beta.to_csv('beta.csv')\n",
    "company_variables.to_csv('PR_B.csv')"
   ]
  },
  {
   "cell_type": "code",
   "execution_count": null,
   "metadata": {},
   "outputs": [],
   "source": [
    "#Something messed up for this. Using test above, cov didn't came out as nan.\n",
    "#beta['Beta']['VRTX'] = 'NaN'\n",
    "beta['Beta']['WRK']\n",
    "\n",
    "#Filled in Data for this"
   ]
  },
  {
   "cell_type": "code",
   "execution_count": null,
   "metadata": {},
   "outputs": [],
   "source": [
    "X = company_variables.Price_Return\n",
    "y = company_variables.Beta\n",
    "plt.scatter(X,y)\n",
    "plt.show()"
   ]
  },
  {
   "cell_type": "code",
   "execution_count": null,
   "metadata": {},
   "outputs": [],
   "source": [
    "len(beta.Beta.dropna())"
   ]
  },
  {
   "cell_type": "code",
   "execution_count": null,
   "metadata": {},
   "outputs": [],
   "source": [
    "set1 = set(beta.Beta.dropna().index)\n",
    "set2 = set(company_name)\n",
    "set1.symmetric_difference(set2)"
   ]
  },
  {
   "cell_type": "code",
   "execution_count": null,
   "metadata": {},
   "outputs": [],
   "source": [
    "change = (df[df['Name'] == 'BHF'].per_change).dropna()*100\n",
    "sp_change = per_change_sp[change.index[0]:change.index[-1]]"
   ]
  },
  {
   "cell_type": "code",
   "execution_count": null,
   "metadata": {},
   "outputs": [],
   "source": []
  },
  {
   "cell_type": "code",
   "execution_count": null,
   "metadata": {},
   "outputs": [],
   "source": [
    "change1 = pd.DataFrame(change)\n",
    "change2 = pd.DataFrame(sp_change, columns = {\"sp\":\"0\"})\n",
    "combine = change2.join(change1)\n",
    "combine.dropna()\n",
    "cov = np.cov(combine.sp,combine.per_change)[0][1]"
   ]
  },
  {
   "cell_type": "code",
   "execution_count": null,
   "metadata": {},
   "outputs": [],
   "source": [
    "cov"
   ]
  },
  {
   "cell_type": "code",
   "execution_count": null,
   "metadata": {},
   "outputs": [],
   "source": [
    "(df[df['Name'] == 'BHF'].per_change).dropna()"
   ]
  },
  {
   "cell_type": "code",
   "execution_count": null,
   "metadata": {},
   "outputs": [],
   "source": []
  }
 ],
 "metadata": {
  "kernelspec": {
   "display_name": "Python 3",
   "language": "python",
   "name": "python3"
  },
  "language_info": {
   "codemirror_mode": {
    "name": "ipython",
    "version": 3
   },
   "file_extension": ".py",
   "mimetype": "text/x-python",
   "name": "python",
   "nbconvert_exporter": "python",
   "pygments_lexer": "ipython3",
   "version": "3.6.4"
  }
 },
 "nbformat": 4,
 "nbformat_minor": 2
}
