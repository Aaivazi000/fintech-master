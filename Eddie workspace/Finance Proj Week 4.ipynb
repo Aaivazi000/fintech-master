{
 "cells": [
  {
   "cell_type": "code",
   "execution_count": null,
   "metadata": {},
   "outputs": [],
   "source": [
    "import pandas as pd\n",
    "import numpy as np\n",
    "import csv\n",
    "import matplotlib.pyplot as plt\n",
    "%matplotlib inline"
   ]
  },
  {
   "cell_type": "code",
   "execution_count": null,
   "metadata": {},
   "outputs": [],
   "source": [
    "df = pd.read_csv(\"fundamentals.csv\")"
   ]
  },
  {
   "cell_type": "code",
   "execution_count": null,
   "metadata": {},
   "outputs": [],
   "source": [
    "print(df.isna().sum())\n",
    "print(list(df.isna().sum()))"
   ]
  },
  {
   "cell_type": "code",
   "execution_count": null,
   "metadata": {},
   "outputs": [],
   "source": [
    "# 6 columns missing values\n",
    "# Cash Ratio, Current Ratio, Quick Ratio, For Year, Earnings Per Share, Estimated Shares Oustanding\n",
    "# So I dropped them to see what data I can use.\n",
    "list(df.dropna(axis = 1).columns.values)"
   ]
  },
  {
   "cell_type": "markdown",
   "metadata": {},
   "source": [
    "# After looking at fundamental data of a company I decided to analyze several things\n",
    "\n",
    "\n",
    "1) Profit Margin = Net Income / Sales\n",
    " - higher = better for shareholders\n",
    " - Measured in %. Ex, 20% = 20c for every $1.\n",
    " - Best used to compare companies in the same industries that are similar to each other\n",
    " \n",
    " Profit Margin (check)\n",
    " ____________________________________________________________________________________________\n",
    "\n",
    "2) P/E ratio = Price per Share / Earning Per Share\n",
    " - lower, the better (varies tho). \n",
    " - ex P/E = 9 ( \\$9 per \\$1 ) vs P/E = 3 ( \\$3 per \\$1 ). You can get more returns from company of P/E = 3.\n",
    "\n",
    " Earning Per Share = Net Income - Dividends / Average Outstanding Shares\n",
    "               or  = Net Income / Weighted Shares Outstanding\n",
    " (check, have for some companies).\n",
    " ____________________________________________________________________________________________\n",
    "\n",
    "3) Dividend Yield = Annual Dividends per Share / Price per Share\n",
    " - Basically like capital gain but not sold. (%)\n",
    "\n",
    " - Don't have dividends (Possibly Punit haves?)\n",
    " ____________________________________________________________________________________________\n",
    "\n",
    "4) Debt to Equity Ratio = Total Liabilities / Shareholders' Equity\n",
    " - The higher, the riskier. (company can go bankrupt if cannot)\n",
    " \n",
    " Total Liabilities (check)\n",
    " \n",
    " Shareholders Equity = Total Assets (check) – Total Liabilities (check)\n",
    " \n",
    " or\n",
    " \n",
    " Shareholders Equity = Share Capital + Retained Earnings – Treasury Shares\n",
    " ____________________________________________________________________________________________\n",
    " \n",
    " These will be used to determine whether it has an affect on the stock market.\n",
    " Note.\n",
    " There is a difference between a stock and a share. Stock means overall all the companies. Share is a particular company within that overall companies. Example, you have 10 blocks, you can have a stock which represents all of those blocks, but a share represents only 1 of that 10 blocks."
   ]
  },
  {
   "cell_type": "code",
   "execution_count": null,
   "metadata": {},
   "outputs": [],
   "source": [
    "#Extracting Profit Margin\n",
    "companies_fundamentals = df['Ticker Symbol'].unique()\n",
    "fundamentals = pd.DataFrame(data = df['Profit Margin'])\n",
    "fundamentals.index = df['Ticker Symbol']\n",
    "#fundamentals"
   ]
  },
  {
   "cell_type": "code",
   "execution_count": null,
   "metadata": {},
   "outputs": [],
   "source": [
    "#Extracting Earnings Per Share\n",
    "test = pd.DataFrame(data = df['Earnings Per Share'])\n",
    "test.index = df['Ticker Symbol']\n",
    "test = test.rename(index = str, columns = {'Earnings Per Share': 'EPS'})\n",
    "#test"
   ]
  },
  {
   "cell_type": "code",
   "execution_count": null,
   "metadata": {},
   "outputs": [],
   "source": [
    "#Adding on!\n",
    "fundamentals['Earnings Per Share'] = test.EPS\n",
    "#fundamentals"
   ]
  },
  {
   "cell_type": "code",
   "execution_count": null,
   "metadata": {},
   "outputs": [],
   "source": [
    "#Extracting Debt to Equity\n",
    "test2 = pd.DataFrame(data = (df['Total Liabilities']/(df['Total Assets'] - df['Total Liabilities'])), columns = ['DER'])\n",
    "test2.index = df['Ticker Symbol']\n",
    "#test2"
   ]
  },
  {
   "cell_type": "code",
   "execution_count": null,
   "metadata": {},
   "outputs": [],
   "source": [
    "fundamentals['Debt to Equity'] = test2.DER\n",
    "#fundamentals"
   ]
  },
  {
   "cell_type": "code",
   "execution_count": null,
   "metadata": {},
   "outputs": [],
   "source": [
    "#Adding the \"For Year\"\n",
    "test3 = pd.DataFrame(data = df['For Year'])\n",
    "test3 = test3.rename(index = str, columns = {'For Year':'Year'})\n",
    "test3.index = df['Ticker Symbol']\n",
    "fundamentals['For Year'] = test3.Year\n",
    "#fundamentals"
   ]
  },
  {
   "cell_type": "code",
   "execution_count": null,
   "metadata": {},
   "outputs": [],
   "source": [
    "df2 = pd.read_csv('all_stocks_5yr.csv', index_col = 'date', parse_dates=[\"date\"])"
   ]
  },
  {
   "cell_type": "code",
   "execution_count": null,
   "metadata": {},
   "outputs": [],
   "source": [
    "df2.head()"
   ]
  },
  {
   "cell_type": "code",
   "execution_count": null,
   "metadata": {},
   "outputs": [],
   "source": [
    "#Export file for others!\n",
    "#fundamentals.to_csv('temp_data.csv')"
   ]
  },
  {
   "cell_type": "code",
   "execution_count": null,
   "metadata": {},
   "outputs": [],
   "source": [
    "companies = df2['Name'].unique()"
   ]
  },
  {
   "cell_type": "code",
   "execution_count": null,
   "metadata": {},
   "outputs": [],
   "source": [
    "#Check which companies are not the same\n",
    "set1 = set(companies_fundamentals)\n",
    "set2 = set(companies)\n",
    "same =  set2.intersection(set1)\n",
    "same"
   ]
  },
  {
   "cell_type": "code",
   "execution_count": null,
   "metadata": {},
   "outputs": [],
   "source": [
    "check = ['AAPL','CHK', 'NVDA']"
   ]
  },
  {
   "cell_type": "code",
   "execution_count": null,
   "metadata": {},
   "outputs": [],
   "source": [
    "#Extract % Price Return for names listed in check\n",
    "for_2016 = df2['2016']\n",
    "for_2014 = df2['2014']\n",
    "for_2015 = df2['2015']\n",
    "for_2013 = df2['2013']\n",
    "PR_2016 = {}\n",
    "PR_2014 = {}\n",
    "PR_2015 = {}\n",
    "PR_2013 = {}\n",
    "for name in check:\n",
    "    #For 2016\n",
    "    print(name)\n",
    "    first_close = for_2016[for_2016['Name'] == name].close[0]\n",
    "    last_close = for_2016[for_2016['Name'] == name].close[-1]\n",
    "    PR_2016[name] = (last_close - first_close)/first_close\n",
    "    #For 2014\n",
    "    first_close = for_2014[for_2014['Name'] == name].close[0]\n",
    "    last_close = for_2014[for_2014['Name'] == name].close[-1]\n",
    "    PR_2014[name] = (last_close - first_close)/first_close\n",
    "    #For 2015\n",
    "    first_close = for_2015[for_2015['Name'] == name].close[0]\n",
    "    last_close = for_2015[for_2015['Name'] == name].close[-1]\n",
    "    PR_2015[name] = (last_close - first_close)/first_close\n",
    "    #For 2013\n",
    "    first_close = for_2013[for_2013['Name'] == name].close[0]\n",
    "    last_close = for_2013[for_2013['Name'] == name].close[-1]\n",
    "    PR_2013[name] = (last_close - first_close)/first_close"
   ]
  },
  {
   "cell_type": "code",
   "execution_count": null,
   "metadata": {},
   "outputs": [],
   "source": [
    "print(\"For 2016: \" + str(PR_2016))\n",
    "print(\"For 2014: \" + str(PR_2014))\n",
    "print(\"For 2015: \" + str(PR_2015))\n",
    "print(\"For 2013: \" + str(PR_2013))"
   ]
  },
  {
   "cell_type": "code",
   "execution_count": null,
   "metadata": {},
   "outputs": [],
   "source": [
    "fund_2013 = fundamentals[fundamentals['For Year'] == 2013]\n",
    "fund_2014 = fundamentals[fundamentals['For Year'] == 2014]\n",
    "fund_2015 = fundamentals[fundamentals['For Year'] == 2015]"
   ]
  },
  {
   "cell_type": "code",
   "execution_count": null,
   "metadata": {},
   "outputs": [],
   "source": [
    "PM_2013 = []\n",
    "EPS_2013 = []\n",
    "DE_2013 = []\n",
    "PM_2014 = []\n",
    "EPS_2014 = []\n",
    "DE_2014 = []\n",
    "PM_2015 = []\n",
    "EPS_2015 = []\n",
    "DE_2015 = []\n",
    "for name in check:\n",
    "    #For 2013\n",
    "    PM_2013.append(fund_2013.loc[name,'Profit Margin'])\n",
    "    EPS_2013.append(fund_2013.loc[name,'Earnings Per Share'])\n",
    "    DE_2013.append(fund_2013.loc[name,'Debt to Equity'])\n",
    "    #For 2014\n",
    "    PM_2014.append(fund_2014.loc[name,'Profit Margin'])\n",
    "    EPS_2014.append(fund_2014.loc[name,'Earnings Per Share'])\n",
    "    DE_2014.append(fund_2014.loc[name,'Debt to Equity'])\n",
    "    #For 2015\n",
    "    PM_2015.append(fund_2015.loc[name,'Profit Margin'])\n",
    "    EPS_2015.append(fund_2015.loc[name,'Earnings Per Share'])\n",
    "    DE_2015.append(fund_2015.loc[name,'Debt to Equity'])"
   ]
  },
  {
   "cell_type": "code",
   "execution_count": null,
   "metadata": {},
   "outputs": [],
   "source": [
    "fundamentals.head()"
   ]
  },
  {
   "cell_type": "code",
   "execution_count": null,
   "metadata": {},
   "outputs": [],
   "source": [
    "plt.bar(check, PM_2013, width = 0.5, align = 'center', alpha = 0.5, color = 'GREEN')\n",
    "plt.ylabel('Profit Margin')\n",
    "plt.title('For Year 2013')"
   ]
  },
  {
   "cell_type": "code",
   "execution_count": null,
   "metadata": {},
   "outputs": [],
   "source": [
    "plt.bar(check, EPS_2013, width = 0.5, align = 'center', alpha = 0.5, color = 'BLUE')\n",
    "plt.ylabel('Earnings Per Share')\n",
    "plt.title('For Year 2013')"
   ]
  },
  {
   "cell_type": "code",
   "execution_count": null,
   "metadata": {},
   "outputs": [],
   "source": [
    "plt.bar(check, DE_2013, width = 0.5, align = 'center', alpha = 0.5, color = 'RED')\n",
    "plt.ylabel('Debt To Equity')\n",
    "plt.title('For Year 2013')"
   ]
  },
  {
   "cell_type": "code",
   "execution_count": null,
   "metadata": {},
   "outputs": [],
   "source": [
    "plt.bar(check, PM_2015, width = 0.5, align = 'center', alpha = 0.5, color = 'GREEN')\n",
    "plt.ylabel('Profit Margin')\n",
    "plt.title('For Year 2015')"
   ]
  },
  {
   "cell_type": "code",
   "execution_count": null,
   "metadata": {},
   "outputs": [],
   "source": [
    "plt.bar(check, EPS_2015, width = 0.5, align = 'center', alpha = 0.5, color = 'BLUE')\n",
    "plt.ylabel('Earnings Per Share')\n",
    "plt.title('For Year 2015')"
   ]
  },
  {
   "cell_type": "code",
   "execution_count": null,
   "metadata": {},
   "outputs": [],
   "source": [
    "plt.bar(check, DE_2015, width = 0.5, align = 'center', alpha = 0.5, color = 'RED')\n",
    "plt.ylabel('Debt To Equity')\n",
    "plt.title('For Year 2015')"
   ]
  },
  {
   "cell_type": "code",
   "execution_count": null,
   "metadata": {},
   "outputs": [],
   "source": [
    "plt.bar(check, PM_2014, width = 0.5, align = 'center', alpha = 0.5, color = 'GREEN')\n",
    "plt.ylabel('Profit Margin')\n",
    "plt.title('For Year 2014')"
   ]
  },
  {
   "cell_type": "code",
   "execution_count": null,
   "metadata": {},
   "outputs": [],
   "source": [
    "plt.bar(check, EPS_2014, width = 0.5, align = 'center', alpha = 0.5, color = 'BLUE')\n",
    "plt.ylabel('Earnings Per Share')\n",
    "plt.title('For Year 2014')"
   ]
  },
  {
   "cell_type": "code",
   "execution_count": null,
   "metadata": {},
   "outputs": [],
   "source": [
    "plt.bar(check, DE_2014, width = 0.5, align = 'center', alpha = 0.5, color = 'RED')\n",
    "plt.ylabel('Debt To Equity')\n",
    "plt.title('For Year 2014')"
   ]
  },
  {
   "cell_type": "code",
   "execution_count": null,
   "metadata": {},
   "outputs": [],
   "source": []
  }
 ],
 "metadata": {
  "kernelspec": {
   "display_name": "Python 3",
   "language": "python",
   "name": "python3"
  },
  "language_info": {
   "codemirror_mode": {
    "name": "ipython",
    "version": 3
   },
   "file_extension": ".py",
   "mimetype": "text/x-python",
   "name": "python",
   "nbconvert_exporter": "python",
   "pygments_lexer": "ipython3",
   "version": "3.6.4"
  }
 },
 "nbformat": 4,
 "nbformat_minor": 2
}
