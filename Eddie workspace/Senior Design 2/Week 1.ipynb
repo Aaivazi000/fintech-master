{
 "cells": [
  {
   "cell_type": "markdown",
   "metadata": {},
   "source": [
    "# SMART GOAL #1\n",
    "GAN RESEARCH\n",
    "\n",
    "Source Link #1 : https://medium.com/@devnag/generative-adversarial-networks-gans-in-50-lines-of-code-pytorch-e81b79659e3f <br>\n",
    "Source Link #2 : https://www.youtube.com/watch?v=Sw9r8CL98N0 <br>\n",
    "\n",
    "GAN is compromised of 2 different models, the generator and the discriminator. <br>\n",
    "<b>Generator</b> is an unsupervised learning and takes input data and blindly creates a new \"fake\" data. <br>\n",
    "<b>Discriminator</b> is a supervised learning takes the output data from the Generator and the real data. It classifies data from the Generator as real (if generator actaully generated it) or fake (if it's taken from the data set).\n",
    "\n",
    "Both the generator and discriminator will be competing against each other to train themselves. <br>\n",
    "The result we will want is the discriminator will not be able to distinguish if the images generated are fake or not.\n",
    "\n",
    "I will need to use TensorFlow, Keras, PyTorch <br>\n",
    "Here is the link to the possible models in TensorFlow : https://github.com/wiseodd/generative-models/tree/master/GAN <br>\n",
    "In this case, I will need to identify which model will work best with our dataset (possible future smart goals).\n",
    "\n",
    "#### QUESTIONS\n",
    "What type of datasets does GAN take?<br>\n",
    "How can we tweak our architect of the GAN?<br>\n",
    "What type of GAN will we be using?<br>\n",
    "\n",
    "#### How can we implement the GAN's generator and discriminator?\n",
    "Tutorial on how we can implement a simple GAN : https://blog.paperspace.com/implementing-gans-in-tensorflow/ <br>\n",
    "We need to understand what is going on inside of the GAN. Therefore, we will also need to implement our own testing GAN to get an understanding of how we can use and create future GANS.\n",
    "\n",
    "Here I follow a tutorial and try to understand how to implement the GAN using TensorFlow."
   ]
  },
  {
   "cell_type": "code",
   "execution_count": null,
   "metadata": {},
   "outputs": [],
   "source": [
    "#Import libraries for testing\n",
    "import tensorflow as tf\n",
    "import numpy as np\n",
    "import seaborn as sb\n",
    "import matplotlib.pyplot as plt\n",
    "\n",
    "batch_size = 256"
   ]
  },
  {
   "cell_type": "code",
   "execution_count": null,
   "metadata": {},
   "outputs": [],
   "source": [
    "def sample_Z(m, n):\n",
    "    return np.random.uniform(-1., 1., size=[m, n])"
   ]
  },
  {
   "cell_type": "code",
   "execution_count": null,
   "metadata": {},
   "outputs": [],
   "source": [
    "#In the tutorial, the user creates a random data of 10000 samples, 2D array. Here I will use data sample from SMART Goal #4 as input.\n",
    "#Generator. Z = data input, hsize = [16 nodes for layer1, 16 nodes for layer2], reuse = false (will not reuse layers)\n",
    "def generator(Z,hsize=[16, 16],reuse=True):\n",
    "    with tf.variable_scope(\"GAN/Generator\",reuse=reuse):\n",
    "        h1 = tf.layers.dense(Z,hsize[0],activation=tf.nn.leaky_relu)\n",
    "        h2 = tf.layers.dense(h1,hsize[1],activation=tf.nn.leaky_relu)\n",
    "        out = tf.layers.dense(h2,1)\n",
    "\n",
    "    return out"
   ]
  },
  {
   "cell_type": "code",
   "execution_count": null,
   "metadata": {},
   "outputs": [],
   "source": [
    "#Discriminator. X = our original dataset, other parameters are same as above.\n",
    "#This also haves an extra hidden layer, h3, for....\n",
    "def discriminator(X,hsize=[16, 16],reuse=False):\n",
    "    with tf.variable_scope(\"GAN/Discriminator\",reuse=reuse):\n",
    "        h1 = tf.layers.dense(X,hsize[0],activation=tf.nn.leaky_relu)\n",
    "        h2 = tf.layers.dense(h1,hsize[1],activation=tf.nn.leaky_relu)\n",
    "        h3 = tf.layers.dense(h2,1)\n",
    "        out = tf.layers.dense(h3,1)\n",
    "\n",
    "    return out, h3"
   ]
  },
  {
   "cell_type": "code",
   "execution_count": null,
   "metadata": {},
   "outputs": [],
   "source": [
    "#These placeholders are storage for us, in which tf.float32 is the type (in this case 32 bit float)\n",
    "#[None,2] represents : None = any number of rows, 2 = 2 columns.\n",
    "X = tf.placeholder(tf.float32,[None,1])\n",
    "Z = tf.placeholder(tf.float32,[None,1])"
   ]
  },
  {
   "cell_type": "code",
   "execution_count": null,
   "metadata": {},
   "outputs": [],
   "source": [
    "#Here we set up the generator and discriminator\n",
    "#G_sample = generated data, r_logits/r_rep = real data, f_logits,g_rep = generated data\n",
    "G_sample = generator(Z)\n",
    "r_logits, r_rep = discriminator(X)\n",
    "f_logits, g_rep = discriminator(G_sample,reuse=True)"
   ]
  },
  {
   "cell_type": "code",
   "execution_count": null,
   "metadata": {},
   "outputs": [],
   "source": [
    "#The loss function for discriminator and generator, need to understand how this works and how it can be tweaked.\n",
    "disc_loss = tf.reduce_mean(tf.nn.sigmoid_cross_entropy_with_logits(logits=r_logits,labels=tf.ones_like(r_logits)) + tf.nn.sigmoid_cross_entropy_with_logits(logits=f_logits,labels=tf.zeros_like(f_logits)))\n",
    "gen_loss = tf.reduce_mean(tf.nn.sigmoid_cross_entropy_with_logits(logits=f_logits,labels=tf.ones_like(f_logits)))"
   ]
  },
  {
   "cell_type": "code",
   "execution_count": null,
   "metadata": {},
   "outputs": [],
   "source": [
    "#The training for the discriminator and genereator, once again I will need to understand how this works and how it can be tweaked.\n",
    "gen_vars = tf.get_collection(tf.GraphKeys.GLOBAL_VARIABLES,scope=\"GAN/Generator\")\n",
    "disc_vars = tf.get_collection(tf.GraphKeys.GLOBAL_VARIABLES,scope=\"GAN/Discriminator\")\n",
    "\n",
    "gen_step = tf.train.RMSPropOptimizer(learning_rate=0.001).minimize(gen_loss,var_list = gen_vars) # G Train step\n",
    "disc_step = tf.train.RMSPropOptimizer(learning_rate=0.001).minimize(disc_loss,var_list = disc_vars) # D Train step"
   ]
  },
  {
   "cell_type": "code",
   "execution_count": null,
   "metadata": {},
   "outputs": [],
   "source": [
    "#Here is the iteration for the GAN, again, I will need to understand how this works and tweaked.\n",
    "for i in range(999):\n",
    "    X_batch = random_data(n=batch_size)\n",
    "    Z_batch = sample_Z(batch_size, 1)\n",
    "    _, dloss = sess.run([disc_step, disc_loss], feed_dict={X: X_batch, Z: Z_batch})\n",
    "    _, gloss = sess.run([gen_step, gen_loss], feed_dict={Z: Z_batch})\n",
    "\n",
    "    print (\"Iterations: %d\\t Discriminator loss: %.4f\\t Generator loss: %.4f\"%(i,dloss,gloss))"
   ]
  },
  {
   "cell_type": "code",
   "execution_count": null,
   "metadata": {},
   "outputs": [],
   "source": [
    "#Need to fix iterator (shape) and generator"
   ]
  },
  {
   "cell_type": "markdown",
   "metadata": {},
   "source": [
    "# SMART GOAL #2\n",
    "FUNDAMENTAL ANALYSIS RESEARCH\n",
    "\n",
    "As we already know, fundamental analysis looks at the health and performance of the companies or industries by analyzing key values(fundamentals), rather than the technical data. It also uses quantitative analysis to make decisions. Before I talk more about quantitative analysis, I would like to talk about the 2 factors in fundamental analysis, long and short.\n",
    "\n",
    "<b>Long</b> - buy securities and usually haves no plan to sell till far future (Usually a company who's health and performance is very good). This is basically the most common strategy most investors use (though a lot do not know how to perform such evaluation). <br>\n",
    "\n",
    "<b>Short</b> - sell securities and buys back at a lower price (Usually companies with mild or bad health and performance). By doing this, one can earn back some money while retaining the same amount of securities originally started with. Hedgefunds often use this strategy to make money. <br>\n",
    "\n",
    "Overall performance and health can be affected by macro and micro environment.<br>\n",
    "\n",
    "<b>Macro (external) environment </b> refers to all forces outside of the company, that will affect the micro environment of the company. External is composed of 6 factors, which are demography, economy, physical, socio-cultural, politico-legal, and technological.\n",
    "\n",
    "<b>Micro (internal) environment </b> refers to all internal forces which are the consumers, competitors, suppliers, dealers, and distributors.\n",
    "\n",
    "<b>Quantitative analysis </b> trys to understand behavior by using mathematical and statistical modeling, measurement, and research. It also looks at key values to determine when to sell or buy securities. It utilizies it's statistical, <br>\n",
    "Key values:\n",
    "- P/E (Price per earning, Stock price / EPS) determines the ratio of how much you pay per earnings.\n",
    "- EPS (Earnings per Share, Net Income / # Common Shared Stocks) measures the companies profit per outstanding stock\n",
    "- Working Captial (Current Assets / Current Liabilities) determines how quickly they can pay off debts\n",
    "- Quick Ratio (Current Assets - Invetories / Current Liabilities) determines how much cash they can get to pay off debts (excluding inventories because it takes a while to be liquidated)\n",
    "- Debt-Equity Ratio (Total Debt / Shareholder's Equity) determines how much the company owes for every dollar. This is very important to understand because there are 3 different perspectives to this. 1) High D/E means the company owes a lot (but this can potentially bring the company much more profit from buying equipments, workers, etc...) 2) Low D/E means the company owes little which is stable but can mean they're not taking advantage to leverage higher profits. 3) Negative D/E, though this is rare, this means that the company does not have any debt and is usually a stock you would want to invest in, if you can find it.\n",
    "- Return on Equity (Net Income / Shareholder's Equity) determines how much profit a company makes with shareholder's money. The higher the better.\n",
    "- More to be updated...\n",
    "\n",
    "Source #1 : https://www.marketing91.com/what-is-macro-environment/ <br>\n",
    "Source #2 : https://www.investopedia.com/financial-edge/0910/6-basic-financial-ratios-and-what-they-tell-you.aspx <br>"
   ]
  },
  {
   "cell_type": "markdown",
   "metadata": {},
   "source": [
    "# SMART GOAL #4\n",
    "RANDOM WALK SIMULATION"
   ]
  },
  {
   "cell_type": "code",
   "execution_count": 1,
   "metadata": {},
   "outputs": [],
   "source": [
    "import numpy as np\n",
    "from numpy import array\n",
    "np.random.seed(1000)"
   ]
  },
  {
   "cell_type": "code",
   "execution_count": 2,
   "metadata": {},
   "outputs": [],
   "source": [
    "#Number max returns 0 or higher\n",
    "def max(num):\n",
    "    if num > 0:\n",
    "        return num\n",
    "    return 0"
   ]
  },
  {
   "cell_type": "code",
   "execution_count": 3,
   "metadata": {},
   "outputs": [],
   "source": [
    "def determineResult (num):\n",
    "    if num >= 1:\n",
    "        return 1\n",
    "    elif num < 1 and num > -1:\n",
    "        return 0\n",
    "    elif num <= -1:\n",
    "        return -1"
   ]
  },
  {
   "cell_type": "code",
   "execution_count": 7,
   "metadata": {},
   "outputs": [],
   "source": [
    "def random_data(n = 999):\n",
    "    #randomStock starts at $100\n",
    "    randomStock = [100]\n",
    "\n",
    "    #There will be 1000 closing price total\n",
    "    #result states whether price has increased (1), decreased (-1), or same (0)\n",
    "    for i in range(999):\n",
    "        result = 0\n",
    "        openPrice = randomStock[-1]\n",
    "        randomPercentWalk = 0\n",
    "\n",
    "        if result == 0:\n",
    "            randomPercentWalk = np.random.uniform(-.02,.02)\n",
    "\n",
    "        #Result increased before\n",
    "        elif result == 1:\n",
    "            #33% it'll increase again, determines % increase/decrease\n",
    "            probIncrease = np.random.randint(1,10)\n",
    "            if probIncrease % 3 == 0:\n",
    "                randomPercentWalk = np.random.uniform(0,.02)\n",
    "            else:\n",
    "                randomPercentWalk = np.random.uniform(-.02,.02)\n",
    "\n",
    "        #Result decreased before\n",
    "        elif result == -1:\n",
    "            #33% it'll increase again, determines % increase/decrease\n",
    "            probIncrease = np.random.randint(1,10)\n",
    "            if probIncrease % 3 == 0:\n",
    "                randomPercentWalk = np.random.uniform(-0.02,0)\n",
    "            else:\n",
    "                randomPercentWalk = np.random.uniform(-.02,.02)\n",
    "\n",
    "        #randNum determines if increase is abnormal or not\n",
    "        #if abnormal randX determines by how much times it'll multiply by\n",
    "        randNum = np.random.randint(1,11)\n",
    "        if randNum > 1 and randNum < 10:\n",
    "            closePrice = openPrice + openPrice * randomPercentWalk\n",
    "        else:\n",
    "            randX = np.random.randint(2,4) * randomPercentWalk\n",
    "            closePrice = openPrice + openPrice * randX\n",
    "\n",
    "        #Set result\n",
    "        result = determineResult(randomPercentWalk)\n",
    "\n",
    "        randomStock.append(max(closePrice))\n",
    "\n",
    "    randomStock = np.array(randomStock)\n",
    "    return randomStock\n",
    "    #Update 1 added conditional probability (result)\n",
    "    #Update 2 converted list into nparray for GAN testing\n",
    "randomStock = random_data()"
   ]
  },
  {
   "cell_type": "code",
   "execution_count": 8,
   "metadata": {},
   "outputs": [
    {
     "data": {
      "text/plain": [
       "[<matplotlib.lines.Line2D at 0x10f2e4780>]"
      ]
     },
     "execution_count": 8,
     "metadata": {},
     "output_type": "execute_result"
    },
    {
     "data": {
      "image/png": "[encoded data removed]",
      "text/plain": [
       "<matplotlib.figure.Figure at 0x10d27a978>"
      ]
     },
     "metadata": {},
     "output_type": "display_data"
    }
   ],
   "source": [
    "from matplotlib import pyplot as plt\n",
    "plt.plot(randomStock)"
   ]
  },
  {
   "cell_type": "code",
   "execution_count": null,
   "metadata": {},
   "outputs": [],
   "source": [
    "#Testing to see if tensorflow works.\n",
    "import tensorflow as tf\n",
    "hello = tf.constant('Hello, TensorFlow!')\n",
    "sess = tf.Session()\n",
    "print(sess.run(hello))"
   ]
  },
  {
   "cell_type": "code",
   "execution_count": null,
   "metadata": {},
   "outputs": [],
   "source": [
    "randomStock = array(randomStock).reshape(1000,1)"
   ]
  },
  {
   "cell_type": "code",
   "execution_count": null,
   "metadata": {},
   "outputs": [],
   "source": [
    "len(randomStock)"
   ]
  },
  {
   "cell_type": "code",
   "execution_count": null,
   "metadata": {},
   "outputs": [],
   "source": [
    "randomStock"
   ]
  },
  {
   "cell_type": "code",
   "execution_count": null,
   "metadata": {},
   "outputs": [],
   "source": []
  }
 ],
 "metadata": {
  "kernelspec": {
   "display_name": "Python 3",
   "language": "python",
   "name": "python3"
  },
  "language_info": {
   "codemirror_mode": {
    "name": "ipython",
    "version": 3
   },
   "file_extension": ".py",
   "mimetype": "text/x-python",
   "name": "python",
   "nbconvert_exporter": "python",
   "pygments_lexer": "ipython3",
   "version": "3.6.4"
  }
 },
 "nbformat": 4,
 "nbformat_minor": 2
}
