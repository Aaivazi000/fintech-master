{
 "cells": [
  {
   "cell_type": "markdown",
   "metadata": {},
   "source": [
    "# SMART GOAL #1\n",
    "\n",
    "Source Link #1 : https://medium.com/@devnag/generative-adversarial-networks-gans-in-50-lines-of-code-pytorch-e81b79659e3f <br>\n",
    "Source Link #2 : https://www.youtube.com/watch?v=Sw9r8CL98N0 <br>\n",
    "\n",
    "GAN is compromised of 2 different models, the generator and the discriminator. <br>\n",
    "Generator is an unsupervised learning and takes input data and blindly creates a new \"fake\" data. <br>\n",
    "Discriminator is a supervised learning takes the output data from the Generator and the real data. <br>\n",
    "It classifies data from the Generator as real (if generator actaully generated it) or fake (if it's taken from the data set).<br>\n",
    "Both the generator and discriminator will be competing against each other to train themselves. <br>\n",
    "The result I will want is the discriminator will not be able to distinguish if the images generated are fake or not.\n",
    "\n",
    "I will need to install TensorFlow onto my jupyter notebook. <br>\n",
    "Here is the link to the possible models in TensorFlow : https://github.com/wiseodd/generative-models/tree/master/GAN <br>\n",
    "In this case, I will need to identify which model will work best with our dataset (possible future smart goals).\n",
    "\n",
    "#### QUESTIONS\n",
    "What type of datasets does GAN take?\n"
   ]
  },
  {
   "cell_type": "code",
   "execution_count": null,
   "metadata": {},
   "outputs": [],
   "source": [
    "import tensorflow as tf\n",
    "import keras"
   ]
  },
  {
   "cell_type": "markdown",
   "metadata": {},
   "source": [
    "# SMART GOAL #4"
   ]
  },
  {
   "cell_type": "code",
   "execution_count": 35,
   "metadata": {},
   "outputs": [],
   "source": [
    "import numpy as np\n",
    "np.random.seed(1000)"
   ]
  },
  {
   "cell_type": "code",
   "execution_count": 36,
   "metadata": {},
   "outputs": [],
   "source": [
    "#Number max returns 0 or higher\n",
    "def max(num):\n",
    "    if num > 0:\n",
    "        return num\n",
    "    return 0"
   ]
  },
  {
   "cell_type": "code",
   "execution_count": 37,
   "metadata": {},
   "outputs": [],
   "source": [
    "def determineResult (num):\n",
    "    if num >= 1:\n",
    "        return 1\n",
    "    elif num < 1 and num > -1:\n",
    "        return 0\n",
    "    elif num <= -1:\n",
    "        return -1"
   ]
  },
  {
   "cell_type": "code",
   "execution_count": 38,
   "metadata": {},
   "outputs": [],
   "source": [
    "#randomStock starts at $100\n",
    "randomStock = [100]\n",
    "\n",
    "#There will be 1000 closing price total\n",
    "#result states whether price has increased (1), decreased (-1), or same (0)\n",
    "for i in range(999):\n",
    "    result = 0\n",
    "    openPrice = randomStock[-1]\n",
    "    randomPercentWalk = 0\n",
    "\n",
    "    if result == 0:\n",
    "        randomPercentWalk = np.random.uniform(-.02,.02)\n",
    "    \n",
    "    #Result increased before\n",
    "    elif result == 1:\n",
    "        #33% it'll increase again, determines % increase/decrease\n",
    "        probIncrease = np.random.randint(1,10)\n",
    "        if probIncrease % 3 == 0:\n",
    "            randomPercentWalk = np.random.uniform(0,.02)\n",
    "        else:\n",
    "            randomPercentWalk = np.random.uniform(-.02,.02)\n",
    "    \n",
    "    #Result decreased before\n",
    "    elif result == -1:\n",
    "        #33% it'll increase again, determines % increase/decrease\n",
    "        probIncrease = np.random.randint(1,10)\n",
    "        if probIncrease % 3 == 0:\n",
    "            randomPercentWalk = np.random.uniform(-0.02,0)\n",
    "        else:\n",
    "            randomPercentWalk = np.random.uniform(-.02,.02)\n",
    "    \n",
    "    #randNum determines if increase is abnormal or not\n",
    "    #if abnormal randX determines by how much times it'll multiply by\n",
    "    randNum = np.random.randint(1,11)\n",
    "    if randNum > 1 and randNum < 10:\n",
    "        closePrice = openPrice + openPrice * randomPercentWalk\n",
    "    else:\n",
    "        randX = np.random.randint(2,4) * randomPercentWalk\n",
    "        closePrice = openPrice + openPrice * randX\n",
    "    \n",
    "    #Set result\n",
    "    result = determineResult(randomPercentWalk)\n",
    "        \n",
    "    randomStock.append(max(closePrice))\n",
    "    \n",
    "#Update 1 added conditional probability (result)"
   ]
  },
  {
   "cell_type": "code",
   "execution_count": 39,
   "metadata": {},
   "outputs": [
    {
     "data": {
      "text/plain": [
       "[<matplotlib.lines.Line2D at 0x11ada6da0>]"
      ]
     },
     "execution_count": 39,
     "metadata": {},
     "output_type": "execute_result"
    },
    {
     "data": {
      "image/png": "[encoded data removed]",
      "text/plain": [
       "<matplotlib.figure.Figure at 0x11acc8668>"
      ]
     },
     "metadata": {},
     "output_type": "display_data"
    }
   ],
   "source": [
    "from matplotlib import pyplot as plt\n",
    "plt.plot(randomStock)"
   ]
  },
  {
   "cell_type": "code",
   "execution_count": null,
   "metadata": {},
   "outputs": [],
   "source": []
  },
  {
   "cell_type": "code",
   "execution_count": null,
   "metadata": {},
   "outputs": [],
   "source": []
  }
 ],
 "metadata": {
  "kernelspec": {
   "display_name": "Python 3",
   "language": "python",
   "name": "python3"
  },
  "language_info": {
   "codemirror_mode": {
    "name": "ipython",
    "version": 3
   },
   "file_extension": ".py",
   "mimetype": "text/x-python",
   "name": "python",
   "nbconvert_exporter": "python",
   "pygments_lexer": "ipython3",
   "version": "3.6.4"
  }
 },
 "nbformat": 4,
 "nbformat_minor": 2
}
