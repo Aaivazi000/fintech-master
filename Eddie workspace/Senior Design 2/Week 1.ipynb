{
 "cells": [
  {
   "cell_type": "markdown",
   "metadata": {},
   "source": [
    "Source Link : https://medium.com/@devnag/generative-adversarial-networks-gans-in-50-lines-of-code-pytorch-e81b79659e3f\n",
    "\n",
    "GAN is compromised of 2 different models, the generator and the discriminator.\n",
    "Generator is an unsupervised learning and takes input data and blindly creates a new \"fake\" data.\n",
    "Discriminator is a supervised learning takes the output data from the Generator and the real data.\n",
    "It classifies data from the Generator as real (if it is from the real data) or fake (if it can't distinguish between both datas).\n",
    "\n",
    "I will need to install TensorFlow onto my jupyter notebook.\n",
    "Here is the link to the possible models in TensorFlow : https://github.com/wiseodd/generative-models/tree/master/GAN\n",
    "In this case, I will need to identify which model will work best with our dataset (possible future smart goals).\n",
    "\n"
   ]
  }
 ],
 "metadata": {
  "kernelspec": {
   "display_name": "Python 3",
   "language": "python",
   "name": "python3"
  },
  "language_info": {
   "codemirror_mode": {
    "name": "ipython",
    "version": 3
   },
   "file_extension": ".py",
   "mimetype": "text/x-python",
   "name": "python",
   "nbconvert_exporter": "python",
   "pygments_lexer": "ipython3",
   "version": "3.6.4"
  }
 },
 "nbformat": 4,
 "nbformat_minor": 2
}
