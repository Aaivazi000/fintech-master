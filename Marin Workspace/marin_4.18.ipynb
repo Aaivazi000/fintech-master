{
 "cells": [
  {
   "cell_type": "code",
   "execution_count": 2,
   "metadata": {
    "collapsed": true
   },
   "outputs": [],
   "source": [
    "from pydrive.auth import GoogleAuth\n",
    "from pydrive.drive import GoogleDrive\n",
    "import pandas as pd\n",
    "import numpy as np\n",
    "from matplotlib import pyplot as plt\n",
    "from pandas.plotting import lag_plot\n",
    "import sklearn.linear_model\n",
    "import time\n",
    "%matplotlib inline"
   ]
  },
  {
   "cell_type": "markdown",
   "metadata": {},
   "source": [
    "# Downloading data directly from Google"
   ]
  },
  {
   "cell_type": "code",
   "execution_count": null,
   "metadata": {
    "collapsed": true
   },
   "outputs": [],
   "source": [
    "'''\n",
    "Follow directions here to create an API to access the data hosted on \n",
    "the drive: https://pythonhosted.org/PyDrive/quickstart.html\n",
    "\n",
    "Once the client_secrets.json file is in ./Marin Workspace/ run the code \n",
    "below just once\n",
    "'''\n",
    "gauth = GoogleAuth()\n",
    "gauth.LocalWebserverAuth()"
   ]
  },
  {
   "cell_type": "code",
   "execution_count": null,
   "metadata": {
    "collapsed": true
   },
   "outputs": [],
   "source": [
    "'''\n",
    "Run the following code to download the data using the file's ID\n",
    "'''\n",
    "all_stocks_5yr = '1jpwvbmAjtqZJaRaTdJ4sWHyBDL6V8hzK'\n",
    "drive = GoogleDrive(gauth)\n",
    "data = drive.CreateFile({'id': all_stocks_5yr})\n",
    "data.GetContentFile('all_stocks_5yr.csv')"
   ]
  },
  {
   "cell_type": "markdown",
   "metadata": {},
   "source": [
    "# Load stock data and sector data"
   ]
  },
  {
   "cell_type": "code",
   "execution_count": 3,
   "metadata": {},
   "outputs": [],
   "source": [
    "stock_data = pd.read_csv('all_stocks_5yr.csv', parse_dates = ['date'])#, index_col = 'Name')\n",
    "sector_data = pd.read_csv('sectors.csv')#, index_col = 'Symbol')"
   ]
  },
  {
   "cell_type": "code",
   "execution_count": 4,
   "metadata": {},
   "outputs": [
    {
     "data": {
      "text/html": [
       "<div>\n",
       "<style>\n",
       "    .dataframe thead tr:only-child th {\n",
       "        text-align: right;\n",
       "    }\n",
       "\n",
       "    .dataframe thead th {\n",
       "        text-align: left;\n",
       "    }\n",
       "\n",
       "    .dataframe tbody tr th {\n",
       "        vertical-align: top;\n",
       "    }\n",
       "</style>\n",
       "<table border=\"1\" class=\"dataframe\">\n",
       "  <thead>\n",
       "    <tr style=\"text-align: right;\">\n",
       "      <th></th>\n",
       "      <th>date</th>\n",
       "      <th>open</th>\n",
       "      <th>high</th>\n",
       "      <th>low</th>\n",
       "      <th>close</th>\n",
       "      <th>volume</th>\n",
       "      <th>Name</th>\n",
       "    </tr>\n",
       "  </thead>\n",
       "  <tbody>\n",
       "    <tr>\n",
       "      <th>0</th>\n",
       "      <td>2013-02-08</td>\n",
       "      <td>15.07</td>\n",
       "      <td>15.12</td>\n",
       "      <td>14.63</td>\n",
       "      <td>14.75</td>\n",
       "      <td>8407500</td>\n",
       "      <td>AAL</td>\n",
       "    </tr>\n",
       "    <tr>\n",
       "      <th>1</th>\n",
       "      <td>2013-02-11</td>\n",
       "      <td>14.89</td>\n",
       "      <td>15.01</td>\n",
       "      <td>14.26</td>\n",
       "      <td>14.46</td>\n",
       "      <td>8882000</td>\n",
       "      <td>AAL</td>\n",
       "    </tr>\n",
       "    <tr>\n",
       "      <th>2</th>\n",
       "      <td>2013-02-12</td>\n",
       "      <td>14.45</td>\n",
       "      <td>14.51</td>\n",
       "      <td>14.10</td>\n",
       "      <td>14.27</td>\n",
       "      <td>8126000</td>\n",
       "      <td>AAL</td>\n",
       "    </tr>\n",
       "    <tr>\n",
       "      <th>3</th>\n",
       "      <td>2013-02-13</td>\n",
       "      <td>14.30</td>\n",
       "      <td>14.94</td>\n",
       "      <td>14.25</td>\n",
       "      <td>14.66</td>\n",
       "      <td>10259500</td>\n",
       "      <td>AAL</td>\n",
       "    </tr>\n",
       "    <tr>\n",
       "      <th>4</th>\n",
       "      <td>2013-02-14</td>\n",
       "      <td>14.94</td>\n",
       "      <td>14.96</td>\n",
       "      <td>13.16</td>\n",
       "      <td>13.99</td>\n",
       "      <td>31879900</td>\n",
       "      <td>AAL</td>\n",
       "    </tr>\n",
       "  </tbody>\n",
       "</table>\n",
       "</div>"
      ],
      "text/plain": [
       "        date   open   high    low  close    volume Name\n",
       "0 2013-02-08  15.07  15.12  14.63  14.75   8407500  AAL\n",
       "1 2013-02-11  14.89  15.01  14.26  14.46   8882000  AAL\n",
       "2 2013-02-12  14.45  14.51  14.10  14.27   8126000  AAL\n",
       "3 2013-02-13  14.30  14.94  14.25  14.66  10259500  AAL\n",
       "4 2013-02-14  14.94  14.96  13.16  13.99  31879900  AAL"
      ]
     },
     "execution_count": 4,
     "metadata": {},
     "output_type": "execute_result"
    }
   ],
   "source": [
    "stock_data.head(5)"
   ]
  },
  {
   "cell_type": "code",
   "execution_count": 5,
   "metadata": {},
   "outputs": [
    {
     "data": {
      "text/html": [
       "<div>\n",
       "<style>\n",
       "    .dataframe thead tr:only-child th {\n",
       "        text-align: right;\n",
       "    }\n",
       "\n",
       "    .dataframe thead th {\n",
       "        text-align: left;\n",
       "    }\n",
       "\n",
       "    .dataframe tbody tr th {\n",
       "        vertical-align: top;\n",
       "    }\n",
       "</style>\n",
       "<table border=\"1\" class=\"dataframe\">\n",
       "  <thead>\n",
       "    <tr style=\"text-align: right;\">\n",
       "      <th></th>\n",
       "      <th>Symbol</th>\n",
       "      <th>Name</th>\n",
       "      <th>Sector</th>\n",
       "    </tr>\n",
       "  </thead>\n",
       "  <tbody>\n",
       "    <tr>\n",
       "      <th>0</th>\n",
       "      <td>MMM</td>\n",
       "      <td>3M Company</td>\n",
       "      <td>Industrials</td>\n",
       "    </tr>\n",
       "    <tr>\n",
       "      <th>1</th>\n",
       "      <td>AOS</td>\n",
       "      <td>A.O. Smith Corp</td>\n",
       "      <td>Industrials</td>\n",
       "    </tr>\n",
       "    <tr>\n",
       "      <th>2</th>\n",
       "      <td>ABT</td>\n",
       "      <td>Abbott Laboratories</td>\n",
       "      <td>Health Care</td>\n",
       "    </tr>\n",
       "    <tr>\n",
       "      <th>3</th>\n",
       "      <td>ABBV</td>\n",
       "      <td>AbbVie Inc.</td>\n",
       "      <td>Health Care</td>\n",
       "    </tr>\n",
       "    <tr>\n",
       "      <th>4</th>\n",
       "      <td>ACN</td>\n",
       "      <td>Accenture plc</td>\n",
       "      <td>Information Technology</td>\n",
       "    </tr>\n",
       "  </tbody>\n",
       "</table>\n",
       "</div>"
      ],
      "text/plain": [
       "  Symbol                 Name                  Sector\n",
       "0    MMM           3M Company             Industrials\n",
       "1    AOS      A.O. Smith Corp             Industrials\n",
       "2    ABT  Abbott Laboratories             Health Care\n",
       "3   ABBV          AbbVie Inc.             Health Care\n",
       "4    ACN        Accenture plc  Information Technology"
      ]
     },
     "execution_count": 5,
     "metadata": {},
     "output_type": "execute_result"
    }
   ],
   "source": [
    "sector_data.head(5)"
   ]
  },
  {
   "cell_type": "code",
   "execution_count": 6,
   "metadata": {
    "scrolled": true
   },
   "outputs": [
    {
     "data": {
      "text/plain": [
       "date       0\n",
       "open      11\n",
       "high       8\n",
       "low        8\n",
       "close      0\n",
       "volume     0\n",
       "Name       0\n",
       "dtype: int64"
      ]
     },
     "execution_count": 6,
     "metadata": {},
     "output_type": "execute_result"
    }
   ],
   "source": [
    "#Check for empty entries\n",
    "stock_data.isnull().sum()"
   ]
  },
  {
   "cell_type": "code",
   "execution_count": 7,
   "metadata": {},
   "outputs": [
    {
     "data": {
      "text/plain": [
       "Symbol    0\n",
       "Name      0\n",
       "Sector    0\n",
       "dtype: int64"
      ]
     },
     "execution_count": 7,
     "metadata": {},
     "output_type": "execute_result"
    }
   ],
   "source": [
    "#Check for empty entries\n",
    "sector_data.isnull().sum()"
   ]
  },
  {
   "cell_type": "code",
   "execution_count": 8,
   "metadata": {
    "collapsed": true
   },
   "outputs": [],
   "source": [
    "#Drop rows with empty values\n",
    "stock_data.dropna(inplace = True) "
   ]
  },
  {
   "cell_type": "code",
   "execution_count": 9,
   "metadata": {},
   "outputs": [
    {
     "name": "stdout",
     "output_type": "stream",
     "text": [
      "498\n",
      "0.0004429817199707031\n",
      "498\n",
      "0.00029206275939941406\n"
     ]
    }
   ],
   "source": [
    "#Find the intersection of tickers between the two data sets\n",
    "#Findings: there's missing data\n",
    "stocks = set(stock_data.Name.unique())\n",
    "sector = set(sector_data.Symbol.unique())\n",
    "\n",
    "start = time.time()\n",
    "intersection = [symbol for symbol in stocks if symbol in sector]\n",
    "end = time.time()\n",
    "print(len(intersection))\n",
    "print(end-start)\n",
    "\n",
    "start = time.time()\n",
    "intersection = stocks.intersection(sector)\n",
    "print(len(intersection))\n",
    "end = time.time()\n",
    "print(end-start)   "
   ]
  },
  {
   "cell_type": "code",
   "execution_count": 10,
   "metadata": {},
   "outputs": [
    {
     "data": {
      "text/plain": [
       "{'BKNG',\n",
       " 'CBG',\n",
       " 'CBRE',\n",
       " 'CHK',\n",
       " 'HCN',\n",
       " 'IPGP',\n",
       " 'NKTR',\n",
       " 'PCLN',\n",
       " 'PDCO',\n",
       " 'SIG',\n",
       " 'SIVB',\n",
       " 'SNI',\n",
       " 'TTWO',\n",
       " 'WELL'}"
      ]
     },
     "execution_count": 10,
     "metadata": {},
     "output_type": "execute_result"
    }
   ],
   "source": [
    "#Which stocks are missing from both data sets\n",
    "stocks.symmetric_difference(sector)"
   ]
  },
  {
   "cell_type": "markdown",
   "metadata": {},
   "source": [
    "* CBG -> CBRE\n",
    "* HCN -> WELL\n",
    "* SNI -> AQUIRED BY Discovery Communications (Drop)\n",
    "* CHK -> REMOVED DUE TO MARKET CAP CHANGES (Drop) Energy Company\n",
    "* PDCO -> REMOVED DUE TO MARKET CAP CHANGES (Drop)\n",
    "* SIG -> REMOVED DUE TO MARKET CAP CHANGES (Drop)\n",
    "* PCLN -> no data (?)"
   ]
  },
  {
   "cell_type": "code",
   "execution_count": 11,
   "metadata": {
    "collapsed": true
   },
   "outputs": [],
   "source": [
    "#Create dictionary to replace old names with new\n",
    "replace_tickers = {'CBG': 'CBRE', 'HCN': 'WELL'}\n",
    "stock_data.replace(replace_tickers, inplace = True)"
   ]
  },
  {
   "cell_type": "code",
   "execution_count": 12,
   "metadata": {
    "collapsed": true
   },
   "outputs": [],
   "source": [
    "stock_data.set_index('Name', inplace = True)\n",
    "sector_data.set_index('Symbol', inplace = True)"
   ]
  },
  {
   "cell_type": "markdown",
   "metadata": {},
   "source": [
    "# Clean up and combine the two data sets "
   ]
  },
  {
   "cell_type": "code",
   "execution_count": 30,
   "metadata": {},
   "outputs": [],
   "source": [
    "#Combine the two dataframe's based off stock symbol (ticker)\n",
    "df = pd.concat([stock_data, sector_data], axis = 1, join_axes=[stock_data.index])\n",
    "\n",
    "#Rename the 'Name' column to 'full_name'\n",
    "df.rename(columns={'Name':'full_name'}, inplace = True)\n",
    "\n",
    "#Reset current index and change so that we're able to slice by time\n",
    "df.reset_index(inplace = True)\n",
    "df.set_index('date', inplace = True)"
   ]
  },
  {
   "cell_type": "code",
   "execution_count": 14,
   "metadata": {},
   "outputs": [
    {
     "data": {
      "text/plain": [
       "11"
      ]
     },
     "execution_count": 14,
     "metadata": {},
     "output_type": "execute_result"
    }
   ],
   "source": [
    "#Sanity check. There should be 11 sectors\n",
    "len(list(df.groupby('Sector')))"
   ]
  },
  {
   "cell_type": "code",
   "execution_count": 49,
   "metadata": {},
   "outputs": [
    {
     "data": {
      "text/html": [
       "<div>\n",
       "<style>\n",
       "    .dataframe thead tr:only-child th {\n",
       "        text-align: right;\n",
       "    }\n",
       "\n",
       "    .dataframe thead th {\n",
       "        text-align: left;\n",
       "    }\n",
       "\n",
       "    .dataframe tbody tr th {\n",
       "        vertical-align: top;\n",
       "    }\n",
       "</style>\n",
       "<table border=\"1\" class=\"dataframe\">\n",
       "  <thead>\n",
       "    <tr style=\"text-align: right;\">\n",
       "      <th></th>\n",
       "      <th>Name</th>\n",
       "      <th>open</th>\n",
       "      <th>high</th>\n",
       "      <th>low</th>\n",
       "      <th>close</th>\n",
       "      <th>volume</th>\n",
       "      <th>full_name</th>\n",
       "      <th>Sector</th>\n",
       "    </tr>\n",
       "    <tr>\n",
       "      <th>date</th>\n",
       "      <th></th>\n",
       "      <th></th>\n",
       "      <th></th>\n",
       "      <th></th>\n",
       "      <th></th>\n",
       "      <th></th>\n",
       "      <th></th>\n",
       "      <th></th>\n",
       "    </tr>\n",
       "  </thead>\n",
       "  <tbody>\n",
       "    <tr>\n",
       "      <th>2013-02-08</th>\n",
       "      <td>AAL</td>\n",
       "      <td>15.07</td>\n",
       "      <td>15.1200</td>\n",
       "      <td>14.6300</td>\n",
       "      <td>14.75</td>\n",
       "      <td>8407500</td>\n",
       "      <td>American Airlines Group</td>\n",
       "      <td>Industrials</td>\n",
       "    </tr>\n",
       "    <tr>\n",
       "      <th>2013-02-11</th>\n",
       "      <td>AAL</td>\n",
       "      <td>14.89</td>\n",
       "      <td>15.0100</td>\n",
       "      <td>14.2600</td>\n",
       "      <td>14.46</td>\n",
       "      <td>8882000</td>\n",
       "      <td>American Airlines Group</td>\n",
       "      <td>Industrials</td>\n",
       "    </tr>\n",
       "    <tr>\n",
       "      <th>2013-02-12</th>\n",
       "      <td>AAL</td>\n",
       "      <td>14.45</td>\n",
       "      <td>14.5100</td>\n",
       "      <td>14.1000</td>\n",
       "      <td>14.27</td>\n",
       "      <td>8126000</td>\n",
       "      <td>American Airlines Group</td>\n",
       "      <td>Industrials</td>\n",
       "    </tr>\n",
       "    <tr>\n",
       "      <th>2013-02-13</th>\n",
       "      <td>AAL</td>\n",
       "      <td>14.30</td>\n",
       "      <td>14.9400</td>\n",
       "      <td>14.2500</td>\n",
       "      <td>14.66</td>\n",
       "      <td>10259500</td>\n",
       "      <td>American Airlines Group</td>\n",
       "      <td>Industrials</td>\n",
       "    </tr>\n",
       "    <tr>\n",
       "      <th>2013-02-14</th>\n",
       "      <td>AAL</td>\n",
       "      <td>14.94</td>\n",
       "      <td>14.9600</td>\n",
       "      <td>13.1600</td>\n",
       "      <td>13.99</td>\n",
       "      <td>31879900</td>\n",
       "      <td>American Airlines Group</td>\n",
       "      <td>Industrials</td>\n",
       "    </tr>\n",
       "    <tr>\n",
       "      <th>2013-02-15</th>\n",
       "      <td>AAL</td>\n",
       "      <td>13.93</td>\n",
       "      <td>14.6100</td>\n",
       "      <td>13.9300</td>\n",
       "      <td>14.50</td>\n",
       "      <td>15628000</td>\n",
       "      <td>American Airlines Group</td>\n",
       "      <td>Industrials</td>\n",
       "    </tr>\n",
       "    <tr>\n",
       "      <th>2013-02-19</th>\n",
       "      <td>AAL</td>\n",
       "      <td>14.33</td>\n",
       "      <td>14.5600</td>\n",
       "      <td>14.0800</td>\n",
       "      <td>14.26</td>\n",
       "      <td>11354400</td>\n",
       "      <td>American Airlines Group</td>\n",
       "      <td>Industrials</td>\n",
       "    </tr>\n",
       "    <tr>\n",
       "      <th>2013-02-20</th>\n",
       "      <td>AAL</td>\n",
       "      <td>14.17</td>\n",
       "      <td>14.2600</td>\n",
       "      <td>13.1500</td>\n",
       "      <td>13.33</td>\n",
       "      <td>14725200</td>\n",
       "      <td>American Airlines Group</td>\n",
       "      <td>Industrials</td>\n",
       "    </tr>\n",
       "    <tr>\n",
       "      <th>2013-02-21</th>\n",
       "      <td>AAL</td>\n",
       "      <td>13.62</td>\n",
       "      <td>13.9500</td>\n",
       "      <td>12.9000</td>\n",
       "      <td>13.37</td>\n",
       "      <td>11922100</td>\n",
       "      <td>American Airlines Group</td>\n",
       "      <td>Industrials</td>\n",
       "    </tr>\n",
       "    <tr>\n",
       "      <th>2013-02-22</th>\n",
       "      <td>AAL</td>\n",
       "      <td>13.57</td>\n",
       "      <td>13.6000</td>\n",
       "      <td>13.2100</td>\n",
       "      <td>13.57</td>\n",
       "      <td>6071400</td>\n",
       "      <td>American Airlines Group</td>\n",
       "      <td>Industrials</td>\n",
       "    </tr>\n",
       "    <tr>\n",
       "      <th>2013-02-25</th>\n",
       "      <td>AAL</td>\n",
       "      <td>13.60</td>\n",
       "      <td>13.7600</td>\n",
       "      <td>13.0000</td>\n",
       "      <td>13.02</td>\n",
       "      <td>7186400</td>\n",
       "      <td>American Airlines Group</td>\n",
       "      <td>Industrials</td>\n",
       "    </tr>\n",
       "    <tr>\n",
       "      <th>2013-02-26</th>\n",
       "      <td>AAL</td>\n",
       "      <td>13.14</td>\n",
       "      <td>13.4200</td>\n",
       "      <td>12.7000</td>\n",
       "      <td>13.26</td>\n",
       "      <td>9419000</td>\n",
       "      <td>American Airlines Group</td>\n",
       "      <td>Industrials</td>\n",
       "    </tr>\n",
       "    <tr>\n",
       "      <th>2013-02-27</th>\n",
       "      <td>AAL</td>\n",
       "      <td>13.28</td>\n",
       "      <td>13.6200</td>\n",
       "      <td>13.1800</td>\n",
       "      <td>13.41</td>\n",
       "      <td>7390500</td>\n",
       "      <td>American Airlines Group</td>\n",
       "      <td>Industrials</td>\n",
       "    </tr>\n",
       "    <tr>\n",
       "      <th>2013-02-28</th>\n",
       "      <td>AAL</td>\n",
       "      <td>13.49</td>\n",
       "      <td>13.6300</td>\n",
       "      <td>13.3900</td>\n",
       "      <td>13.43</td>\n",
       "      <td>6143600</td>\n",
       "      <td>American Airlines Group</td>\n",
       "      <td>Industrials</td>\n",
       "    </tr>\n",
       "    <tr>\n",
       "      <th>2013-03-01</th>\n",
       "      <td>AAL</td>\n",
       "      <td>13.37</td>\n",
       "      <td>13.9500</td>\n",
       "      <td>13.3200</td>\n",
       "      <td>13.61</td>\n",
       "      <td>7376800</td>\n",
       "      <td>American Airlines Group</td>\n",
       "      <td>Industrials</td>\n",
       "    </tr>\n",
       "    <tr>\n",
       "      <th>2013-03-04</th>\n",
       "      <td>AAL</td>\n",
       "      <td>13.50</td>\n",
       "      <td>14.0700</td>\n",
       "      <td>13.4700</td>\n",
       "      <td>13.90</td>\n",
       "      <td>8174800</td>\n",
       "      <td>American Airlines Group</td>\n",
       "      <td>Industrials</td>\n",
       "    </tr>\n",
       "    <tr>\n",
       "      <th>2013-03-05</th>\n",
       "      <td>AAL</td>\n",
       "      <td>14.01</td>\n",
       "      <td>14.0500</td>\n",
       "      <td>13.7100</td>\n",
       "      <td>14.05</td>\n",
       "      <td>7676100</td>\n",
       "      <td>American Airlines Group</td>\n",
       "      <td>Industrials</td>\n",
       "    </tr>\n",
       "    <tr>\n",
       "      <th>2013-03-06</th>\n",
       "      <td>AAL</td>\n",
       "      <td>14.52</td>\n",
       "      <td>14.6800</td>\n",
       "      <td>14.2500</td>\n",
       "      <td>14.57</td>\n",
       "      <td>13243200</td>\n",
       "      <td>American Airlines Group</td>\n",
       "      <td>Industrials</td>\n",
       "    </tr>\n",
       "    <tr>\n",
       "      <th>2013-03-07</th>\n",
       "      <td>AAL</td>\n",
       "      <td>14.70</td>\n",
       "      <td>14.9300</td>\n",
       "      <td>14.5000</td>\n",
       "      <td>14.82</td>\n",
       "      <td>9125300</td>\n",
       "      <td>American Airlines Group</td>\n",
       "      <td>Industrials</td>\n",
       "    </tr>\n",
       "    <tr>\n",
       "      <th>2013-03-08</th>\n",
       "      <td>AAL</td>\n",
       "      <td>14.99</td>\n",
       "      <td>15.2000</td>\n",
       "      <td>14.8400</td>\n",
       "      <td>14.92</td>\n",
       "      <td>10593700</td>\n",
       "      <td>American Airlines Group</td>\n",
       "      <td>Industrials</td>\n",
       "    </tr>\n",
       "    <tr>\n",
       "      <th>2013-03-11</th>\n",
       "      <td>AAL</td>\n",
       "      <td>14.85</td>\n",
       "      <td>15.1500</td>\n",
       "      <td>14.7100</td>\n",
       "      <td>15.13</td>\n",
       "      <td>6961800</td>\n",
       "      <td>American Airlines Group</td>\n",
       "      <td>Industrials</td>\n",
       "    </tr>\n",
       "    <tr>\n",
       "      <th>2013-03-12</th>\n",
       "      <td>AAL</td>\n",
       "      <td>15.14</td>\n",
       "      <td>15.6000</td>\n",
       "      <td>14.9500</td>\n",
       "      <td>15.50</td>\n",
       "      <td>8999100</td>\n",
       "      <td>American Airlines Group</td>\n",
       "      <td>Industrials</td>\n",
       "    </tr>\n",
       "    <tr>\n",
       "      <th>2013-03-13</th>\n",
       "      <td>AAL</td>\n",
       "      <td>15.54</td>\n",
       "      <td>16.2000</td>\n",
       "      <td>15.4800</td>\n",
       "      <td>15.91</td>\n",
       "      <td>11380000</td>\n",
       "      <td>American Airlines Group</td>\n",
       "      <td>Industrials</td>\n",
       "    </tr>\n",
       "    <tr>\n",
       "      <th>2013-03-14</th>\n",
       "      <td>AAL</td>\n",
       "      <td>15.98</td>\n",
       "      <td>16.3600</td>\n",
       "      <td>15.9300</td>\n",
       "      <td>16.25</td>\n",
       "      <td>8383300</td>\n",
       "      <td>American Airlines Group</td>\n",
       "      <td>Industrials</td>\n",
       "    </tr>\n",
       "    <tr>\n",
       "      <th>2013-03-15</th>\n",
       "      <td>AAL</td>\n",
       "      <td>16.45</td>\n",
       "      <td>16.5400</td>\n",
       "      <td>15.8800</td>\n",
       "      <td>15.98</td>\n",
       "      <td>17667700</td>\n",
       "      <td>American Airlines Group</td>\n",
       "      <td>Industrials</td>\n",
       "    </tr>\n",
       "    <tr>\n",
       "      <th>2013-03-18</th>\n",
       "      <td>AAL</td>\n",
       "      <td>15.80</td>\n",
       "      <td>16.3300</td>\n",
       "      <td>15.7100</td>\n",
       "      <td>16.29</td>\n",
       "      <td>6514100</td>\n",
       "      <td>American Airlines Group</td>\n",
       "      <td>Industrials</td>\n",
       "    </tr>\n",
       "    <tr>\n",
       "      <th>2013-03-19</th>\n",
       "      <td>AAL</td>\n",
       "      <td>16.48</td>\n",
       "      <td>16.8500</td>\n",
       "      <td>16.4100</td>\n",
       "      <td>16.78</td>\n",
       "      <td>11805300</td>\n",
       "      <td>American Airlines Group</td>\n",
       "      <td>Industrials</td>\n",
       "    </tr>\n",
       "    <tr>\n",
       "      <th>2013-03-20</th>\n",
       "      <td>AAL</td>\n",
       "      <td>17.13</td>\n",
       "      <td>17.3300</td>\n",
       "      <td>16.8700</td>\n",
       "      <td>17.23</td>\n",
       "      <td>10819800</td>\n",
       "      <td>American Airlines Group</td>\n",
       "      <td>Industrials</td>\n",
       "    </tr>\n",
       "    <tr>\n",
       "      <th>2013-03-21</th>\n",
       "      <td>AAL</td>\n",
       "      <td>17.21</td>\n",
       "      <td>17.4300</td>\n",
       "      <td>16.8700</td>\n",
       "      <td>17.00</td>\n",
       "      <td>10740800</td>\n",
       "      <td>American Airlines Group</td>\n",
       "      <td>Industrials</td>\n",
       "    </tr>\n",
       "    <tr>\n",
       "      <th>2013-03-22</th>\n",
       "      <td>AAL</td>\n",
       "      <td>17.10</td>\n",
       "      <td>17.2900</td>\n",
       "      <td>16.7700</td>\n",
       "      <td>16.86</td>\n",
       "      <td>8545200</td>\n",
       "      <td>American Airlines Group</td>\n",
       "      <td>Industrials</td>\n",
       "    </tr>\n",
       "    <tr>\n",
       "      <th>...</th>\n",
       "      <td>...</td>\n",
       "      <td>...</td>\n",
       "      <td>...</td>\n",
       "      <td>...</td>\n",
       "      <td>...</td>\n",
       "      <td>...</td>\n",
       "      <td>...</td>\n",
       "      <td>...</td>\n",
       "    </tr>\n",
       "    <tr>\n",
       "      <th>2017-12-26</th>\n",
       "      <td>ZTS</td>\n",
       "      <td>72.40</td>\n",
       "      <td>72.5500</td>\n",
       "      <td>71.9000</td>\n",
       "      <td>72.34</td>\n",
       "      <td>792134</td>\n",
       "      <td>Zoetis</td>\n",
       "      <td>Health Care</td>\n",
       "    </tr>\n",
       "    <tr>\n",
       "      <th>2017-12-27</th>\n",
       "      <td>ZTS</td>\n",
       "      <td>72.59</td>\n",
       "      <td>72.6900</td>\n",
       "      <td>72.2500</td>\n",
       "      <td>72.45</td>\n",
       "      <td>1159771</td>\n",
       "      <td>Zoetis</td>\n",
       "      <td>Health Care</td>\n",
       "    </tr>\n",
       "    <tr>\n",
       "      <th>2017-12-28</th>\n",
       "      <td>ZTS</td>\n",
       "      <td>72.49</td>\n",
       "      <td>72.6000</td>\n",
       "      <td>72.1400</td>\n",
       "      <td>72.39</td>\n",
       "      <td>710499</td>\n",
       "      <td>Zoetis</td>\n",
       "      <td>Health Care</td>\n",
       "    </tr>\n",
       "    <tr>\n",
       "      <th>2017-12-29</th>\n",
       "      <td>ZTS</td>\n",
       "      <td>72.55</td>\n",
       "      <td>72.7600</td>\n",
       "      <td>72.0400</td>\n",
       "      <td>72.04</td>\n",
       "      <td>1704122</td>\n",
       "      <td>Zoetis</td>\n",
       "      <td>Health Care</td>\n",
       "    </tr>\n",
       "    <tr>\n",
       "      <th>2018-01-02</th>\n",
       "      <td>ZTS</td>\n",
       "      <td>72.54</td>\n",
       "      <td>72.5900</td>\n",
       "      <td>71.4650</td>\n",
       "      <td>71.77</td>\n",
       "      <td>2135564</td>\n",
       "      <td>Zoetis</td>\n",
       "      <td>Health Care</td>\n",
       "    </tr>\n",
       "    <tr>\n",
       "      <th>2018-01-03</th>\n",
       "      <td>ZTS</td>\n",
       "      <td>71.77</td>\n",
       "      <td>72.1800</td>\n",
       "      <td>71.3400</td>\n",
       "      <td>72.10</td>\n",
       "      <td>2328506</td>\n",
       "      <td>Zoetis</td>\n",
       "      <td>Health Care</td>\n",
       "    </tr>\n",
       "    <tr>\n",
       "      <th>2018-01-04</th>\n",
       "      <td>ZTS</td>\n",
       "      <td>72.75</td>\n",
       "      <td>72.9128</td>\n",
       "      <td>72.2600</td>\n",
       "      <td>72.53</td>\n",
       "      <td>2534010</td>\n",
       "      <td>Zoetis</td>\n",
       "      <td>Health Care</td>\n",
       "    </tr>\n",
       "    <tr>\n",
       "      <th>2018-01-05</th>\n",
       "      <td>ZTS</td>\n",
       "      <td>72.83</td>\n",
       "      <td>73.9200</td>\n",
       "      <td>72.5700</td>\n",
       "      <td>73.36</td>\n",
       "      <td>2166065</td>\n",
       "      <td>Zoetis</td>\n",
       "      <td>Health Care</td>\n",
       "    </tr>\n",
       "    <tr>\n",
       "      <th>2018-01-08</th>\n",
       "      <td>ZTS</td>\n",
       "      <td>73.43</td>\n",
       "      <td>74.4200</td>\n",
       "      <td>73.1607</td>\n",
       "      <td>74.24</td>\n",
       "      <td>3631552</td>\n",
       "      <td>Zoetis</td>\n",
       "      <td>Health Care</td>\n",
       "    </tr>\n",
       "    <tr>\n",
       "      <th>2018-01-09</th>\n",
       "      <td>ZTS</td>\n",
       "      <td>74.70</td>\n",
       "      <td>75.4750</td>\n",
       "      <td>74.4650</td>\n",
       "      <td>75.11</td>\n",
       "      <td>2721946</td>\n",
       "      <td>Zoetis</td>\n",
       "      <td>Health Care</td>\n",
       "    </tr>\n",
       "    <tr>\n",
       "      <th>2018-01-10</th>\n",
       "      <td>ZTS</td>\n",
       "      <td>74.58</td>\n",
       "      <td>74.8000</td>\n",
       "      <td>73.2800</td>\n",
       "      <td>73.91</td>\n",
       "      <td>2257464</td>\n",
       "      <td>Zoetis</td>\n",
       "      <td>Health Care</td>\n",
       "    </tr>\n",
       "    <tr>\n",
       "      <th>2018-01-11</th>\n",
       "      <td>ZTS</td>\n",
       "      <td>74.05</td>\n",
       "      <td>74.6800</td>\n",
       "      <td>73.7200</td>\n",
       "      <td>74.59</td>\n",
       "      <td>1629279</td>\n",
       "      <td>Zoetis</td>\n",
       "      <td>Health Care</td>\n",
       "    </tr>\n",
       "    <tr>\n",
       "      <th>2018-01-12</th>\n",
       "      <td>ZTS</td>\n",
       "      <td>74.91</td>\n",
       "      <td>75.6900</td>\n",
       "      <td>74.7700</td>\n",
       "      <td>75.39</td>\n",
       "      <td>1915669</td>\n",
       "      <td>Zoetis</td>\n",
       "      <td>Health Care</td>\n",
       "    </tr>\n",
       "    <tr>\n",
       "      <th>2018-01-16</th>\n",
       "      <td>ZTS</td>\n",
       "      <td>76.06</td>\n",
       "      <td>76.4000</td>\n",
       "      <td>75.2100</td>\n",
       "      <td>75.54</td>\n",
       "      <td>2599094</td>\n",
       "      <td>Zoetis</td>\n",
       "      <td>Health Care</td>\n",
       "    </tr>\n",
       "    <tr>\n",
       "      <th>2018-01-17</th>\n",
       "      <td>ZTS</td>\n",
       "      <td>75.81</td>\n",
       "      <td>77.0300</td>\n",
       "      <td>75.3900</td>\n",
       "      <td>76.77</td>\n",
       "      <td>2769587</td>\n",
       "      <td>Zoetis</td>\n",
       "      <td>Health Care</td>\n",
       "    </tr>\n",
       "    <tr>\n",
       "      <th>2018-01-18</th>\n",
       "      <td>ZTS</td>\n",
       "      <td>76.65</td>\n",
       "      <td>76.6500</td>\n",
       "      <td>75.8500</td>\n",
       "      <td>76.33</td>\n",
       "      <td>2588995</td>\n",
       "      <td>Zoetis</td>\n",
       "      <td>Health Care</td>\n",
       "    </tr>\n",
       "    <tr>\n",
       "      <th>2018-01-19</th>\n",
       "      <td>ZTS</td>\n",
       "      <td>76.69</td>\n",
       "      <td>76.9100</td>\n",
       "      <td>76.2200</td>\n",
       "      <td>76.62</td>\n",
       "      <td>4829602</td>\n",
       "      <td>Zoetis</td>\n",
       "      <td>Health Care</td>\n",
       "    </tr>\n",
       "    <tr>\n",
       "      <th>2018-01-22</th>\n",
       "      <td>ZTS</td>\n",
       "      <td>76.67</td>\n",
       "      <td>77.5800</td>\n",
       "      <td>76.6200</td>\n",
       "      <td>77.48</td>\n",
       "      <td>4195103</td>\n",
       "      <td>Zoetis</td>\n",
       "      <td>Health Care</td>\n",
       "    </tr>\n",
       "    <tr>\n",
       "      <th>2018-01-23</th>\n",
       "      <td>ZTS</td>\n",
       "      <td>77.30</td>\n",
       "      <td>78.3200</td>\n",
       "      <td>76.9700</td>\n",
       "      <td>77.59</td>\n",
       "      <td>2264132</td>\n",
       "      <td>Zoetis</td>\n",
       "      <td>Health Care</td>\n",
       "    </tr>\n",
       "    <tr>\n",
       "      <th>2018-01-24</th>\n",
       "      <td>ZTS</td>\n",
       "      <td>78.16</td>\n",
       "      <td>78.5100</td>\n",
       "      <td>77.6000</td>\n",
       "      <td>78.33</td>\n",
       "      <td>2585326</td>\n",
       "      <td>Zoetis</td>\n",
       "      <td>Health Care</td>\n",
       "    </tr>\n",
       "    <tr>\n",
       "      <th>2018-01-25</th>\n",
       "      <td>ZTS</td>\n",
       "      <td>78.47</td>\n",
       "      <td>79.3800</td>\n",
       "      <td>78.3450</td>\n",
       "      <td>79.25</td>\n",
       "      <td>2327262</td>\n",
       "      <td>Zoetis</td>\n",
       "      <td>Health Care</td>\n",
       "    </tr>\n",
       "    <tr>\n",
       "      <th>2018-01-26</th>\n",
       "      <td>ZTS</td>\n",
       "      <td>79.49</td>\n",
       "      <td>80.1300</td>\n",
       "      <td>79.3800</td>\n",
       "      <td>80.09</td>\n",
       "      <td>2532808</td>\n",
       "      <td>Zoetis</td>\n",
       "      <td>Health Care</td>\n",
       "    </tr>\n",
       "    <tr>\n",
       "      <th>2018-01-29</th>\n",
       "      <td>ZTS</td>\n",
       "      <td>79.81</td>\n",
       "      <td>79.9500</td>\n",
       "      <td>79.1100</td>\n",
       "      <td>79.18</td>\n",
       "      <td>2662383</td>\n",
       "      <td>Zoetis</td>\n",
       "      <td>Health Care</td>\n",
       "    </tr>\n",
       "    <tr>\n",
       "      <th>2018-01-30</th>\n",
       "      <td>ZTS</td>\n",
       "      <td>78.44</td>\n",
       "      <td>78.6900</td>\n",
       "      <td>77.9100</td>\n",
       "      <td>78.35</td>\n",
       "      <td>3808707</td>\n",
       "      <td>Zoetis</td>\n",
       "      <td>Health Care</td>\n",
       "    </tr>\n",
       "    <tr>\n",
       "      <th>2018-01-31</th>\n",
       "      <td>ZTS</td>\n",
       "      <td>78.49</td>\n",
       "      <td>78.7700</td>\n",
       "      <td>76.5400</td>\n",
       "      <td>76.73</td>\n",
       "      <td>4136360</td>\n",
       "      <td>Zoetis</td>\n",
       "      <td>Health Care</td>\n",
       "    </tr>\n",
       "    <tr>\n",
       "      <th>2018-02-01</th>\n",
       "      <td>ZTS</td>\n",
       "      <td>76.84</td>\n",
       "      <td>78.2700</td>\n",
       "      <td>76.6900</td>\n",
       "      <td>77.82</td>\n",
       "      <td>2982259</td>\n",
       "      <td>Zoetis</td>\n",
       "      <td>Health Care</td>\n",
       "    </tr>\n",
       "    <tr>\n",
       "      <th>2018-02-02</th>\n",
       "      <td>ZTS</td>\n",
       "      <td>77.53</td>\n",
       "      <td>78.1200</td>\n",
       "      <td>76.7300</td>\n",
       "      <td>76.78</td>\n",
       "      <td>2595187</td>\n",
       "      <td>Zoetis</td>\n",
       "      <td>Health Care</td>\n",
       "    </tr>\n",
       "    <tr>\n",
       "      <th>2018-02-05</th>\n",
       "      <td>ZTS</td>\n",
       "      <td>76.64</td>\n",
       "      <td>76.9200</td>\n",
       "      <td>73.1800</td>\n",
       "      <td>73.83</td>\n",
       "      <td>2962031</td>\n",
       "      <td>Zoetis</td>\n",
       "      <td>Health Care</td>\n",
       "    </tr>\n",
       "    <tr>\n",
       "      <th>2018-02-06</th>\n",
       "      <td>ZTS</td>\n",
       "      <td>72.74</td>\n",
       "      <td>74.5600</td>\n",
       "      <td>72.1300</td>\n",
       "      <td>73.27</td>\n",
       "      <td>4924323</td>\n",
       "      <td>Zoetis</td>\n",
       "      <td>Health Care</td>\n",
       "    </tr>\n",
       "    <tr>\n",
       "      <th>2018-02-07</th>\n",
       "      <td>ZTS</td>\n",
       "      <td>72.70</td>\n",
       "      <td>75.0000</td>\n",
       "      <td>72.6900</td>\n",
       "      <td>73.86</td>\n",
       "      <td>4534912</td>\n",
       "      <td>Zoetis</td>\n",
       "      <td>Health Care</td>\n",
       "    </tr>\n",
       "  </tbody>\n",
       "</table>\n",
       "<p>619029 rows × 8 columns</p>\n",
       "</div>"
      ],
      "text/plain": [
       "           Name   open     high      low  close    volume  \\\n",
       "date                                                        \n",
       "2013-02-08  AAL  15.07  15.1200  14.6300  14.75   8407500   \n",
       "2013-02-11  AAL  14.89  15.0100  14.2600  14.46   8882000   \n",
       "2013-02-12  AAL  14.45  14.5100  14.1000  14.27   8126000   \n",
       "2013-02-13  AAL  14.30  14.9400  14.2500  14.66  10259500   \n",
       "2013-02-14  AAL  14.94  14.9600  13.1600  13.99  31879900   \n",
       "2013-02-15  AAL  13.93  14.6100  13.9300  14.50  15628000   \n",
       "2013-02-19  AAL  14.33  14.5600  14.0800  14.26  11354400   \n",
       "2013-02-20  AAL  14.17  14.2600  13.1500  13.33  14725200   \n",
       "2013-02-21  AAL  13.62  13.9500  12.9000  13.37  11922100   \n",
       "2013-02-22  AAL  13.57  13.6000  13.2100  13.57   6071400   \n",
       "2013-02-25  AAL  13.60  13.7600  13.0000  13.02   7186400   \n",
       "2013-02-26  AAL  13.14  13.4200  12.7000  13.26   9419000   \n",
       "2013-02-27  AAL  13.28  13.6200  13.1800  13.41   7390500   \n",
       "2013-02-28  AAL  13.49  13.6300  13.3900  13.43   6143600   \n",
       "2013-03-01  AAL  13.37  13.9500  13.3200  13.61   7376800   \n",
       "2013-03-04  AAL  13.50  14.0700  13.4700  13.90   8174800   \n",
       "2013-03-05  AAL  14.01  14.0500  13.7100  14.05   7676100   \n",
       "2013-03-06  AAL  14.52  14.6800  14.2500  14.57  13243200   \n",
       "2013-03-07  AAL  14.70  14.9300  14.5000  14.82   9125300   \n",
       "2013-03-08  AAL  14.99  15.2000  14.8400  14.92  10593700   \n",
       "2013-03-11  AAL  14.85  15.1500  14.7100  15.13   6961800   \n",
       "2013-03-12  AAL  15.14  15.6000  14.9500  15.50   8999100   \n",
       "2013-03-13  AAL  15.54  16.2000  15.4800  15.91  11380000   \n",
       "2013-03-14  AAL  15.98  16.3600  15.9300  16.25   8383300   \n",
       "2013-03-15  AAL  16.45  16.5400  15.8800  15.98  17667700   \n",
       "2013-03-18  AAL  15.80  16.3300  15.7100  16.29   6514100   \n",
       "2013-03-19  AAL  16.48  16.8500  16.4100  16.78  11805300   \n",
       "2013-03-20  AAL  17.13  17.3300  16.8700  17.23  10819800   \n",
       "2013-03-21  AAL  17.21  17.4300  16.8700  17.00  10740800   \n",
       "2013-03-22  AAL  17.10  17.2900  16.7700  16.86   8545200   \n",
       "...         ...    ...      ...      ...    ...       ...   \n",
       "2017-12-26  ZTS  72.40  72.5500  71.9000  72.34    792134   \n",
       "2017-12-27  ZTS  72.59  72.6900  72.2500  72.45   1159771   \n",
       "2017-12-28  ZTS  72.49  72.6000  72.1400  72.39    710499   \n",
       "2017-12-29  ZTS  72.55  72.7600  72.0400  72.04   1704122   \n",
       "2018-01-02  ZTS  72.54  72.5900  71.4650  71.77   2135564   \n",
       "2018-01-03  ZTS  71.77  72.1800  71.3400  72.10   2328506   \n",
       "2018-01-04  ZTS  72.75  72.9128  72.2600  72.53   2534010   \n",
       "2018-01-05  ZTS  72.83  73.9200  72.5700  73.36   2166065   \n",
       "2018-01-08  ZTS  73.43  74.4200  73.1607  74.24   3631552   \n",
       "2018-01-09  ZTS  74.70  75.4750  74.4650  75.11   2721946   \n",
       "2018-01-10  ZTS  74.58  74.8000  73.2800  73.91   2257464   \n",
       "2018-01-11  ZTS  74.05  74.6800  73.7200  74.59   1629279   \n",
       "2018-01-12  ZTS  74.91  75.6900  74.7700  75.39   1915669   \n",
       "2018-01-16  ZTS  76.06  76.4000  75.2100  75.54   2599094   \n",
       "2018-01-17  ZTS  75.81  77.0300  75.3900  76.77   2769587   \n",
       "2018-01-18  ZTS  76.65  76.6500  75.8500  76.33   2588995   \n",
       "2018-01-19  ZTS  76.69  76.9100  76.2200  76.62   4829602   \n",
       "2018-01-22  ZTS  76.67  77.5800  76.6200  77.48   4195103   \n",
       "2018-01-23  ZTS  77.30  78.3200  76.9700  77.59   2264132   \n",
       "2018-01-24  ZTS  78.16  78.5100  77.6000  78.33   2585326   \n",
       "2018-01-25  ZTS  78.47  79.3800  78.3450  79.25   2327262   \n",
       "2018-01-26  ZTS  79.49  80.1300  79.3800  80.09   2532808   \n",
       "2018-01-29  ZTS  79.81  79.9500  79.1100  79.18   2662383   \n",
       "2018-01-30  ZTS  78.44  78.6900  77.9100  78.35   3808707   \n",
       "2018-01-31  ZTS  78.49  78.7700  76.5400  76.73   4136360   \n",
       "2018-02-01  ZTS  76.84  78.2700  76.6900  77.82   2982259   \n",
       "2018-02-02  ZTS  77.53  78.1200  76.7300  76.78   2595187   \n",
       "2018-02-05  ZTS  76.64  76.9200  73.1800  73.83   2962031   \n",
       "2018-02-06  ZTS  72.74  74.5600  72.1300  73.27   4924323   \n",
       "2018-02-07  ZTS  72.70  75.0000  72.6900  73.86   4534912   \n",
       "\n",
       "                          full_name       Sector  \n",
       "date                                              \n",
       "2013-02-08  American Airlines Group  Industrials  \n",
       "2013-02-11  American Airlines Group  Industrials  \n",
       "2013-02-12  American Airlines Group  Industrials  \n",
       "2013-02-13  American Airlines Group  Industrials  \n",
       "2013-02-14  American Airlines Group  Industrials  \n",
       "2013-02-15  American Airlines Group  Industrials  \n",
       "2013-02-19  American Airlines Group  Industrials  \n",
       "2013-02-20  American Airlines Group  Industrials  \n",
       "2013-02-21  American Airlines Group  Industrials  \n",
       "2013-02-22  American Airlines Group  Industrials  \n",
       "2013-02-25  American Airlines Group  Industrials  \n",
       "2013-02-26  American Airlines Group  Industrials  \n",
       "2013-02-27  American Airlines Group  Industrials  \n",
       "2013-02-28  American Airlines Group  Industrials  \n",
       "2013-03-01  American Airlines Group  Industrials  \n",
       "2013-03-04  American Airlines Group  Industrials  \n",
       "2013-03-05  American Airlines Group  Industrials  \n",
       "2013-03-06  American Airlines Group  Industrials  \n",
       "2013-03-07  American Airlines Group  Industrials  \n",
       "2013-03-08  American Airlines Group  Industrials  \n",
       "2013-03-11  American Airlines Group  Industrials  \n",
       "2013-03-12  American Airlines Group  Industrials  \n",
       "2013-03-13  American Airlines Group  Industrials  \n",
       "2013-03-14  American Airlines Group  Industrials  \n",
       "2013-03-15  American Airlines Group  Industrials  \n",
       "2013-03-18  American Airlines Group  Industrials  \n",
       "2013-03-19  American Airlines Group  Industrials  \n",
       "2013-03-20  American Airlines Group  Industrials  \n",
       "2013-03-21  American Airlines Group  Industrials  \n",
       "2013-03-22  American Airlines Group  Industrials  \n",
       "...                             ...          ...  \n",
       "2017-12-26                   Zoetis  Health Care  \n",
       "2017-12-27                   Zoetis  Health Care  \n",
       "2017-12-28                   Zoetis  Health Care  \n",
       "2017-12-29                   Zoetis  Health Care  \n",
       "2018-01-02                   Zoetis  Health Care  \n",
       "2018-01-03                   Zoetis  Health Care  \n",
       "2018-01-04                   Zoetis  Health Care  \n",
       "2018-01-05                   Zoetis  Health Care  \n",
       "2018-01-08                   Zoetis  Health Care  \n",
       "2018-01-09                   Zoetis  Health Care  \n",
       "2018-01-10                   Zoetis  Health Care  \n",
       "2018-01-11                   Zoetis  Health Care  \n",
       "2018-01-12                   Zoetis  Health Care  \n",
       "2018-01-16                   Zoetis  Health Care  \n",
       "2018-01-17                   Zoetis  Health Care  \n",
       "2018-01-18                   Zoetis  Health Care  \n",
       "2018-01-19                   Zoetis  Health Care  \n",
       "2018-01-22                   Zoetis  Health Care  \n",
       "2018-01-23                   Zoetis  Health Care  \n",
       "2018-01-24                   Zoetis  Health Care  \n",
       "2018-01-25                   Zoetis  Health Care  \n",
       "2018-01-26                   Zoetis  Health Care  \n",
       "2018-01-29                   Zoetis  Health Care  \n",
       "2018-01-30                   Zoetis  Health Care  \n",
       "2018-01-31                   Zoetis  Health Care  \n",
       "2018-02-01                   Zoetis  Health Care  \n",
       "2018-02-02                   Zoetis  Health Care  \n",
       "2018-02-05                   Zoetis  Health Care  \n",
       "2018-02-06                   Zoetis  Health Care  \n",
       "2018-02-07                   Zoetis  Health Care  \n",
       "\n",
       "[619029 rows x 8 columns]"
      ]
     },
     "execution_count": 49,
     "metadata": {},
     "output_type": "execute_result"
    }
   ],
   "source": [
    "df"
   ]
  },
  {
   "cell_type": "code",
   "execution_count": 15,
   "metadata": {},
   "outputs": [
    {
     "data": {
      "text/plain": [
       "Name            0\n",
       "open            0\n",
       "high            0\n",
       "low             0\n",
       "close           0\n",
       "volume          0\n",
       "full_name    6295\n",
       "Sector       6295\n",
       "dtype: int64"
      ]
     },
     "execution_count": 15,
     "metadata": {},
     "output_type": "execute_result"
    }
   ],
   "source": [
    "#Check for missing data\n",
    "#8813\n",
    "df.isnull().sum()"
   ]
  },
  {
   "cell_type": "code",
   "execution_count": 28,
   "metadata": {},
   "outputs": [
    {
     "data": {
      "text/plain": [
       "Index(['AAL', 'AAL', 'AAL', 'AAL', 'AAL', 'AAL', 'AAL', 'AAL', 'AAL', 'AAL',\n",
       "       ...\n",
       "       'ZTS', 'ZTS', 'ZTS', 'ZTS', 'ZTS', 'ZTS', 'ZTS', 'ZTS', 'ZTS', 'ZTS'],\n",
       "      dtype='object', name='Name', length=612734)"
      ]
     },
     "execution_count": 28,
     "metadata": {},
     "output_type": "execute_result"
    }
   ],
   "source": [
    "df.index"
   ]
  },
  {
   "cell_type": "code",
   "execution_count": 17,
   "metadata": {
    "collapsed": true
   },
   "outputs": [],
   "source": [
    "#Drop missing rows\n",
    "df.dropna(inplace = True)"
   ]
  },
  {
   "cell_type": "code",
   "execution_count": 18,
   "metadata": {},
   "outputs": [
    {
     "data": {
      "text/plain": [
       "Sector\n",
       "Consumer Discretionary        21.488716\n",
       "Consumer Staples              22.109677\n",
       "Energy                        -8.778538\n",
       "Financials                    10.252233\n",
       "Health Care                   36.125196\n",
       "Industrials                   20.688022\n",
       "Information Technology        31.142044\n",
       "Materials                     14.759770\n",
       "Real Estate                   24.775160\n",
       "Telecommunication Services    -0.160739\n",
       "Utilities                     11.867314\n",
       "Name: close, dtype: float64"
      ]
     },
     "execution_count": 18,
     "metadata": {},
     "output_type": "execute_result"
    }
   ],
   "source": [
    "df['2016'].groupby('Sector').close.mean() - df['2013'].groupby('Sector').close.mean()"
   ]
  },
  {
   "cell_type": "code",
   "execution_count": 19,
   "metadata": {
    "scrolled": true
   },
   "outputs": [
    {
     "name": "stdout",
     "output_type": "stream",
     "text": [
      "['Andeavor' 'Apache Corporation' 'Anadarko Petroleum Corp'\n",
      " 'Cabot Oil & Gas' 'ConocoPhillips' 'Chevron Corp.' 'Concho Resources'\n",
      " 'Devon Energy Corp.' 'EOG Resources' 'EQT Corporation' 'TechnipFMC'\n",
      " 'Halliburton Co.' 'Hess Corporation' 'Helmerich & Payne' 'Kinder Morgan'\n",
      " 'Marathon Petroleum' 'Marathon Oil Corp.' 'Noble Energy Inc'\n",
      " 'Newfield Exploration Co' 'National Oilwell Varco Inc.' 'ONEOK'\n",
      " 'Occidental Petroleum' 'Phillips 66' 'Pioneer Natural Resources'\n",
      " 'Range Resources Corp.' 'Schlumberger Ltd.' 'Valero Energy'\n",
      " 'Williams Cos.' 'Cimarex Energy' 'Exxon Mobil Corp.']\n",
      "['Andeavor' 'Apache Corporation' 'Anadarko Petroleum Corp'\n",
      " 'Cabot Oil & Gas' 'ConocoPhillips' 'Chevron Corp.' 'Concho Resources'\n",
      " 'Devon Energy Corp.' 'EOG Resources' 'EQT Corporation' 'TechnipFMC'\n",
      " 'Halliburton Co.' 'Hess Corporation' 'Helmerich & Payne' 'Kinder Morgan'\n",
      " 'Marathon Petroleum' 'Marathon Oil Corp.' 'Noble Energy Inc'\n",
      " 'Newfield Exploration Co' 'National Oilwell Varco Inc.' 'ONEOK'\n",
      " 'Occidental Petroleum' 'Phillips 66' 'Pioneer Natural Resources'\n",
      " 'Range Resources Corp.' 'Schlumberger Ltd.' 'Valero Energy'\n",
      " 'Williams Cos.' 'Cimarex Energy' 'Exxon Mobil Corp.']\n"
     ]
    }
   ],
   "source": [
    "df2016 = df['2016']\n",
    "print(df2016[df2016['Sector'] == 'Energy'].full_name.unique())\n",
    "\n",
    "df2013 = df['2013']\n",
    "print(df2013[df2013['Sector'] == 'Energy'].full_name.unique())"
   ]
  },
  {
   "cell_type": "code",
   "execution_count": 20,
   "metadata": {
    "scrolled": true
   },
   "outputs": [
    {
     "data": {
      "text/plain": [
       "Text(0.5,1,'Average Close Price Changes 2016-2013')"
      ]
     },
     "execution_count": 20,
     "metadata": {},
     "output_type": "execute_result"
    },
    {
     "data": {
      "image/png": "[encoded data removed]",
      "text/plain": [
       "<matplotlib.figure.Figure at 0x10db8a908>"
      ]
     },
     "metadata": {},
     "output_type": "display_data"
    }
   ],
   "source": [
    "(df['2016'].groupby('Sector').close.mean() - df['2015'].groupby('Sector').close.mean()).plot(kind = 'bar',\n",
    "                                                                                            yticks = np.arange(-10,41, 5),\n",
    "                                                                                            figsize = (8,8))\n",
    "plt.ylabel('Avg Close Price Change')\n",
    "plt.title('Average Close Price Changes 2016-2013')\n"
   ]
  },
  {
   "cell_type": "code",
   "execution_count": 21,
   "metadata": {},
   "outputs": [
    {
     "name": "stdout",
     "output_type": "stream",
     "text": [
      "[-10  -9  -8  -7  -6  -5  -4  -3  -2  -1   0   1   2   3   4   5   6   7\n",
      "   8   9]\n"
     ]
    }
   ],
   "source": [
    "print(np.arange(-10,10))"
   ]
  },
  {
   "cell_type": "code",
   "execution_count": 22,
   "metadata": {},
   "outputs": [],
   "source": [
    "df2016 = df['2016']\n",
    "energy_sector_companies = df2016[df2016['Sector'] == 'Energy']\n",
    "#energy_close = energy_sector_companies.pct_change(axis='Name')\n",
    "energy_open = energy_sector_companies.groupby('Name')['open']\n",
    "\n",
    "#pct_change = (energy_close - energy_open)/energy_open\n"
   ]
  },
  {
   "cell_type": "code",
   "execution_count": 23,
   "metadata": {
    "collapsed": true
   },
   "outputs": [],
   "source": [
    "df.reset_index(inplace = True)\n",
    "df.set_index('Name', inplace = True)"
   ]
  },
  {
   "cell_type": "code",
   "execution_count": 24,
   "metadata": {},
   "outputs": [
    {
     "ename": "NameError",
     "evalue": "name 'dfenergy' is not defined",
     "output_type": "error",
     "traceback": [
      "\u001b[0;31m---------------------------------------------------------------------------\u001b[0m",
      "\u001b[0;31mNameError\u001b[0m                                 Traceback (most recent call last)",
      "\u001b[0;32m<ipython-input-24-30211e59a6e2>\u001b[0m in \u001b[0;36m<module>\u001b[0;34m()\u001b[0m\n\u001b[0;32m----> 1\u001b[0;31m \u001b[0mdfenergy\u001b[0m\u001b[0;34m.\u001b[0m\u001b[0mindex\u001b[0m\u001b[0;34m.\u001b[0m\u001b[0munique\u001b[0m\u001b[0;34m(\u001b[0m\u001b[0;34m)\u001b[0m\u001b[0;34m[\u001b[0m\u001b[0;36m0\u001b[0m\u001b[0;34m]\u001b[0m\u001b[0;34m\u001b[0m\u001b[0m\n\u001b[0m",
      "\u001b[0;31mNameError\u001b[0m: name 'dfenergy' is not defined"
     ]
    }
   ],
   "source": [
    "dfenergy.index.unique()[0]"
   ]
  },
  {
   "cell_type": "code",
   "execution_count": null,
   "metadata": {},
   "outputs": [],
   "source": [
    "dfenergy = df[df.Sector == 'Energy']\n",
    "\n",
    "for each in dfenergy.index.unique():\n",
    "    print(dfenergy.iloc(each, 'close'))\n"
   ]
  },
  {
   "cell_type": "code",
   "execution_count": null,
   "metadata": {},
   "outputs": [],
   "source": [
    "#Bar graph of mean close price for sectors\n",
    "df.groupby('Sector').close.mean().plot(kind='bar', figsize = (8,8))"
   ]
  },
  {
   "cell_type": "code",
   "execution_count": null,
   "metadata": {},
   "outputs": [],
   "source": [
    "#Bar graph of median close prices\n",
    "df.groupby('Sector').close.median().plot(kind = 'bar', figsize = (8,8))"
   ]
  },
  {
   "cell_type": "code",
   "execution_count": null,
   "metadata": {
    "collapsed": true
   },
   "outputs": [],
   "source": [
    "sectors_and_companies = dict(df.groupby('Sector').full_name.unique())"
   ]
  },
  {
   "cell_type": "code",
   "execution_count": null,
   "metadata": {},
   "outputs": [],
   "source": [
    "sectors_and_companies.keys()"
   ]
  },
  {
   "cell_type": "code",
   "execution_count": null,
   "metadata": {},
   "outputs": [],
   "source": [
    "sum(map(len, sectors_and_companies.values()))"
   ]
  },
  {
   "cell_type": "code",
   "execution_count": null,
   "metadata": {},
   "outputs": [],
   "source": [
    "list(map(len, sectors_and_companies.values()))"
   ]
  },
  {
   "cell_type": "code",
   "execution_count": null,
   "metadata": {},
   "outputs": [],
   "source": [
    "sectors_and_companies.keys()\n",
    "sectors_and_companies['Consumer Staples'][1]"
   ]
  },
  {
   "cell_type": "code",
   "execution_count": 27,
   "metadata": {},
   "outputs": [
    {
     "data": {
      "text/plain": [
       "Index(['AAL', 'AAL', 'AAL', 'AAL', 'AAL', 'AAL', 'AAL', 'AAL', 'AAL', 'AAL',\n",
       "       ...\n",
       "       'ZTS', 'ZTS', 'ZTS', 'ZTS', 'ZTS', 'ZTS', 'ZTS', 'ZTS', 'ZTS', 'ZTS'],\n",
       "      dtype='object', name='Name', length=612734)"
      ]
     },
     "execution_count": 27,
     "metadata": {},
     "output_type": "execute_result"
    }
   ],
   "source": [
    "df.index"
   ]
  },
  {
   "cell_type": "code",
   "execution_count": 67,
   "metadata": {},
   "outputs": [
    {
     "data": {
      "text/plain": [
       "LinearRegression(copy_X=True, fit_intercept=True, n_jobs=1, normalize=False)"
      ]
     },
     "execution_count": 67,
     "metadata": {},
     "output_type": "execute_result"
    }
   ],
   "source": [
    "aapl_df = df[df['Name'] == 'AAPL']\n",
    "\n",
    "X_train = (aapl_df.index - aapl_df.index[0]).days.values[0:629].reshape(-1,1)\n",
    "y_train = aapl_df['close'].values[0:629].reshape(-1,1)\n",
    "\n",
    "X_test = (aapl_df.index - aapl_df.index[0]).days.values[629:-1].reshape(-1,1)\n",
    "y_test = aapl_df['close'].values[629:-1].reshape(-1,1)\n",
    "\n",
    "lin_reg_model = sklearn.linear_model.LinearRegression()\n",
    "\n",
    "lin_reg_model.fit(X_train, y_train)\n",
    "\n",
    "#print(5000-1893)\n",
    "\n",
    "#From 2-8-13 to 4-15-18: 1892 days\n",
    "#lin_reg_model.predict()"
   ]
  },
  {
   "cell_type": "code",
   "execution_count": 71,
   "metadata": {
    "scrolled": false
   },
   "outputs": [
    {
     "data": {
      "text/plain": [
       "0.36457012847965997"
      ]
     },
     "execution_count": 71,
     "metadata": {},
     "output_type": "execute_result"
    }
   ],
   "source": [
    "((lin_reg_model.predict(X_test) - y_test)/y_test).mean()"
   ]
  },
  {
   "cell_type": "code",
   "execution_count": 64,
   "metadata": {},
   "outputs": [
    {
     "data": {
      "text/plain": [
       "1259"
      ]
     },
     "execution_count": 64,
     "metadata": {},
     "output_type": "execute_result"
    }
   ],
   "source": [
    "len((aapl_df.index - aapl_df.index[0]).days.values)"
   ]
  },
  {
   "cell_type": "code",
   "execution_count": 53,
   "metadata": {},
   "outputs": [
    {
     "data": {
      "text/plain": [
       "[<matplotlib.lines.Line2D at 0x1a1087fa20>]"
      ]
     },
     "execution_count": 53,
     "metadata": {},
     "output_type": "execute_result"
    },
    {
     "data": {
      "image/png": "[encoded data removed]",
      "text/plain": [
       "<matplotlib.figure.Figure at 0x1a1082b9b0>"
      ]
     },
     "metadata": {},
     "output_type": "display_data"
    }
   ],
   "source": [
    "plt.plot(X,y)"
   ]
  },
  {
   "cell_type": "code",
   "execution_count": null,
   "metadata": {
    "collapsed": true
   },
   "outputs": [],
   "source": [
    "stock_data.reset_index(inplace = True)"
   ]
  },
  {
   "cell_type": "code",
   "execution_count": null,
   "metadata": {
    "collapsed": true
   },
   "outputs": [],
   "source": [
    "stock_data.set_index('date', inplace = True)"
   ]
  },
  {
   "cell_type": "code",
   "execution_count": null,
   "metadata": {
    "collapsed": true
   },
   "outputs": [],
   "source": [
    "sector_data.reset_index(inplace = True)"
   ]
  },
  {
   "cell_type": "code",
   "execution_count": null,
   "metadata": {},
   "outputs": [],
   "source": []
  },
  {
   "cell_type": "code",
   "execution_count": null,
   "metadata": {},
   "outputs": [],
   "source": []
  },
  {
   "cell_type": "code",
   "execution_count": null,
   "metadata": {
    "collapsed": true
   },
   "outputs": [],
   "source": []
  },
  {
   "cell_type": "code",
   "execution_count": null,
   "metadata": {},
   "outputs": [],
   "source": []
  },
  {
   "cell_type": "code",
   "execution_count": null,
   "metadata": {},
   "outputs": [],
   "source": [
    "df[df['Name'] == 'CHK']"
   ]
  },
  {
   "cell_type": "code",
   "execution_count": null,
   "metadata": {
    "collapsed": true
   },
   "outputs": [],
   "source": []
  },
  {
   "cell_type": "code",
   "execution_count": null,
   "metadata": {},
   "outputs": [],
   "source": [
    "df.loc[:, df.Name == 'CBG'] = 'CBRE'"
   ]
  },
  {
   "cell_type": "code",
   "execution_count": null,
   "metadata": {},
   "outputs": [],
   "source": []
  },
  {
   "cell_type": "code",
   "execution_count": null,
   "metadata": {},
   "outputs": [],
   "source": [
    "df[df['Name'] == 'CBG']"
   ]
  },
  {
   "cell_type": "code",
   "execution_count": null,
   "metadata": {
    "collapsed": true
   },
   "outputs": [],
   "source": [
    "##### for row,column in sectors.iterrows():\n",
    "#     for stock in stock_data.Name.unique():\n",
    "#         if stock == column.Symbol:\n",
    "#             print(stock, column.Name, column.Sector)\n",
    "\n",
    "start = time.time()\n",
    "for row1, column1 in sectors.iterrows():\n",
    "    for row2, column2 in stock_data.iterrows():\n",
    "        if column1.Symbol == column2.Name:\n",
    "            column2.sector = column1.sector\n",
    "            #print(column2.Name, column1.Name, column1.Sector)\n",
    "end = time.time()\n",
    "print(end-start)"
   ]
  },
  {
   "cell_type": "code",
   "execution_count": null,
   "metadata": {
    "collapsed": true
   },
   "outputs": [],
   "source": []
  },
  {
   "cell_type": "code",
   "execution_count": null,
   "metadata": {},
   "outputs": [],
   "source": [
    "df['2018'].groupby('Sector').sum()"
   ]
  },
  {
   "cell_type": "code",
   "execution_count": null,
   "metadata": {
    "collapsed": true
   },
   "outputs": [],
   "source": []
  }
 ],
 "metadata": {
  "kernelspec": {
   "display_name": "Python [default]",
   "language": "python",
   "name": "python3"
  },
  "language_info": {
   "codemirror_mode": {
    "name": "ipython",
    "version": 3
   },
   "file_extension": ".py",
   "mimetype": "text/x-python",
   "name": "python",
   "nbconvert_exporter": "python",
   "pygments_lexer": "ipython3",
   "version": "3.6.3"
  }
 },
 "nbformat": 4,
 "nbformat_minor": 2
}
