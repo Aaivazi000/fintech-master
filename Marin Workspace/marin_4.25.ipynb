{
 "cells": [
  {
   "cell_type": "markdown",
   "metadata": {},
   "source": [
    "# Downloading data directly from Google"
   ]
  },
  {
   "cell_type": "code",
   "execution_count": null,
   "metadata": {
    "collapsed": true
   },
   "outputs": [],
   "source": [
    "from pydrive.auth import GoogleAuth\n",
    "from pydrive.drive import GoogleDrive"
   ]
  },
  {
   "cell_type": "code",
   "execution_count": null,
   "metadata": {
    "collapsed": true
   },
   "outputs": [],
   "source": [
    "'''\n",
    "Follow directions here to create an API to access the data hosted on \n",
    "the drive: https://pythonhosted.org/PyDrive/quickstart.html\n",
    "\n",
    "Once the client_secrets.json file is in ./Marin Workspace/ run the code \n",
    "below just once\n",
    "'''\n",
    "gauth = GoogleAuth()\n",
    "gauth.LocalWebserverAuth()"
   ]
  },
  {
   "cell_type": "code",
   "execution_count": null,
   "metadata": {
    "collapsed": true
   },
   "outputs": [],
   "source": [
    "'''\n",
    "Run the following code to download the data using the file's ID\n",
    "'''\n",
    "SP500_sectors_filled = '1S6lRlfRRVJT2pH_fLBgX9ZbWjroD-DSZ'\n",
    "drive = GoogleDrive(gauth)\n",
    "data = drive.CreateFile({'id': all_stocks_5yr})\n",
    "data.GetContentFile('SP500_sectors_filled.csv')"
   ]
  },
  {
   "cell_type": "markdown",
   "metadata": {},
   "source": [
    "# Load stock data and sector data"
   ]
  },
  {
   "cell_type": "code",
   "execution_count": null,
   "metadata": {
    "collapsed": true
   },
   "outputs": [],
   "source": [
    "import time\n",
    "import numpy as np\n",
    "import pandas as pd\n",
    "from pandas.plotting import lag_plot\n",
    "from matplotlib import pyplot as plt\n",
    "%matplotlib inline"
   ]
  },
  {
   "cell_type": "code",
   "execution_count": null,
   "metadata": {},
   "outputs": [],
   "source": [
    "stock_data = pd.read_csv('all_stocks_5yr.csv', parse_dates=['date'])\n",
    "sector_data = pd.read_csv('sectors.csv')\n",
    "sp_filled = pd.read_csv('SP500_sectors_filled.csv', parse_dates=['date'])\n",
    "beta = pd.read_csv('PR_B.csv')"
   ]
  },
  {
   "cell_type": "code",
   "execution_count": null,
   "metadata": {
    "collapsed": true
   },
   "outputs": [],
   "source": [
    "def combine_dataframes(stock_df, sector_df):\n",
    "    '''\n",
    "    First parameter must be the stock dataframe and the second paramater must be the sector \n",
    "    dataframe. This will return a dataframe matching stocks to their sectors\n",
    "    '''\n",
    "    \n",
    "    stock_df.set_index('Name', inplace=True)\n",
    "    sector_df.set_index('Symbol', inplace=True)\n",
    "    \n",
    "    df = pd.concat([stock_df, sector_df], axis=1, join_axes=[stock_df.index])\n",
    "    \n",
    "    df.rename(columns={'Name':'full_name'}, inplace=True)\n",
    "    df.reset_index(inplace=True)\n",
    "    df.set_index('date', inplace=True)\n",
    "    \n",
    "    return df"
   ]
  },
  {
   "cell_type": "markdown",
   "metadata": {},
   "source": [
    "# Dense Sequential Model - Helper Functions"
   ]
  },
  {
   "cell_type": "code",
   "execution_count": null,
   "metadata": {},
   "outputs": [],
   "source": [
    "import sklearn.linear_model\n",
    "from sklearn import preprocessing\n",
    "from sklearn.model_selection import train_test_split\n",
    "from sklearn.metrics import confusion_matrix\n",
    "from sklearn import metrics\n",
    "from keras.utils import to_categorical\n",
    "from keras.models import Sequential\n",
    "from keras.layers.core import Dense, Activation\n",
    "from keras.callbacks import EarlyStopping\n",
    "from keras.callbacks import ModelCheckpoint\n"
   ]
  },
  {
   "cell_type": "code",
   "execution_count": null,
   "metadata": {
    "collapsed": true
   },
   "outputs": [],
   "source": [
    "def remove_nulls(df):\n",
    "    '''\n",
    "    Takes in a dataframe and returns a mutated dataframe with rows of missing data dropped.\n",
    "    '''\n",
    "    \n",
    "    df.dropna(inplace=True)\n",
    "    \n",
    "    return df"
   ]
  },
  {
   "cell_type": "code",
   "execution_count": null,
   "metadata": {
    "collapsed": true
   },
   "outputs": [],
   "source": [
    "def drop_columns(df, *args):\n",
    "    '''\n",
    "    Takes in a dataframe and a list of column names to be removed.\n",
    "    Useful for when feeding into a model that does not take in datetime or labels.\n",
    "    Returns the mutated dataframe with the desired columns removed.\n",
    "    '''\n",
    "    \n",
    "    df.drop(list(args), axis=1, inplace=True)\n",
    "    \n",
    "    return df"
   ]
  },
  {
   "cell_type": "code",
   "execution_count": null,
   "metadata": {
    "collapsed": true
   },
   "outputs": [],
   "source": [
    "def encode_sectors(df, sector_column):\n",
    "    '''\n",
    "    Takes in the dataframe and the name of the column that describes the sectors.\n",
    "    Mutates the dataframe with encoded sector labels and returns an array of the \n",
    "    encoded sectors. Required because Keras will not take in labels as strings.\n",
    "    '''\n",
    "    \n",
    "    label_encoder = preprocessing.LabelEncoder()\n",
    "    df[sector_column] = label_encoder.fit_transform(df[sector_column])\n",
    "    \n",
    "    return label_encoder.classes_ "
   ]
  },
  {
   "cell_type": "code",
   "execution_count": null,
   "metadata": {
    "collapsed": true
   },
   "outputs": [],
   "source": [
    "def model_inputs(df, sector_column):\n",
    "    '''\n",
    "    Takes in the dataframe and the name of the column that describes the sectors.\n",
    "    Returns x and y values as float32 types to be fed into the keras model. \n",
    "    There must not be any str or datetime types in any of the columns.\n",
    "    '''\n",
    "    \n",
    "    temp_df = df.drop(sector_column, axis=1)\n",
    "    x = temp_df.values\n",
    "    x = x.astype(np.float32)\n",
    "    \n",
    "    y = df[sector_column].values.astype(np.float32)\n",
    "    y = y.reshape(-1, 1)\n",
    "    y = to_categorical(y)\n",
    "    \n",
    "    return x, y"
   ]
  },
  {
   "cell_type": "markdown",
   "metadata": {},
   "source": [
    "# Dense Sequential Model - Workflow"
   ]
  },
  {
   "cell_type": "code",
   "execution_count": null,
   "metadata": {},
   "outputs": [],
   "source": [
    "sp_filled.isnull().sum()"
   ]
  },
  {
   "cell_type": "code",
   "execution_count": null,
   "metadata": {},
   "outputs": [],
   "source": [
    "sp_filled = remove_nulls(sp_filled)\n",
    "print(sp_filled.isnull().sum())"
   ]
  },
  {
   "cell_type": "code",
   "execution_count": null,
   "metadata": {},
   "outputs": [],
   "source": [
    "sp_filled = drop_columns(sp_filled, 'date', 'Name')\n",
    "sectors_encoded = encode_sectors(sp_filled, 'Sector')\n",
    "X, y = model_inputs(sp_filled, 'Sector')\n",
    "X_train, X_test, y_train, y_test = train_test_split(X, y, test_size=0.2, random_state=7)\n",
    "X_train = preprocessing.normalize(X_train, norm='l2')\n",
    "X_test = preprocessing.normalize(X_test, norm='l2')"
   ]
  },
  {
   "cell_type": "code",
   "execution_count": null,
   "metadata": {},
   "outputs": [],
   "source": [
    "#sequential meaning nodes are connected in \n",
    "model = Sequential()\n",
    "\n",
    "#hidden layer 1, input dimensionality\n",
    "model.add(Dense(5, input_dim=X.shape[1], activation='relu'))\n",
    "\n",
    "#hidden layer 2\n",
    "model.add(Dense(5, activation='relu'))\n",
    "\n",
    "#output layer (11 for 11 sectors)\n",
    "model.add(Dense(y.shape[1], activation='softmax'))\n",
    "\n",
    "#compile model\n",
    "model.compile(loss='categorical_crossentropy', optimizer='adam', metrics=['accuracy'])\n",
    "\n",
    "#fit model\n",
    "model.fit(X_train, y_train, validation_data=(X_test, y_test), epochs=5)"
   ]
  },
  {
   "cell_type": "markdown",
   "metadata": {},
   "source": [
    "# Dense Sequential Model - Accuracy"
   ]
  },
  {
   "cell_type": "code",
   "execution_count": null,
   "metadata": {},
   "outputs": [],
   "source": [
    "model_pred = model.predict(X_test)\n",
    "model_pred = np.argmax(model_pred, axis=1)\n",
    "y_test_model = np.argmax(y_test, axis=1)\n",
    "\n",
    "accuracy_score = metrics.accuracy_score(y_test_model, model_pred)\n",
    "print(accuracy_score)"
   ]
  },
  {
   "cell_type": "code",
   "execution_count": null,
   "metadata": {},
   "outputs": [],
   "source": [
    "confusion_matrix = confusion_matrix(y_test_model, model_pred)\n",
    "print(confusion_matrix)"
   ]
  },
  {
   "cell_type": "code",
   "execution_count": null,
   "metadata": {},
   "outputs": [],
   "source": [
    "#Score of 16% accuracy when using L2 normalization"
   ]
  },
  {
   "cell_type": "code",
   "execution_count": null,
   "metadata": {},
   "outputs": [],
   "source": []
  },
  {
   "cell_type": "code",
   "execution_count": null,
   "metadata": {
    "collapsed": true
   },
   "outputs": [],
   "source": []
  },
  {
   "cell_type": "code",
   "execution_count": null,
   "metadata": {
    "collapsed": true
   },
   "outputs": [],
   "source": []
  },
  {
   "cell_type": "code",
   "execution_count": null,
   "metadata": {
    "collapsed": true
   },
   "outputs": [],
   "source": []
  }
 ],
 "metadata": {
  "kernelspec": {
   "display_name": "Python [default]",
   "language": "python",
   "name": "python3"
  },
  "language_info": {
   "codemirror_mode": {
    "name": "ipython",
    "version": 3
   },
   "file_extension": ".py",
   "mimetype": "text/x-python",
   "name": "python",
   "nbconvert_exporter": "python",
   "pygments_lexer": "ipython3",
   "version": "3.6.3"
  }
 },
 "nbformat": 4,
 "nbformat_minor": 2
}
