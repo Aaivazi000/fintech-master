{
 "cells": [
  {
   "cell_type": "code",
   "execution_count": 7,
   "metadata": {
    "collapsed": true
   },
   "outputs": [],
   "source": [
    "from pydrive.auth import GoogleAuth\n",
    "from pydrive.drive import GoogleDrive\n",
    "import pandas as pd\n",
    "import numpy as np\n",
    "from matplotlib import pyplot as plt\n",
    "from pandas.plotting import lag_plot\n",
    "import sklearn.linear_model\n",
    "import time\n",
    "%matplotlib inline"
   ]
  },
  {
   "cell_type": "markdown",
   "metadata": {},
   "source": [
    "# Downloading data directly from Google"
   ]
  },
  {
   "cell_type": "code",
   "execution_count": null,
   "metadata": {
    "collapsed": true
   },
   "outputs": [],
   "source": [
    "'''\n",
    "Follow directions here to create an API to access the data hosted on \n",
    "the drive: https://pythonhosted.org/PyDrive/quickstart.html\n",
    "\n",
    "Once the client_secrets.json file is in ./Marin Workspace/ run the code \n",
    "below just once\n",
    "'''\n",
    "gauth = GoogleAuth()\n",
    "gauth.LocalWebserverAuth()"
   ]
  },
  {
   "cell_type": "code",
   "execution_count": null,
   "metadata": {
    "collapsed": true
   },
   "outputs": [],
   "source": [
    "'''\n",
    "Run the following code to download the data using the file's ID\n",
    "'''\n",
    "SP500_sectors_filled = '1S6lRlfRRVJT2pH_fLBgX9ZbWjroD-DSZ'\n",
    "drive = GoogleDrive(gauth)\n",
    "data = drive.CreateFile({'id': all_stocks_5yr})\n",
    "data.GetContentFile('SP500_sectors_filled.csv')"
   ]
  },
  {
   "cell_type": "markdown",
   "metadata": {},
   "source": [
    "# Load stock data and sector data"
   ]
  },
  {
   "cell_type": "code",
   "execution_count": 15,
   "metadata": {},
   "outputs": [
    {
     "ename": "UnicodeDecodeError",
     "evalue": "'utf-8' codec can't decode bytes in position 0-1: invalid continuation byte",
     "output_type": "error",
     "traceback": [
      "\u001b[0;31m---------------------------------------------------------------------------\u001b[0m",
      "\u001b[0;31mUnicodeDecodeError\u001b[0m                        Traceback (most recent call last)",
      "\u001b[0;32m<ipython-input-15-58923a624e7b>\u001b[0m in \u001b[0;36m<module>\u001b[0;34m()\u001b[0m\n\u001b[1;32m      2\u001b[0m \u001b[0msector_data\u001b[0m \u001b[0;34m=\u001b[0m \u001b[0mpd\u001b[0m\u001b[0;34m.\u001b[0m\u001b[0mread_csv\u001b[0m\u001b[0;34m(\u001b[0m\u001b[0;34m'sectors.csv'\u001b[0m\u001b[0;34m)\u001b[0m\u001b[0;34m\u001b[0m\u001b[0m\n\u001b[1;32m      3\u001b[0m \u001b[0msp_filled\u001b[0m \u001b[0;34m=\u001b[0m \u001b[0mpd\u001b[0m\u001b[0;34m.\u001b[0m\u001b[0mread_csv\u001b[0m\u001b[0;34m(\u001b[0m\u001b[0;34m'SP500_sectors_filled.csv'\u001b[0m\u001b[0;34m)\u001b[0m\u001b[0;34m\u001b[0m\u001b[0m\n\u001b[0;32m----> 4\u001b[0;31m \u001b[0msp_metrics\u001b[0m \u001b[0;34m=\u001b[0m \u001b[0mpd\u001b[0m\u001b[0;34m.\u001b[0m\u001b[0mread_csv\u001b[0m\u001b[0;34m(\u001b[0m\u001b[0;34m'sp_metrics.csv'\u001b[0m\u001b[0;34m)\u001b[0m\u001b[0;34m\u001b[0m\u001b[0m\n\u001b[0m",
      "\u001b[0;32m~/anaconda3/lib/python3.6/site-packages/pandas/io/parsers.py\u001b[0m in \u001b[0;36mparser_f\u001b[0;34m(filepath_or_buffer, sep, delimiter, header, names, index_col, usecols, squeeze, prefix, mangle_dupe_cols, dtype, engine, converters, true_values, false_values, skipinitialspace, skiprows, nrows, na_values, keep_default_na, na_filter, verbose, skip_blank_lines, parse_dates, infer_datetime_format, keep_date_col, date_parser, dayfirst, iterator, chunksize, compression, thousands, decimal, lineterminator, quotechar, quoting, escapechar, comment, encoding, dialect, tupleize_cols, error_bad_lines, warn_bad_lines, skipfooter, skip_footer, doublequote, delim_whitespace, as_recarray, compact_ints, use_unsigned, low_memory, buffer_lines, memory_map, float_precision)\u001b[0m\n\u001b[1;32m    653\u001b[0m                     skip_blank_lines=skip_blank_lines)\n\u001b[1;32m    654\u001b[0m \u001b[0;34m\u001b[0m\u001b[0m\n\u001b[0;32m--> 655\u001b[0;31m         \u001b[0;32mreturn\u001b[0m \u001b[0m_read\u001b[0m\u001b[0;34m(\u001b[0m\u001b[0mfilepath_or_buffer\u001b[0m\u001b[0;34m,\u001b[0m \u001b[0mkwds\u001b[0m\u001b[0;34m)\u001b[0m\u001b[0;34m\u001b[0m\u001b[0m\n\u001b[0m\u001b[1;32m    656\u001b[0m \u001b[0;34m\u001b[0m\u001b[0m\n\u001b[1;32m    657\u001b[0m     \u001b[0mparser_f\u001b[0m\u001b[0;34m.\u001b[0m\u001b[0m__name__\u001b[0m \u001b[0;34m=\u001b[0m \u001b[0mname\u001b[0m\u001b[0;34m\u001b[0m\u001b[0m\n",
      "\u001b[0;32m~/anaconda3/lib/python3.6/site-packages/pandas/io/parsers.py\u001b[0m in \u001b[0;36m_read\u001b[0;34m(filepath_or_buffer, kwds)\u001b[0m\n\u001b[1;32m    403\u001b[0m \u001b[0;34m\u001b[0m\u001b[0m\n\u001b[1;32m    404\u001b[0m     \u001b[0;31m# Create the parser.\u001b[0m\u001b[0;34m\u001b[0m\u001b[0;34m\u001b[0m\u001b[0m\n\u001b[0;32m--> 405\u001b[0;31m     \u001b[0mparser\u001b[0m \u001b[0;34m=\u001b[0m \u001b[0mTextFileReader\u001b[0m\u001b[0;34m(\u001b[0m\u001b[0mfilepath_or_buffer\u001b[0m\u001b[0;34m,\u001b[0m \u001b[0;34m**\u001b[0m\u001b[0mkwds\u001b[0m\u001b[0;34m)\u001b[0m\u001b[0;34m\u001b[0m\u001b[0m\n\u001b[0m\u001b[1;32m    406\u001b[0m \u001b[0;34m\u001b[0m\u001b[0m\n\u001b[1;32m    407\u001b[0m     \u001b[0;32mif\u001b[0m \u001b[0mchunksize\u001b[0m \u001b[0;32mor\u001b[0m \u001b[0miterator\u001b[0m\u001b[0;34m:\u001b[0m\u001b[0;34m\u001b[0m\u001b[0m\n",
      "\u001b[0;32m~/anaconda3/lib/python3.6/site-packages/pandas/io/parsers.py\u001b[0m in \u001b[0;36m__init__\u001b[0;34m(self, f, engine, **kwds)\u001b[0m\n\u001b[1;32m    762\u001b[0m             \u001b[0mself\u001b[0m\u001b[0;34m.\u001b[0m\u001b[0moptions\u001b[0m\u001b[0;34m[\u001b[0m\u001b[0;34m'has_index_names'\u001b[0m\u001b[0;34m]\u001b[0m \u001b[0;34m=\u001b[0m \u001b[0mkwds\u001b[0m\u001b[0;34m[\u001b[0m\u001b[0;34m'has_index_names'\u001b[0m\u001b[0;34m]\u001b[0m\u001b[0;34m\u001b[0m\u001b[0m\n\u001b[1;32m    763\u001b[0m \u001b[0;34m\u001b[0m\u001b[0m\n\u001b[0;32m--> 764\u001b[0;31m         \u001b[0mself\u001b[0m\u001b[0;34m.\u001b[0m\u001b[0m_make_engine\u001b[0m\u001b[0;34m(\u001b[0m\u001b[0mself\u001b[0m\u001b[0;34m.\u001b[0m\u001b[0mengine\u001b[0m\u001b[0;34m)\u001b[0m\u001b[0;34m\u001b[0m\u001b[0m\n\u001b[0m\u001b[1;32m    765\u001b[0m \u001b[0;34m\u001b[0m\u001b[0m\n\u001b[1;32m    766\u001b[0m     \u001b[0;32mdef\u001b[0m \u001b[0mclose\u001b[0m\u001b[0;34m(\u001b[0m\u001b[0mself\u001b[0m\u001b[0;34m)\u001b[0m\u001b[0;34m:\u001b[0m\u001b[0;34m\u001b[0m\u001b[0m\n",
      "\u001b[0;32m~/anaconda3/lib/python3.6/site-packages/pandas/io/parsers.py\u001b[0m in \u001b[0;36m_make_engine\u001b[0;34m(self, engine)\u001b[0m\n\u001b[1;32m    983\u001b[0m     \u001b[0;32mdef\u001b[0m \u001b[0m_make_engine\u001b[0m\u001b[0;34m(\u001b[0m\u001b[0mself\u001b[0m\u001b[0;34m,\u001b[0m \u001b[0mengine\u001b[0m\u001b[0;34m=\u001b[0m\u001b[0;34m'c'\u001b[0m\u001b[0;34m)\u001b[0m\u001b[0;34m:\u001b[0m\u001b[0;34m\u001b[0m\u001b[0m\n\u001b[1;32m    984\u001b[0m         \u001b[0;32mif\u001b[0m \u001b[0mengine\u001b[0m \u001b[0;34m==\u001b[0m \u001b[0;34m'c'\u001b[0m\u001b[0;34m:\u001b[0m\u001b[0;34m\u001b[0m\u001b[0m\n\u001b[0;32m--> 985\u001b[0;31m             \u001b[0mself\u001b[0m\u001b[0;34m.\u001b[0m\u001b[0m_engine\u001b[0m \u001b[0;34m=\u001b[0m \u001b[0mCParserWrapper\u001b[0m\u001b[0;34m(\u001b[0m\u001b[0mself\u001b[0m\u001b[0;34m.\u001b[0m\u001b[0mf\u001b[0m\u001b[0;34m,\u001b[0m \u001b[0;34m**\u001b[0m\u001b[0mself\u001b[0m\u001b[0;34m.\u001b[0m\u001b[0moptions\u001b[0m\u001b[0;34m)\u001b[0m\u001b[0;34m\u001b[0m\u001b[0m\n\u001b[0m\u001b[1;32m    986\u001b[0m         \u001b[0;32melse\u001b[0m\u001b[0;34m:\u001b[0m\u001b[0;34m\u001b[0m\u001b[0m\n\u001b[1;32m    987\u001b[0m             \u001b[0;32mif\u001b[0m \u001b[0mengine\u001b[0m \u001b[0;34m==\u001b[0m \u001b[0;34m'python'\u001b[0m\u001b[0;34m:\u001b[0m\u001b[0;34m\u001b[0m\u001b[0m\n",
      "\u001b[0;32m~/anaconda3/lib/python3.6/site-packages/pandas/io/parsers.py\u001b[0m in \u001b[0;36m__init__\u001b[0;34m(self, src, **kwds)\u001b[0m\n\u001b[1;32m   1603\u001b[0m         \u001b[0mkwds\u001b[0m\u001b[0;34m[\u001b[0m\u001b[0;34m'allow_leading_cols'\u001b[0m\u001b[0;34m]\u001b[0m \u001b[0;34m=\u001b[0m \u001b[0mself\u001b[0m\u001b[0;34m.\u001b[0m\u001b[0mindex_col\u001b[0m \u001b[0;32mis\u001b[0m \u001b[0;32mnot\u001b[0m \u001b[0;32mFalse\u001b[0m\u001b[0;34m\u001b[0m\u001b[0m\n\u001b[1;32m   1604\u001b[0m \u001b[0;34m\u001b[0m\u001b[0m\n\u001b[0;32m-> 1605\u001b[0;31m         \u001b[0mself\u001b[0m\u001b[0;34m.\u001b[0m\u001b[0m_reader\u001b[0m \u001b[0;34m=\u001b[0m \u001b[0mparsers\u001b[0m\u001b[0;34m.\u001b[0m\u001b[0mTextReader\u001b[0m\u001b[0;34m(\u001b[0m\u001b[0msrc\u001b[0m\u001b[0;34m,\u001b[0m \u001b[0;34m**\u001b[0m\u001b[0mkwds\u001b[0m\u001b[0;34m)\u001b[0m\u001b[0;34m\u001b[0m\u001b[0m\n\u001b[0m\u001b[1;32m   1606\u001b[0m \u001b[0;34m\u001b[0m\u001b[0m\n\u001b[1;32m   1607\u001b[0m         \u001b[0;31m# XXX\u001b[0m\u001b[0;34m\u001b[0m\u001b[0;34m\u001b[0m\u001b[0m\n",
      "\u001b[0;32mpandas/_libs/parsers.pyx\u001b[0m in \u001b[0;36mpandas._libs.parsers.TextReader.__cinit__ (pandas/_libs/parsers.c:6175)\u001b[0;34m()\u001b[0m\n",
      "\u001b[0;32mpandas/_libs/parsers.pyx\u001b[0m in \u001b[0;36mpandas._libs.parsers.TextReader._get_header (pandas/_libs/parsers.c:9691)\u001b[0;34m()\u001b[0m\n",
      "\u001b[0;31mUnicodeDecodeError\u001b[0m: 'utf-8' codec can't decode bytes in position 0-1: invalid continuation byte"
     ]
    }
   ],
   "source": [
    "stock_data = pd.read_csv('all_stocks_5yr.csv', parse_dates = ['date'])\n",
    "sector_data = pd.read_csv('sectors.csv')\n",
    "sp_filled = pd.read_csv('SP500_sectors_filled.csv')\n",
    "sp_metrics = pd.read_csv('sp_metrics.csv')"
   ]
  },
  {
   "cell_type": "code",
   "execution_count": null,
   "metadata": {
    "collapsed": true
   },
   "outputs": [],
   "source": []
  },
  {
   "cell_type": "code",
   "execution_count": 11,
   "metadata": {},
   "outputs": [
    {
     "data": {
      "text/html": [
       "<div>\n",
       "<style>\n",
       "    .dataframe thead tr:only-child th {\n",
       "        text-align: right;\n",
       "    }\n",
       "\n",
       "    .dataframe thead th {\n",
       "        text-align: left;\n",
       "    }\n",
       "\n",
       "    .dataframe tbody tr th {\n",
       "        vertical-align: top;\n",
       "    }\n",
       "</style>\n",
       "<table border=\"1\" class=\"dataframe\">\n",
       "  <thead>\n",
       "    <tr style=\"text-align: right;\">\n",
       "      <th></th>\n",
       "      <th>date</th>\n",
       "      <th>open</th>\n",
       "      <th>high</th>\n",
       "      <th>low</th>\n",
       "      <th>close</th>\n",
       "      <th>volume</th>\n",
       "      <th>Name</th>\n",
       "      <th>per_change</th>\n",
       "      <th>Sector</th>\n",
       "    </tr>\n",
       "  </thead>\n",
       "  <tbody>\n",
       "    <tr>\n",
       "      <th>0</th>\n",
       "      <td>2013-02-08</td>\n",
       "      <td>15.07</td>\n",
       "      <td>15.12</td>\n",
       "      <td>14.63</td>\n",
       "      <td>14.75</td>\n",
       "      <td>8407500</td>\n",
       "      <td>AAL</td>\n",
       "      <td>-0.021234</td>\n",
       "      <td>Industrials</td>\n",
       "    </tr>\n",
       "    <tr>\n",
       "      <th>1</th>\n",
       "      <td>2013-02-11</td>\n",
       "      <td>14.89</td>\n",
       "      <td>15.01</td>\n",
       "      <td>14.26</td>\n",
       "      <td>14.46</td>\n",
       "      <td>8882000</td>\n",
       "      <td>AAL</td>\n",
       "      <td>-0.028878</td>\n",
       "      <td>Industrials</td>\n",
       "    </tr>\n",
       "    <tr>\n",
       "      <th>2</th>\n",
       "      <td>2013-02-12</td>\n",
       "      <td>14.45</td>\n",
       "      <td>14.51</td>\n",
       "      <td>14.10</td>\n",
       "      <td>14.27</td>\n",
       "      <td>8126000</td>\n",
       "      <td>AAL</td>\n",
       "      <td>-0.012457</td>\n",
       "      <td>Industrials</td>\n",
       "    </tr>\n",
       "    <tr>\n",
       "      <th>3</th>\n",
       "      <td>2013-02-13</td>\n",
       "      <td>14.30</td>\n",
       "      <td>14.94</td>\n",
       "      <td>14.25</td>\n",
       "      <td>14.66</td>\n",
       "      <td>10259500</td>\n",
       "      <td>AAL</td>\n",
       "      <td>0.025175</td>\n",
       "      <td>Industrials</td>\n",
       "    </tr>\n",
       "    <tr>\n",
       "      <th>4</th>\n",
       "      <td>2013-02-14</td>\n",
       "      <td>14.94</td>\n",
       "      <td>14.96</td>\n",
       "      <td>13.16</td>\n",
       "      <td>13.99</td>\n",
       "      <td>31879900</td>\n",
       "      <td>AAL</td>\n",
       "      <td>-0.063588</td>\n",
       "      <td>Industrials</td>\n",
       "    </tr>\n",
       "  </tbody>\n",
       "</table>\n",
       "</div>"
      ],
      "text/plain": [
       "         date   open   high    low  close    volume Name  per_change  \\\n",
       "0  2013-02-08  15.07  15.12  14.63  14.75   8407500  AAL   -0.021234   \n",
       "1  2013-02-11  14.89  15.01  14.26  14.46   8882000  AAL   -0.028878   \n",
       "2  2013-02-12  14.45  14.51  14.10  14.27   8126000  AAL   -0.012457   \n",
       "3  2013-02-13  14.30  14.94  14.25  14.66  10259500  AAL    0.025175   \n",
       "4  2013-02-14  14.94  14.96  13.16  13.99  31879900  AAL   -0.063588   \n",
       "\n",
       "        Sector  \n",
       "0  Industrials  \n",
       "1  Industrials  \n",
       "2  Industrials  \n",
       "3  Industrials  \n",
       "4  Industrials  "
      ]
     },
     "execution_count": 11,
     "metadata": {},
     "output_type": "execute_result"
    }
   ],
   "source": [
    "sp_filled.head(5)"
   ]
  },
  {
   "cell_type": "code",
   "execution_count": 12,
   "metadata": {},
   "outputs": [
    {
     "data": {
      "text/plain": [
       "date           0\n",
       "open          11\n",
       "high           8\n",
       "low            8\n",
       "close          0\n",
       "volume         0\n",
       "Name           0\n",
       "per_change    11\n",
       "Sector         0\n",
       "dtype: int64"
      ]
     },
     "execution_count": 12,
     "metadata": {},
     "output_type": "execute_result"
    }
   ],
   "source": [
    "sp_filled.isnull().sum()"
   ]
  },
  {
   "cell_type": "code",
   "execution_count": 13,
   "metadata": {
    "collapsed": true
   },
   "outputs": [],
   "source": [
    "sp_filled.dropna(inplace = True)"
   ]
  },
  {
   "cell_type": "code",
   "execution_count": 14,
   "metadata": {},
   "outputs": [
    {
     "data": {
      "text/plain": [
       "date          0\n",
       "open          0\n",
       "high          0\n",
       "low           0\n",
       "close         0\n",
       "volume        0\n",
       "Name          0\n",
       "per_change    0\n",
       "Sector        0\n",
       "dtype: int64"
      ]
     },
     "execution_count": 14,
     "metadata": {},
     "output_type": "execute_result"
    }
   ],
   "source": [
    "sp_filled.isnull().sum()"
   ]
  },
  {
   "cell_type": "code",
   "execution_count": 5,
   "metadata": {
    "collapsed": true
   },
   "outputs": [],
   "source": [
    "def combine_dataframes(stock, sector):\n",
    "    '''\n",
    "    First parameter must be the stock dataframe and the second paramater must be the sector \n",
    "    dataframe. This will return a dataframe matching stocks to their sectors\n",
    "    '''\n",
    "    stock.set_index('Name', inplace = True)\n",
    "    sector.set_index('Symbol', inplace = True)\n",
    "    \n",
    "    df = pd.concat([stock_data, sector_data], axis = 1, join_axes=[stock.index])\n",
    "    \n",
    "    df.rename(columns={'Name':'full_name'}, inplace = True)\n",
    "    df.reset_index(inplace = True)\n",
    "    df.set_index('date', inplace = True)\n",
    "    \n",
    "    return df"
   ]
  },
  {
   "cell_type": "code",
   "execution_count": 6,
   "metadata": {},
   "outputs": [
    {
     "data": {
      "text/html": [
       "<div>\n",
       "<style>\n",
       "    .dataframe thead tr:only-child th {\n",
       "        text-align: right;\n",
       "    }\n",
       "\n",
       "    .dataframe thead th {\n",
       "        text-align: left;\n",
       "    }\n",
       "\n",
       "    .dataframe tbody tr th {\n",
       "        vertical-align: top;\n",
       "    }\n",
       "</style>\n",
       "<table border=\"1\" class=\"dataframe\">\n",
       "  <thead>\n",
       "    <tr style=\"text-align: right;\">\n",
       "      <th></th>\n",
       "      <th>Name</th>\n",
       "      <th>open</th>\n",
       "      <th>high</th>\n",
       "      <th>low</th>\n",
       "      <th>close</th>\n",
       "      <th>volume</th>\n",
       "      <th>full_name</th>\n",
       "      <th>Sector</th>\n",
       "    </tr>\n",
       "    <tr>\n",
       "      <th>date</th>\n",
       "      <th></th>\n",
       "      <th></th>\n",
       "      <th></th>\n",
       "      <th></th>\n",
       "      <th></th>\n",
       "      <th></th>\n",
       "      <th></th>\n",
       "      <th></th>\n",
       "    </tr>\n",
       "  </thead>\n",
       "  <tbody>\n",
       "    <tr>\n",
       "      <th>2013-02-08</th>\n",
       "      <td>AAL</td>\n",
       "      <td>15.07</td>\n",
       "      <td>15.1200</td>\n",
       "      <td>14.6300</td>\n",
       "      <td>14.75</td>\n",
       "      <td>8407500</td>\n",
       "      <td>American Airlines Group</td>\n",
       "      <td>Industrials</td>\n",
       "    </tr>\n",
       "    <tr>\n",
       "      <th>2013-02-11</th>\n",
       "      <td>AAL</td>\n",
       "      <td>14.89</td>\n",
       "      <td>15.0100</td>\n",
       "      <td>14.2600</td>\n",
       "      <td>14.46</td>\n",
       "      <td>8882000</td>\n",
       "      <td>American Airlines Group</td>\n",
       "      <td>Industrials</td>\n",
       "    </tr>\n",
       "    <tr>\n",
       "      <th>2013-02-12</th>\n",
       "      <td>AAL</td>\n",
       "      <td>14.45</td>\n",
       "      <td>14.5100</td>\n",
       "      <td>14.1000</td>\n",
       "      <td>14.27</td>\n",
       "      <td>8126000</td>\n",
       "      <td>American Airlines Group</td>\n",
       "      <td>Industrials</td>\n",
       "    </tr>\n",
       "    <tr>\n",
       "      <th>2013-02-13</th>\n",
       "      <td>AAL</td>\n",
       "      <td>14.30</td>\n",
       "      <td>14.9400</td>\n",
       "      <td>14.2500</td>\n",
       "      <td>14.66</td>\n",
       "      <td>10259500</td>\n",
       "      <td>American Airlines Group</td>\n",
       "      <td>Industrials</td>\n",
       "    </tr>\n",
       "    <tr>\n",
       "      <th>2013-02-14</th>\n",
       "      <td>AAL</td>\n",
       "      <td>14.94</td>\n",
       "      <td>14.9600</td>\n",
       "      <td>13.1600</td>\n",
       "      <td>13.99</td>\n",
       "      <td>31879900</td>\n",
       "      <td>American Airlines Group</td>\n",
       "      <td>Industrials</td>\n",
       "    </tr>\n",
       "    <tr>\n",
       "      <th>2013-02-15</th>\n",
       "      <td>AAL</td>\n",
       "      <td>13.93</td>\n",
       "      <td>14.6100</td>\n",
       "      <td>13.9300</td>\n",
       "      <td>14.50</td>\n",
       "      <td>15628000</td>\n",
       "      <td>American Airlines Group</td>\n",
       "      <td>Industrials</td>\n",
       "    </tr>\n",
       "    <tr>\n",
       "      <th>2013-02-19</th>\n",
       "      <td>AAL</td>\n",
       "      <td>14.33</td>\n",
       "      <td>14.5600</td>\n",
       "      <td>14.0800</td>\n",
       "      <td>14.26</td>\n",
       "      <td>11354400</td>\n",
       "      <td>American Airlines Group</td>\n",
       "      <td>Industrials</td>\n",
       "    </tr>\n",
       "    <tr>\n",
       "      <th>2013-02-20</th>\n",
       "      <td>AAL</td>\n",
       "      <td>14.17</td>\n",
       "      <td>14.2600</td>\n",
       "      <td>13.1500</td>\n",
       "      <td>13.33</td>\n",
       "      <td>14725200</td>\n",
       "      <td>American Airlines Group</td>\n",
       "      <td>Industrials</td>\n",
       "    </tr>\n",
       "    <tr>\n",
       "      <th>2013-02-21</th>\n",
       "      <td>AAL</td>\n",
       "      <td>13.62</td>\n",
       "      <td>13.9500</td>\n",
       "      <td>12.9000</td>\n",
       "      <td>13.37</td>\n",
       "      <td>11922100</td>\n",
       "      <td>American Airlines Group</td>\n",
       "      <td>Industrials</td>\n",
       "    </tr>\n",
       "    <tr>\n",
       "      <th>2013-02-22</th>\n",
       "      <td>AAL</td>\n",
       "      <td>13.57</td>\n",
       "      <td>13.6000</td>\n",
       "      <td>13.2100</td>\n",
       "      <td>13.57</td>\n",
       "      <td>6071400</td>\n",
       "      <td>American Airlines Group</td>\n",
       "      <td>Industrials</td>\n",
       "    </tr>\n",
       "    <tr>\n",
       "      <th>2013-02-25</th>\n",
       "      <td>AAL</td>\n",
       "      <td>13.60</td>\n",
       "      <td>13.7600</td>\n",
       "      <td>13.0000</td>\n",
       "      <td>13.02</td>\n",
       "      <td>7186400</td>\n",
       "      <td>American Airlines Group</td>\n",
       "      <td>Industrials</td>\n",
       "    </tr>\n",
       "    <tr>\n",
       "      <th>2013-02-26</th>\n",
       "      <td>AAL</td>\n",
       "      <td>13.14</td>\n",
       "      <td>13.4200</td>\n",
       "      <td>12.7000</td>\n",
       "      <td>13.26</td>\n",
       "      <td>9419000</td>\n",
       "      <td>American Airlines Group</td>\n",
       "      <td>Industrials</td>\n",
       "    </tr>\n",
       "    <tr>\n",
       "      <th>2013-02-27</th>\n",
       "      <td>AAL</td>\n",
       "      <td>13.28</td>\n",
       "      <td>13.6200</td>\n",
       "      <td>13.1800</td>\n",
       "      <td>13.41</td>\n",
       "      <td>7390500</td>\n",
       "      <td>American Airlines Group</td>\n",
       "      <td>Industrials</td>\n",
       "    </tr>\n",
       "    <tr>\n",
       "      <th>2013-02-28</th>\n",
       "      <td>AAL</td>\n",
       "      <td>13.49</td>\n",
       "      <td>13.6300</td>\n",
       "      <td>13.3900</td>\n",
       "      <td>13.43</td>\n",
       "      <td>6143600</td>\n",
       "      <td>American Airlines Group</td>\n",
       "      <td>Industrials</td>\n",
       "    </tr>\n",
       "    <tr>\n",
       "      <th>2013-03-01</th>\n",
       "      <td>AAL</td>\n",
       "      <td>13.37</td>\n",
       "      <td>13.9500</td>\n",
       "      <td>13.3200</td>\n",
       "      <td>13.61</td>\n",
       "      <td>7376800</td>\n",
       "      <td>American Airlines Group</td>\n",
       "      <td>Industrials</td>\n",
       "    </tr>\n",
       "    <tr>\n",
       "      <th>2013-03-04</th>\n",
       "      <td>AAL</td>\n",
       "      <td>13.50</td>\n",
       "      <td>14.0700</td>\n",
       "      <td>13.4700</td>\n",
       "      <td>13.90</td>\n",
       "      <td>8174800</td>\n",
       "      <td>American Airlines Group</td>\n",
       "      <td>Industrials</td>\n",
       "    </tr>\n",
       "    <tr>\n",
       "      <th>2013-03-05</th>\n",
       "      <td>AAL</td>\n",
       "      <td>14.01</td>\n",
       "      <td>14.0500</td>\n",
       "      <td>13.7100</td>\n",
       "      <td>14.05</td>\n",
       "      <td>7676100</td>\n",
       "      <td>American Airlines Group</td>\n",
       "      <td>Industrials</td>\n",
       "    </tr>\n",
       "    <tr>\n",
       "      <th>2013-03-06</th>\n",
       "      <td>AAL</td>\n",
       "      <td>14.52</td>\n",
       "      <td>14.6800</td>\n",
       "      <td>14.2500</td>\n",
       "      <td>14.57</td>\n",
       "      <td>13243200</td>\n",
       "      <td>American Airlines Group</td>\n",
       "      <td>Industrials</td>\n",
       "    </tr>\n",
       "    <tr>\n",
       "      <th>2013-03-07</th>\n",
       "      <td>AAL</td>\n",
       "      <td>14.70</td>\n",
       "      <td>14.9300</td>\n",
       "      <td>14.5000</td>\n",
       "      <td>14.82</td>\n",
       "      <td>9125300</td>\n",
       "      <td>American Airlines Group</td>\n",
       "      <td>Industrials</td>\n",
       "    </tr>\n",
       "    <tr>\n",
       "      <th>2013-03-08</th>\n",
       "      <td>AAL</td>\n",
       "      <td>14.99</td>\n",
       "      <td>15.2000</td>\n",
       "      <td>14.8400</td>\n",
       "      <td>14.92</td>\n",
       "      <td>10593700</td>\n",
       "      <td>American Airlines Group</td>\n",
       "      <td>Industrials</td>\n",
       "    </tr>\n",
       "    <tr>\n",
       "      <th>2013-03-11</th>\n",
       "      <td>AAL</td>\n",
       "      <td>14.85</td>\n",
       "      <td>15.1500</td>\n",
       "      <td>14.7100</td>\n",
       "      <td>15.13</td>\n",
       "      <td>6961800</td>\n",
       "      <td>American Airlines Group</td>\n",
       "      <td>Industrials</td>\n",
       "    </tr>\n",
       "    <tr>\n",
       "      <th>2013-03-12</th>\n",
       "      <td>AAL</td>\n",
       "      <td>15.14</td>\n",
       "      <td>15.6000</td>\n",
       "      <td>14.9500</td>\n",
       "      <td>15.50</td>\n",
       "      <td>8999100</td>\n",
       "      <td>American Airlines Group</td>\n",
       "      <td>Industrials</td>\n",
       "    </tr>\n",
       "    <tr>\n",
       "      <th>2013-03-13</th>\n",
       "      <td>AAL</td>\n",
       "      <td>15.54</td>\n",
       "      <td>16.2000</td>\n",
       "      <td>15.4800</td>\n",
       "      <td>15.91</td>\n",
       "      <td>11380000</td>\n",
       "      <td>American Airlines Group</td>\n",
       "      <td>Industrials</td>\n",
       "    </tr>\n",
       "    <tr>\n",
       "      <th>2013-03-14</th>\n",
       "      <td>AAL</td>\n",
       "      <td>15.98</td>\n",
       "      <td>16.3600</td>\n",
       "      <td>15.9300</td>\n",
       "      <td>16.25</td>\n",
       "      <td>8383300</td>\n",
       "      <td>American Airlines Group</td>\n",
       "      <td>Industrials</td>\n",
       "    </tr>\n",
       "    <tr>\n",
       "      <th>2013-03-15</th>\n",
       "      <td>AAL</td>\n",
       "      <td>16.45</td>\n",
       "      <td>16.5400</td>\n",
       "      <td>15.8800</td>\n",
       "      <td>15.98</td>\n",
       "      <td>17667700</td>\n",
       "      <td>American Airlines Group</td>\n",
       "      <td>Industrials</td>\n",
       "    </tr>\n",
       "    <tr>\n",
       "      <th>2013-03-18</th>\n",
       "      <td>AAL</td>\n",
       "      <td>15.80</td>\n",
       "      <td>16.3300</td>\n",
       "      <td>15.7100</td>\n",
       "      <td>16.29</td>\n",
       "      <td>6514100</td>\n",
       "      <td>American Airlines Group</td>\n",
       "      <td>Industrials</td>\n",
       "    </tr>\n",
       "    <tr>\n",
       "      <th>2013-03-19</th>\n",
       "      <td>AAL</td>\n",
       "      <td>16.48</td>\n",
       "      <td>16.8500</td>\n",
       "      <td>16.4100</td>\n",
       "      <td>16.78</td>\n",
       "      <td>11805300</td>\n",
       "      <td>American Airlines Group</td>\n",
       "      <td>Industrials</td>\n",
       "    </tr>\n",
       "    <tr>\n",
       "      <th>2013-03-20</th>\n",
       "      <td>AAL</td>\n",
       "      <td>17.13</td>\n",
       "      <td>17.3300</td>\n",
       "      <td>16.8700</td>\n",
       "      <td>17.23</td>\n",
       "      <td>10819800</td>\n",
       "      <td>American Airlines Group</td>\n",
       "      <td>Industrials</td>\n",
       "    </tr>\n",
       "    <tr>\n",
       "      <th>2013-03-21</th>\n",
       "      <td>AAL</td>\n",
       "      <td>17.21</td>\n",
       "      <td>17.4300</td>\n",
       "      <td>16.8700</td>\n",
       "      <td>17.00</td>\n",
       "      <td>10740800</td>\n",
       "      <td>American Airlines Group</td>\n",
       "      <td>Industrials</td>\n",
       "    </tr>\n",
       "    <tr>\n",
       "      <th>2013-03-22</th>\n",
       "      <td>AAL</td>\n",
       "      <td>17.10</td>\n",
       "      <td>17.2900</td>\n",
       "      <td>16.7700</td>\n",
       "      <td>16.86</td>\n",
       "      <td>8545200</td>\n",
       "      <td>American Airlines Group</td>\n",
       "      <td>Industrials</td>\n",
       "    </tr>\n",
       "    <tr>\n",
       "      <th>...</th>\n",
       "      <td>...</td>\n",
       "      <td>...</td>\n",
       "      <td>...</td>\n",
       "      <td>...</td>\n",
       "      <td>...</td>\n",
       "      <td>...</td>\n",
       "      <td>...</td>\n",
       "      <td>...</td>\n",
       "    </tr>\n",
       "    <tr>\n",
       "      <th>2017-12-26</th>\n",
       "      <td>ZTS</td>\n",
       "      <td>72.40</td>\n",
       "      <td>72.5500</td>\n",
       "      <td>71.9000</td>\n",
       "      <td>72.34</td>\n",
       "      <td>792134</td>\n",
       "      <td>Zoetis</td>\n",
       "      <td>Health Care</td>\n",
       "    </tr>\n",
       "    <tr>\n",
       "      <th>2017-12-27</th>\n",
       "      <td>ZTS</td>\n",
       "      <td>72.59</td>\n",
       "      <td>72.6900</td>\n",
       "      <td>72.2500</td>\n",
       "      <td>72.45</td>\n",
       "      <td>1159771</td>\n",
       "      <td>Zoetis</td>\n",
       "      <td>Health Care</td>\n",
       "    </tr>\n",
       "    <tr>\n",
       "      <th>2017-12-28</th>\n",
       "      <td>ZTS</td>\n",
       "      <td>72.49</td>\n",
       "      <td>72.6000</td>\n",
       "      <td>72.1400</td>\n",
       "      <td>72.39</td>\n",
       "      <td>710499</td>\n",
       "      <td>Zoetis</td>\n",
       "      <td>Health Care</td>\n",
       "    </tr>\n",
       "    <tr>\n",
       "      <th>2017-12-29</th>\n",
       "      <td>ZTS</td>\n",
       "      <td>72.55</td>\n",
       "      <td>72.7600</td>\n",
       "      <td>72.0400</td>\n",
       "      <td>72.04</td>\n",
       "      <td>1704122</td>\n",
       "      <td>Zoetis</td>\n",
       "      <td>Health Care</td>\n",
       "    </tr>\n",
       "    <tr>\n",
       "      <th>2018-01-02</th>\n",
       "      <td>ZTS</td>\n",
       "      <td>72.54</td>\n",
       "      <td>72.5900</td>\n",
       "      <td>71.4650</td>\n",
       "      <td>71.77</td>\n",
       "      <td>2135564</td>\n",
       "      <td>Zoetis</td>\n",
       "      <td>Health Care</td>\n",
       "    </tr>\n",
       "    <tr>\n",
       "      <th>2018-01-03</th>\n",
       "      <td>ZTS</td>\n",
       "      <td>71.77</td>\n",
       "      <td>72.1800</td>\n",
       "      <td>71.3400</td>\n",
       "      <td>72.10</td>\n",
       "      <td>2328506</td>\n",
       "      <td>Zoetis</td>\n",
       "      <td>Health Care</td>\n",
       "    </tr>\n",
       "    <tr>\n",
       "      <th>2018-01-04</th>\n",
       "      <td>ZTS</td>\n",
       "      <td>72.75</td>\n",
       "      <td>72.9128</td>\n",
       "      <td>72.2600</td>\n",
       "      <td>72.53</td>\n",
       "      <td>2534010</td>\n",
       "      <td>Zoetis</td>\n",
       "      <td>Health Care</td>\n",
       "    </tr>\n",
       "    <tr>\n",
       "      <th>2018-01-05</th>\n",
       "      <td>ZTS</td>\n",
       "      <td>72.83</td>\n",
       "      <td>73.9200</td>\n",
       "      <td>72.5700</td>\n",
       "      <td>73.36</td>\n",
       "      <td>2166065</td>\n",
       "      <td>Zoetis</td>\n",
       "      <td>Health Care</td>\n",
       "    </tr>\n",
       "    <tr>\n",
       "      <th>2018-01-08</th>\n",
       "      <td>ZTS</td>\n",
       "      <td>73.43</td>\n",
       "      <td>74.4200</td>\n",
       "      <td>73.1607</td>\n",
       "      <td>74.24</td>\n",
       "      <td>3631552</td>\n",
       "      <td>Zoetis</td>\n",
       "      <td>Health Care</td>\n",
       "    </tr>\n",
       "    <tr>\n",
       "      <th>2018-01-09</th>\n",
       "      <td>ZTS</td>\n",
       "      <td>74.70</td>\n",
       "      <td>75.4750</td>\n",
       "      <td>74.4650</td>\n",
       "      <td>75.11</td>\n",
       "      <td>2721946</td>\n",
       "      <td>Zoetis</td>\n",
       "      <td>Health Care</td>\n",
       "    </tr>\n",
       "    <tr>\n",
       "      <th>2018-01-10</th>\n",
       "      <td>ZTS</td>\n",
       "      <td>74.58</td>\n",
       "      <td>74.8000</td>\n",
       "      <td>73.2800</td>\n",
       "      <td>73.91</td>\n",
       "      <td>2257464</td>\n",
       "      <td>Zoetis</td>\n",
       "      <td>Health Care</td>\n",
       "    </tr>\n",
       "    <tr>\n",
       "      <th>2018-01-11</th>\n",
       "      <td>ZTS</td>\n",
       "      <td>74.05</td>\n",
       "      <td>74.6800</td>\n",
       "      <td>73.7200</td>\n",
       "      <td>74.59</td>\n",
       "      <td>1629279</td>\n",
       "      <td>Zoetis</td>\n",
       "      <td>Health Care</td>\n",
       "    </tr>\n",
       "    <tr>\n",
       "      <th>2018-01-12</th>\n",
       "      <td>ZTS</td>\n",
       "      <td>74.91</td>\n",
       "      <td>75.6900</td>\n",
       "      <td>74.7700</td>\n",
       "      <td>75.39</td>\n",
       "      <td>1915669</td>\n",
       "      <td>Zoetis</td>\n",
       "      <td>Health Care</td>\n",
       "    </tr>\n",
       "    <tr>\n",
       "      <th>2018-01-16</th>\n",
       "      <td>ZTS</td>\n",
       "      <td>76.06</td>\n",
       "      <td>76.4000</td>\n",
       "      <td>75.2100</td>\n",
       "      <td>75.54</td>\n",
       "      <td>2599094</td>\n",
       "      <td>Zoetis</td>\n",
       "      <td>Health Care</td>\n",
       "    </tr>\n",
       "    <tr>\n",
       "      <th>2018-01-17</th>\n",
       "      <td>ZTS</td>\n",
       "      <td>75.81</td>\n",
       "      <td>77.0300</td>\n",
       "      <td>75.3900</td>\n",
       "      <td>76.77</td>\n",
       "      <td>2769587</td>\n",
       "      <td>Zoetis</td>\n",
       "      <td>Health Care</td>\n",
       "    </tr>\n",
       "    <tr>\n",
       "      <th>2018-01-18</th>\n",
       "      <td>ZTS</td>\n",
       "      <td>76.65</td>\n",
       "      <td>76.6500</td>\n",
       "      <td>75.8500</td>\n",
       "      <td>76.33</td>\n",
       "      <td>2588995</td>\n",
       "      <td>Zoetis</td>\n",
       "      <td>Health Care</td>\n",
       "    </tr>\n",
       "    <tr>\n",
       "      <th>2018-01-19</th>\n",
       "      <td>ZTS</td>\n",
       "      <td>76.69</td>\n",
       "      <td>76.9100</td>\n",
       "      <td>76.2200</td>\n",
       "      <td>76.62</td>\n",
       "      <td>4829602</td>\n",
       "      <td>Zoetis</td>\n",
       "      <td>Health Care</td>\n",
       "    </tr>\n",
       "    <tr>\n",
       "      <th>2018-01-22</th>\n",
       "      <td>ZTS</td>\n",
       "      <td>76.67</td>\n",
       "      <td>77.5800</td>\n",
       "      <td>76.6200</td>\n",
       "      <td>77.48</td>\n",
       "      <td>4195103</td>\n",
       "      <td>Zoetis</td>\n",
       "      <td>Health Care</td>\n",
       "    </tr>\n",
       "    <tr>\n",
       "      <th>2018-01-23</th>\n",
       "      <td>ZTS</td>\n",
       "      <td>77.30</td>\n",
       "      <td>78.3200</td>\n",
       "      <td>76.9700</td>\n",
       "      <td>77.59</td>\n",
       "      <td>2264132</td>\n",
       "      <td>Zoetis</td>\n",
       "      <td>Health Care</td>\n",
       "    </tr>\n",
       "    <tr>\n",
       "      <th>2018-01-24</th>\n",
       "      <td>ZTS</td>\n",
       "      <td>78.16</td>\n",
       "      <td>78.5100</td>\n",
       "      <td>77.6000</td>\n",
       "      <td>78.33</td>\n",
       "      <td>2585326</td>\n",
       "      <td>Zoetis</td>\n",
       "      <td>Health Care</td>\n",
       "    </tr>\n",
       "    <tr>\n",
       "      <th>2018-01-25</th>\n",
       "      <td>ZTS</td>\n",
       "      <td>78.47</td>\n",
       "      <td>79.3800</td>\n",
       "      <td>78.3450</td>\n",
       "      <td>79.25</td>\n",
       "      <td>2327262</td>\n",
       "      <td>Zoetis</td>\n",
       "      <td>Health Care</td>\n",
       "    </tr>\n",
       "    <tr>\n",
       "      <th>2018-01-26</th>\n",
       "      <td>ZTS</td>\n",
       "      <td>79.49</td>\n",
       "      <td>80.1300</td>\n",
       "      <td>79.3800</td>\n",
       "      <td>80.09</td>\n",
       "      <td>2532808</td>\n",
       "      <td>Zoetis</td>\n",
       "      <td>Health Care</td>\n",
       "    </tr>\n",
       "    <tr>\n",
       "      <th>2018-01-29</th>\n",
       "      <td>ZTS</td>\n",
       "      <td>79.81</td>\n",
       "      <td>79.9500</td>\n",
       "      <td>79.1100</td>\n",
       "      <td>79.18</td>\n",
       "      <td>2662383</td>\n",
       "      <td>Zoetis</td>\n",
       "      <td>Health Care</td>\n",
       "    </tr>\n",
       "    <tr>\n",
       "      <th>2018-01-30</th>\n",
       "      <td>ZTS</td>\n",
       "      <td>78.44</td>\n",
       "      <td>78.6900</td>\n",
       "      <td>77.9100</td>\n",
       "      <td>78.35</td>\n",
       "      <td>3808707</td>\n",
       "      <td>Zoetis</td>\n",
       "      <td>Health Care</td>\n",
       "    </tr>\n",
       "    <tr>\n",
       "      <th>2018-01-31</th>\n",
       "      <td>ZTS</td>\n",
       "      <td>78.49</td>\n",
       "      <td>78.7700</td>\n",
       "      <td>76.5400</td>\n",
       "      <td>76.73</td>\n",
       "      <td>4136360</td>\n",
       "      <td>Zoetis</td>\n",
       "      <td>Health Care</td>\n",
       "    </tr>\n",
       "    <tr>\n",
       "      <th>2018-02-01</th>\n",
       "      <td>ZTS</td>\n",
       "      <td>76.84</td>\n",
       "      <td>78.2700</td>\n",
       "      <td>76.6900</td>\n",
       "      <td>77.82</td>\n",
       "      <td>2982259</td>\n",
       "      <td>Zoetis</td>\n",
       "      <td>Health Care</td>\n",
       "    </tr>\n",
       "    <tr>\n",
       "      <th>2018-02-02</th>\n",
       "      <td>ZTS</td>\n",
       "      <td>77.53</td>\n",
       "      <td>78.1200</td>\n",
       "      <td>76.7300</td>\n",
       "      <td>76.78</td>\n",
       "      <td>2595187</td>\n",
       "      <td>Zoetis</td>\n",
       "      <td>Health Care</td>\n",
       "    </tr>\n",
       "    <tr>\n",
       "      <th>2018-02-05</th>\n",
       "      <td>ZTS</td>\n",
       "      <td>76.64</td>\n",
       "      <td>76.9200</td>\n",
       "      <td>73.1800</td>\n",
       "      <td>73.83</td>\n",
       "      <td>2962031</td>\n",
       "      <td>Zoetis</td>\n",
       "      <td>Health Care</td>\n",
       "    </tr>\n",
       "    <tr>\n",
       "      <th>2018-02-06</th>\n",
       "      <td>ZTS</td>\n",
       "      <td>72.74</td>\n",
       "      <td>74.5600</td>\n",
       "      <td>72.1300</td>\n",
       "      <td>73.27</td>\n",
       "      <td>4924323</td>\n",
       "      <td>Zoetis</td>\n",
       "      <td>Health Care</td>\n",
       "    </tr>\n",
       "    <tr>\n",
       "      <th>2018-02-07</th>\n",
       "      <td>ZTS</td>\n",
       "      <td>72.70</td>\n",
       "      <td>75.0000</td>\n",
       "      <td>72.6900</td>\n",
       "      <td>73.86</td>\n",
       "      <td>4534912</td>\n",
       "      <td>Zoetis</td>\n",
       "      <td>Health Care</td>\n",
       "    </tr>\n",
       "  </tbody>\n",
       "</table>\n",
       "<p>619040 rows × 8 columns</p>\n",
       "</div>"
      ],
      "text/plain": [
       "           Name   open     high      low  close    volume  \\\n",
       "date                                                        \n",
       "2013-02-08  AAL  15.07  15.1200  14.6300  14.75   8407500   \n",
       "2013-02-11  AAL  14.89  15.0100  14.2600  14.46   8882000   \n",
       "2013-02-12  AAL  14.45  14.5100  14.1000  14.27   8126000   \n",
       "2013-02-13  AAL  14.30  14.9400  14.2500  14.66  10259500   \n",
       "2013-02-14  AAL  14.94  14.9600  13.1600  13.99  31879900   \n",
       "2013-02-15  AAL  13.93  14.6100  13.9300  14.50  15628000   \n",
       "2013-02-19  AAL  14.33  14.5600  14.0800  14.26  11354400   \n",
       "2013-02-20  AAL  14.17  14.2600  13.1500  13.33  14725200   \n",
       "2013-02-21  AAL  13.62  13.9500  12.9000  13.37  11922100   \n",
       "2013-02-22  AAL  13.57  13.6000  13.2100  13.57   6071400   \n",
       "2013-02-25  AAL  13.60  13.7600  13.0000  13.02   7186400   \n",
       "2013-02-26  AAL  13.14  13.4200  12.7000  13.26   9419000   \n",
       "2013-02-27  AAL  13.28  13.6200  13.1800  13.41   7390500   \n",
       "2013-02-28  AAL  13.49  13.6300  13.3900  13.43   6143600   \n",
       "2013-03-01  AAL  13.37  13.9500  13.3200  13.61   7376800   \n",
       "2013-03-04  AAL  13.50  14.0700  13.4700  13.90   8174800   \n",
       "2013-03-05  AAL  14.01  14.0500  13.7100  14.05   7676100   \n",
       "2013-03-06  AAL  14.52  14.6800  14.2500  14.57  13243200   \n",
       "2013-03-07  AAL  14.70  14.9300  14.5000  14.82   9125300   \n",
       "2013-03-08  AAL  14.99  15.2000  14.8400  14.92  10593700   \n",
       "2013-03-11  AAL  14.85  15.1500  14.7100  15.13   6961800   \n",
       "2013-03-12  AAL  15.14  15.6000  14.9500  15.50   8999100   \n",
       "2013-03-13  AAL  15.54  16.2000  15.4800  15.91  11380000   \n",
       "2013-03-14  AAL  15.98  16.3600  15.9300  16.25   8383300   \n",
       "2013-03-15  AAL  16.45  16.5400  15.8800  15.98  17667700   \n",
       "2013-03-18  AAL  15.80  16.3300  15.7100  16.29   6514100   \n",
       "2013-03-19  AAL  16.48  16.8500  16.4100  16.78  11805300   \n",
       "2013-03-20  AAL  17.13  17.3300  16.8700  17.23  10819800   \n",
       "2013-03-21  AAL  17.21  17.4300  16.8700  17.00  10740800   \n",
       "2013-03-22  AAL  17.10  17.2900  16.7700  16.86   8545200   \n",
       "...         ...    ...      ...      ...    ...       ...   \n",
       "2017-12-26  ZTS  72.40  72.5500  71.9000  72.34    792134   \n",
       "2017-12-27  ZTS  72.59  72.6900  72.2500  72.45   1159771   \n",
       "2017-12-28  ZTS  72.49  72.6000  72.1400  72.39    710499   \n",
       "2017-12-29  ZTS  72.55  72.7600  72.0400  72.04   1704122   \n",
       "2018-01-02  ZTS  72.54  72.5900  71.4650  71.77   2135564   \n",
       "2018-01-03  ZTS  71.77  72.1800  71.3400  72.10   2328506   \n",
       "2018-01-04  ZTS  72.75  72.9128  72.2600  72.53   2534010   \n",
       "2018-01-05  ZTS  72.83  73.9200  72.5700  73.36   2166065   \n",
       "2018-01-08  ZTS  73.43  74.4200  73.1607  74.24   3631552   \n",
       "2018-01-09  ZTS  74.70  75.4750  74.4650  75.11   2721946   \n",
       "2018-01-10  ZTS  74.58  74.8000  73.2800  73.91   2257464   \n",
       "2018-01-11  ZTS  74.05  74.6800  73.7200  74.59   1629279   \n",
       "2018-01-12  ZTS  74.91  75.6900  74.7700  75.39   1915669   \n",
       "2018-01-16  ZTS  76.06  76.4000  75.2100  75.54   2599094   \n",
       "2018-01-17  ZTS  75.81  77.0300  75.3900  76.77   2769587   \n",
       "2018-01-18  ZTS  76.65  76.6500  75.8500  76.33   2588995   \n",
       "2018-01-19  ZTS  76.69  76.9100  76.2200  76.62   4829602   \n",
       "2018-01-22  ZTS  76.67  77.5800  76.6200  77.48   4195103   \n",
       "2018-01-23  ZTS  77.30  78.3200  76.9700  77.59   2264132   \n",
       "2018-01-24  ZTS  78.16  78.5100  77.6000  78.33   2585326   \n",
       "2018-01-25  ZTS  78.47  79.3800  78.3450  79.25   2327262   \n",
       "2018-01-26  ZTS  79.49  80.1300  79.3800  80.09   2532808   \n",
       "2018-01-29  ZTS  79.81  79.9500  79.1100  79.18   2662383   \n",
       "2018-01-30  ZTS  78.44  78.6900  77.9100  78.35   3808707   \n",
       "2018-01-31  ZTS  78.49  78.7700  76.5400  76.73   4136360   \n",
       "2018-02-01  ZTS  76.84  78.2700  76.6900  77.82   2982259   \n",
       "2018-02-02  ZTS  77.53  78.1200  76.7300  76.78   2595187   \n",
       "2018-02-05  ZTS  76.64  76.9200  73.1800  73.83   2962031   \n",
       "2018-02-06  ZTS  72.74  74.5600  72.1300  73.27   4924323   \n",
       "2018-02-07  ZTS  72.70  75.0000  72.6900  73.86   4534912   \n",
       "\n",
       "                          full_name       Sector  \n",
       "date                                              \n",
       "2013-02-08  American Airlines Group  Industrials  \n",
       "2013-02-11  American Airlines Group  Industrials  \n",
       "2013-02-12  American Airlines Group  Industrials  \n",
       "2013-02-13  American Airlines Group  Industrials  \n",
       "2013-02-14  American Airlines Group  Industrials  \n",
       "2013-02-15  American Airlines Group  Industrials  \n",
       "2013-02-19  American Airlines Group  Industrials  \n",
       "2013-02-20  American Airlines Group  Industrials  \n",
       "2013-02-21  American Airlines Group  Industrials  \n",
       "2013-02-22  American Airlines Group  Industrials  \n",
       "2013-02-25  American Airlines Group  Industrials  \n",
       "2013-02-26  American Airlines Group  Industrials  \n",
       "2013-02-27  American Airlines Group  Industrials  \n",
       "2013-02-28  American Airlines Group  Industrials  \n",
       "2013-03-01  American Airlines Group  Industrials  \n",
       "2013-03-04  American Airlines Group  Industrials  \n",
       "2013-03-05  American Airlines Group  Industrials  \n",
       "2013-03-06  American Airlines Group  Industrials  \n",
       "2013-03-07  American Airlines Group  Industrials  \n",
       "2013-03-08  American Airlines Group  Industrials  \n",
       "2013-03-11  American Airlines Group  Industrials  \n",
       "2013-03-12  American Airlines Group  Industrials  \n",
       "2013-03-13  American Airlines Group  Industrials  \n",
       "2013-03-14  American Airlines Group  Industrials  \n",
       "2013-03-15  American Airlines Group  Industrials  \n",
       "2013-03-18  American Airlines Group  Industrials  \n",
       "2013-03-19  American Airlines Group  Industrials  \n",
       "2013-03-20  American Airlines Group  Industrials  \n",
       "2013-03-21  American Airlines Group  Industrials  \n",
       "2013-03-22  American Airlines Group  Industrials  \n",
       "...                             ...          ...  \n",
       "2017-12-26                   Zoetis  Health Care  \n",
       "2017-12-27                   Zoetis  Health Care  \n",
       "2017-12-28                   Zoetis  Health Care  \n",
       "2017-12-29                   Zoetis  Health Care  \n",
       "2018-01-02                   Zoetis  Health Care  \n",
       "2018-01-03                   Zoetis  Health Care  \n",
       "2018-01-04                   Zoetis  Health Care  \n",
       "2018-01-05                   Zoetis  Health Care  \n",
       "2018-01-08                   Zoetis  Health Care  \n",
       "2018-01-09                   Zoetis  Health Care  \n",
       "2018-01-10                   Zoetis  Health Care  \n",
       "2018-01-11                   Zoetis  Health Care  \n",
       "2018-01-12                   Zoetis  Health Care  \n",
       "2018-01-16                   Zoetis  Health Care  \n",
       "2018-01-17                   Zoetis  Health Care  \n",
       "2018-01-18                   Zoetis  Health Care  \n",
       "2018-01-19                   Zoetis  Health Care  \n",
       "2018-01-22                   Zoetis  Health Care  \n",
       "2018-01-23                   Zoetis  Health Care  \n",
       "2018-01-24                   Zoetis  Health Care  \n",
       "2018-01-25                   Zoetis  Health Care  \n",
       "2018-01-26                   Zoetis  Health Care  \n",
       "2018-01-29                   Zoetis  Health Care  \n",
       "2018-01-30                   Zoetis  Health Care  \n",
       "2018-01-31                   Zoetis  Health Care  \n",
       "2018-02-01                   Zoetis  Health Care  \n",
       "2018-02-02                   Zoetis  Health Care  \n",
       "2018-02-05                   Zoetis  Health Care  \n",
       "2018-02-06                   Zoetis  Health Care  \n",
       "2018-02-07                   Zoetis  Health Care  \n",
       "\n",
       "[619040 rows x 8 columns]"
      ]
     },
     "execution_count": 6,
     "metadata": {},
     "output_type": "execute_result"
    }
   ],
   "source": [
    "#Assuming SP_500 data set and sector data set are in the working directory\n",
    "df = combine_dataframes(stock_data, sector_data)\n",
    "df"
   ]
  },
  {
   "cell_type": "code",
   "execution_count": null,
   "metadata": {
    "collapsed": true
   },
   "outputs": [],
   "source": []
  },
  {
   "cell_type": "code",
   "execution_count": null,
   "metadata": {
    "collapsed": true
   },
   "outputs": [],
   "source": [
    "stock_data.head(5)"
   ]
  },
  {
   "cell_type": "code",
   "execution_count": null,
   "metadata": {
    "collapsed": true
   },
   "outputs": [],
   "source": [
    "sector_data.head(5)"
   ]
  },
  {
   "cell_type": "code",
   "execution_count": null,
   "metadata": {
    "collapsed": true,
    "scrolled": true
   },
   "outputs": [],
   "source": [
    "#Check for empty entries\n",
    "stock_data.isnull().sum()"
   ]
  },
  {
   "cell_type": "code",
   "execution_count": null,
   "metadata": {
    "collapsed": true
   },
   "outputs": [],
   "source": [
    "#Check for empty entries\n",
    "sector_data.isnull().sum()"
   ]
  },
  {
   "cell_type": "code",
   "execution_count": null,
   "metadata": {
    "collapsed": true
   },
   "outputs": [],
   "source": [
    "#Drop rows with empty values\n",
    "stock_data.dropna(inplace = True) "
   ]
  },
  {
   "cell_type": "code",
   "execution_count": null,
   "metadata": {
    "collapsed": true
   },
   "outputs": [],
   "source": [
    "#Find the intersection of tickers between the two data sets\n",
    "#Findings: there's missing data\n",
    "stocks = set(stock_data.Name.unique())\n",
    "sector = set(sector_data.Symbol.unique())\n",
    "\n",
    "start = time.time()\n",
    "intersection = [symbol for symbol in stocks if symbol in sector]\n",
    "end = time.time()\n",
    "print(len(intersection))\n",
    "print(end-start)\n",
    "\n",
    "start = time.time()\n",
    "intersection = stocks.intersection(sector)\n",
    "print(len(intersection))\n",
    "end = time.time()\n",
    "print(end-start)   "
   ]
  },
  {
   "cell_type": "code",
   "execution_count": null,
   "metadata": {
    "collapsed": true
   },
   "outputs": [],
   "source": [
    "#Which stocks are missing from both data sets\n",
    "stocks.symmetric_difference(sector)"
   ]
  },
  {
   "cell_type": "markdown",
   "metadata": {},
   "source": [
    "* CBG -> CBRE\n",
    "* HCN -> WELL\n",
    "* SNI -> AQUIRED BY Discovery Communications (Drop)\n",
    "* CHK -> REMOVED DUE TO MARKET CAP CHANGES (Drop) Energy Company\n",
    "* PDCO -> REMOVED DUE TO MARKET CAP CHANGES (Drop)\n",
    "* SIG -> REMOVED DUE TO MARKET CAP CHANGES (Drop)\n",
    "* PCLN -> no data (?)"
   ]
  },
  {
   "cell_type": "code",
   "execution_count": null,
   "metadata": {
    "collapsed": true
   },
   "outputs": [],
   "source": [
    "#Create dictionary to replace old names with new\n",
    "replace_tickers = {'CBG': 'CBRE', 'HCN': 'WELL'}\n",
    "stock_data.replace(replace_tickers, inplace = True)"
   ]
  },
  {
   "cell_type": "code",
   "execution_count": null,
   "metadata": {
    "collapsed": true
   },
   "outputs": [],
   "source": []
  },
  {
   "cell_type": "code",
   "execution_count": null,
   "metadata": {
    "collapsed": true
   },
   "outputs": [],
   "source": [
    "aapl_df = df[df['Name'] == 'AAPL']\n",
    "\n",
    "X_train = (aapl_df.index - aapl_df.index[0]).days.values[0:629].reshape(-1,1)\n",
    "y_train = aapl_df['close'].values[0:629].reshape(-1,1)\n",
    "\n",
    "X_test = (aapl_df.index - aapl_df.index[0]).days.values[629:-1].reshape(-1,1)\n",
    "y_test = aapl_df['close'].values[629:-1].reshape(-1,1)\n",
    "\n",
    "lin_reg_model = sklearn.linear_model.LinearRegression()\n",
    "\n",
    "lin_reg_model.fit(X_train, y_train)"
   ]
  },
  {
   "cell_type": "code",
   "execution_count": null,
   "metadata": {
    "collapsed": true
   },
   "outputs": [],
   "source": []
  },
  {
   "cell_type": "code",
   "execution_count": null,
   "metadata": {
    "collapsed": true
   },
   "outputs": [],
   "source": [
    "\n",
    "    "
   ]
  },
  {
   "cell_type": "code",
   "execution_count": null,
   "metadata": {
    "collapsed": true
   },
   "outputs": [],
   "source": [
    "df3 = combine_dataframes(stock_data, sector_data)"
   ]
  },
  {
   "cell_type": "code",
   "execution_count": null,
   "metadata": {
    "collapsed": true
   },
   "outputs": [],
   "source": [
    "df3"
   ]
  },
  {
   "cell_type": "code",
   "execution_count": null,
   "metadata": {
    "collapsed": true
   },
   "outputs": [],
   "source": []
  },
  {
   "cell_type": "code",
   "execution_count": null,
   "metadata": {
    "collapsed": true
   },
   "outputs": [],
   "source": [
    "#Testing tensorflow"
   ]
  },
  {
   "cell_type": "code",
   "execution_count": null,
   "metadata": {
    "collapsed": true
   },
   "outputs": [],
   "source": [
    "import tensorflow as tf"
   ]
  },
  {
   "cell_type": "code",
   "execution_count": null,
   "metadata": {
    "collapsed": true
   },
   "outputs": [],
   "source": [
    "x = tf.Variable(3, name = 'x')\n",
    "y = tf.Variable(4, name = 'y')\n",
    "f = x*x*y + y + 2"
   ]
  },
  {
   "cell_type": "code",
   "execution_count": null,
   "metadata": {
    "collapsed": true
   },
   "outputs": [],
   "source": [
    "sess = tf.Session()"
   ]
  },
  {
   "cell_type": "code",
   "execution_count": null,
   "metadata": {
    "collapsed": true
   },
   "outputs": [],
   "source": [
    "sess.run(x.initializer)\n",
    "sess.run(y.initializer)\n",
    "result = sess.run(f)"
   ]
  },
  {
   "cell_type": "code",
   "execution_count": null,
   "metadata": {
    "collapsed": true
   },
   "outputs": [],
   "source": [
    "print(result)\n",
    "sess.close()"
   ]
  },
  {
   "cell_type": "code",
   "execution_count": null,
   "metadata": {
    "collapsed": true
   },
   "outputs": [],
   "source": [
    "init = tf.global_variables_initializer()"
   ]
  },
  {
   "cell_type": "code",
   "execution_count": null,
   "metadata": {
    "collapsed": true
   },
   "outputs": [],
   "source": [
    "sess = tf.InteractiveSession()\n",
    "init.run()\n",
    "result = f.eval()\n",
    "print(result)\n",
    "#sess.close()"
   ]
  },
  {
   "cell_type": "code",
   "execution_count": null,
   "metadata": {
    "collapsed": true
   },
   "outputs": [],
   "source": [
    "x1 = tf.Variable(1)"
   ]
  },
  {
   "cell_type": "code",
   "execution_count": null,
   "metadata": {
    "collapsed": true
   },
   "outputs": [],
   "source": [
    "x1.graph is tf.get_default_graph()"
   ]
  },
  {
   "cell_type": "code",
   "execution_count": null,
   "metadata": {
    "collapsed": true
   },
   "outputs": [],
   "source": [
    "graph = tf.Graph()\n",
    "\n",
    "with graph.as_default():\n",
    "    x2 = tf.Variable(2)\n",
    "\n",
    "x2.graph is tf.get_default_graph()"
   ]
  },
  {
   "cell_type": "code",
   "execution_count": null,
   "metadata": {
    "collapsed": true
   },
   "outputs": [],
   "source": [
    "x2.graph is graph"
   ]
  },
  {
   "cell_type": "code",
   "execution_count": null,
   "metadata": {
    "collapsed": true
   },
   "outputs": [],
   "source": [
    "tf.reset_default_graph()"
   ]
  },
  {
   "cell_type": "code",
   "execution_count": null,
   "metadata": {
    "collapsed": true
   },
   "outputs": [],
   "source": [
    "from sklearn.datasets import fetch_california_housing"
   ]
  },
  {
   "cell_type": "code",
   "execution_count": null,
   "metadata": {
    "collapsed": true
   },
   "outputs": [],
   "source": [
    "housing = fetch_california_housing()"
   ]
  },
  {
   "cell_type": "code",
   "execution_count": null,
   "metadata": {
    "collapsed": true
   },
   "outputs": [],
   "source": [
    "m, n = housing.data.shape"
   ]
  },
  {
   "cell_type": "code",
   "execution_count": null,
   "metadata": {
    "collapsed": true
   },
   "outputs": [],
   "source": [
    "housing_data_plus_bias = np.c_[np.ones((m,1)), housing.data]"
   ]
  },
  {
   "cell_type": "code",
   "execution_count": null,
   "metadata": {
    "collapsed": true
   },
   "outputs": [],
   "source": [
    "X = tf.constant(housing_data_plus_bias, dtype=tf.float32, name='X')\n",
    "y = tf.constant(housing.target.reshape(-1, 1), dtype=tf.float32, name='y')\n",
    "XT = tf.transpose(X)\n",
    "theta = tf.matmul(tf.matmul(tf.matrix_inverse(tf.matmul(XT, X)), XT), y)"
   ]
  },
  {
   "cell_type": "code",
   "execution_count": null,
   "metadata": {
    "collapsed": true
   },
   "outputs": [],
   "source": [
    "with tf.Session() as sess:\n",
    "    theta_value = theta.eval()"
   ]
  },
  {
   "cell_type": "code",
   "execution_count": null,
   "metadata": {
    "collapsed": true
   },
   "outputs": [],
   "source": [
    "theta_value"
   ]
  },
  {
   "cell_type": "code",
   "execution_count": null,
   "metadata": {
    "collapsed": true
   },
   "outputs": [],
   "source": [
    "print(X.shape)"
   ]
  },
  {
   "cell_type": "code",
   "execution_count": null,
   "metadata": {
    "collapsed": true
   },
   "outputs": [],
   "source": [
    "print(y.shape)"
   ]
  },
  {
   "cell_type": "code",
   "execution_count": null,
   "metadata": {
    "collapsed": true
   },
   "outputs": [],
   "source": [
    "print(housing.data.shape)"
   ]
  },
  {
   "cell_type": "code",
   "execution_count": null,
   "metadata": {
    "collapsed": true
   },
   "outputs": [],
   "source": []
  }
 ],
 "metadata": {
  "kernelspec": {
   "display_name": "Python [default]",
   "language": "python",
   "name": "python3"
  },
  "language_info": {
   "codemirror_mode": {
    "name": "ipython",
    "version": 3
   },
   "file_extension": ".py",
   "mimetype": "text/x-python",
   "name": "python",
   "nbconvert_exporter": "python",
   "pygments_lexer": "ipython3",
   "version": "3.6.3"
  }
 },
 "nbformat": 4,
 "nbformat_minor": 2
}
