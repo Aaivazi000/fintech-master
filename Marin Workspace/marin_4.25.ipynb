{
 "cells": [
  {
   "cell_type": "code",
   "execution_count": 1,
   "metadata": {
    "collapsed": true
   },
   "outputs": [],
   "source": [
    "from pydrive.auth import GoogleAuth\n",
    "from pydrive.drive import GoogleDrive\n",
    "import pandas as pd\n",
    "import numpy as np\n",
    "from matplotlib import pyplot as plt\n",
    "from pandas.plotting import lag_plot\n",
    "import sklearn.linear_model\n",
    "import time\n",
    "%matplotlib inline"
   ]
  },
  {
   "cell_type": "markdown",
   "metadata": {},
   "source": [
    "# Downloading data directly from Google"
   ]
  },
  {
   "cell_type": "code",
   "execution_count": null,
   "metadata": {
    "collapsed": true
   },
   "outputs": [],
   "source": [
    "'''\n",
    "Follow directions here to create an API to access the data hosted on \n",
    "the drive: https://pythonhosted.org/PyDrive/quickstart.html\n",
    "\n",
    "Once the client_secrets.json file is in ./Marin Workspace/ run the code \n",
    "below just once\n",
    "'''\n",
    "gauth = GoogleAuth()\n",
    "gauth.LocalWebserverAuth()"
   ]
  },
  {
   "cell_type": "code",
   "execution_count": null,
   "metadata": {
    "collapsed": true
   },
   "outputs": [],
   "source": [
    "'''\n",
    "Run the following code to download the data using the file's ID\n",
    "'''\n",
    "SP500_sectors_filled = '1S6lRlfRRVJT2pH_fLBgX9ZbWjroD-DSZ'\n",
    "drive = GoogleDrive(gauth)\n",
    "data = drive.CreateFile({'id': all_stocks_5yr})\n",
    "data.GetContentFile('SP500_sectors_filled.csv')"
   ]
  },
  {
   "cell_type": "markdown",
   "metadata": {},
   "source": [
    "# Load stock data and sector data"
   ]
  },
  {
   "cell_type": "code",
   "execution_count": 2,
   "metadata": {},
   "outputs": [],
   "source": [
    "stock_data = pd.read_csv('all_stocks_5yr.csv', parse_dates = ['date'])\n",
    "sector_data = pd.read_csv('sectors.csv')\n",
    "sp_filled = pd.read_csv('SP500_sectors_filled.csv')\n",
    "#sp_metrics = pd.read_csv('sp_metrics.csv')"
   ]
  },
  {
   "cell_type": "code",
   "execution_count": null,
   "metadata": {
    "collapsed": true
   },
   "outputs": [],
   "source": [
    "def combine_dataframes(stock, sector):\n",
    "    '''\n",
    "    First parameter must be the stock dataframe and the second paramater must be the sector \n",
    "    dataframe. This will return a dataframe matching stocks to their sectors\n",
    "    '''\n",
    "    \n",
    "    stock.set_index('Name', inplace = True)\n",
    "    sector.set_index('Symbol', inplace = True)\n",
    "    \n",
    "    df = pd.concat([stock_data, sector_data], axis = 1, join_axes=[stock.index])\n",
    "    \n",
    "    df.rename(columns={'Name':'full_name'}, inplace = True)\n",
    "    df.reset_index(inplace = True)\n",
    "    df.set_index('date', inplace = True)\n",
    "    \n",
    "    return df"
   ]
  },
  {
   "cell_type": "code",
   "execution_count": 10,
   "metadata": {},
   "outputs": [
    {
     "data": {
      "text/html": [
       "<div>\n",
       "<style>\n",
       "    .dataframe thead tr:only-child th {\n",
       "        text-align: right;\n",
       "    }\n",
       "\n",
       "    .dataframe thead th {\n",
       "        text-align: left;\n",
       "    }\n",
       "\n",
       "    .dataframe tbody tr th {\n",
       "        vertical-align: top;\n",
       "    }\n",
       "</style>\n",
       "<table border=\"1\" class=\"dataframe\">\n",
       "  <thead>\n",
       "    <tr style=\"text-align: right;\">\n",
       "      <th></th>\n",
       "      <th>date</th>\n",
       "      <th>open</th>\n",
       "      <th>high</th>\n",
       "      <th>low</th>\n",
       "      <th>close</th>\n",
       "      <th>volume</th>\n",
       "      <th>Name</th>\n",
       "      <th>per_change</th>\n",
       "      <th>Sector</th>\n",
       "    </tr>\n",
       "  </thead>\n",
       "  <tbody>\n",
       "    <tr>\n",
       "      <th>0</th>\n",
       "      <td>2013-02-08</td>\n",
       "      <td>15.07</td>\n",
       "      <td>15.12</td>\n",
       "      <td>14.63</td>\n",
       "      <td>14.75</td>\n",
       "      <td>8407500</td>\n",
       "      <td>AAL</td>\n",
       "      <td>-0.021234</td>\n",
       "      <td>5</td>\n",
       "    </tr>\n",
       "    <tr>\n",
       "      <th>1</th>\n",
       "      <td>2013-02-11</td>\n",
       "      <td>14.89</td>\n",
       "      <td>15.01</td>\n",
       "      <td>14.26</td>\n",
       "      <td>14.46</td>\n",
       "      <td>8882000</td>\n",
       "      <td>AAL</td>\n",
       "      <td>-0.028878</td>\n",
       "      <td>5</td>\n",
       "    </tr>\n",
       "    <tr>\n",
       "      <th>2</th>\n",
       "      <td>2013-02-12</td>\n",
       "      <td>14.45</td>\n",
       "      <td>14.51</td>\n",
       "      <td>14.10</td>\n",
       "      <td>14.27</td>\n",
       "      <td>8126000</td>\n",
       "      <td>AAL</td>\n",
       "      <td>-0.012457</td>\n",
       "      <td>5</td>\n",
       "    </tr>\n",
       "    <tr>\n",
       "      <th>3</th>\n",
       "      <td>2013-02-13</td>\n",
       "      <td>14.30</td>\n",
       "      <td>14.94</td>\n",
       "      <td>14.25</td>\n",
       "      <td>14.66</td>\n",
       "      <td>10259500</td>\n",
       "      <td>AAL</td>\n",
       "      <td>0.025175</td>\n",
       "      <td>5</td>\n",
       "    </tr>\n",
       "    <tr>\n",
       "      <th>4</th>\n",
       "      <td>2013-02-14</td>\n",
       "      <td>14.94</td>\n",
       "      <td>14.96</td>\n",
       "      <td>13.16</td>\n",
       "      <td>13.99</td>\n",
       "      <td>31879900</td>\n",
       "      <td>AAL</td>\n",
       "      <td>-0.063588</td>\n",
       "      <td>5</td>\n",
       "    </tr>\n",
       "  </tbody>\n",
       "</table>\n",
       "</div>"
      ],
      "text/plain": [
       "         date   open   high    low  close    volume Name  per_change  Sector\n",
       "0  2013-02-08  15.07  15.12  14.63  14.75   8407500  AAL   -0.021234       5\n",
       "1  2013-02-11  14.89  15.01  14.26  14.46   8882000  AAL   -0.028878       5\n",
       "2  2013-02-12  14.45  14.51  14.10  14.27   8126000  AAL   -0.012457       5\n",
       "3  2013-02-13  14.30  14.94  14.25  14.66  10259500  AAL    0.025175       5\n",
       "4  2013-02-14  14.94  14.96  13.16  13.99  31879900  AAL   -0.063588       5"
      ]
     },
     "execution_count": 10,
     "metadata": {},
     "output_type": "execute_result"
    }
   ],
   "source": [
    "sp_filled.head()"
   ]
  },
  {
   "cell_type": "code",
   "execution_count": 3,
   "metadata": {},
   "outputs": [],
   "source": [
    "sp_filled.dropna(inplace=True)"
   ]
  },
  {
   "cell_type": "code",
   "execution_count": 14,
   "metadata": {
    "collapsed": true
   },
   "outputs": [],
   "source": [
    "def encode_sectors(dataframe, sector_name):\n",
    "    '''\n",
    "    Takes in the dataframe and the name of the column that describes the Sectors.\n",
    "    Mutates the dataframe with encoded sector labels and returns an array of the \n",
    "    encoded sectors.\n",
    "    '''\n",
    "    \n",
    "    label_encoder = preprocessing.LabelEncoder()\n",
    "    dataframe[sector_name] = label_encoder.fit_transform(dataframe[sector_name])\n",
    "    \n",
    "    return label_encoder.classes_\n",
    "    \n",
    "    "
   ]
  },
  {
   "cell_type": "code",
   "execution_count": 39,
   "metadata": {
    "collapsed": true
   },
   "outputs": [],
   "source": [
    "# convert df to x values\n",
    "def df_to_inputs(dataframe, sector_name):\n",
    "    \n",
    "    temp_dataframe = dataframe.drop(sector_name, axis=1)\n",
    "    x = temp_dataframe.values\n",
    "    x = x.astype(np.float32)\n",
    "    \n",
    "    y = dataframe[sector_name].values\n",
    "    y = y.astype(np.float32)\n",
    "    y = y.reshape(-1, 1)\n",
    "    \n",
    "    return x, y"
   ]
  },
  {
   "cell_type": "code",
   "execution_count": 40,
   "metadata": {},
   "outputs": [],
   "source": [
    "x2,y2 = df_to_inputs(sp_filled, \"Sector\")"
   ]
  },
  {
   "cell_type": "code",
   "execution_count": 42,
   "metadata": {},
   "outputs": [
    {
     "data": {
      "text/plain": [
       "(619029, 6)"
      ]
     },
     "execution_count": 42,
     "metadata": {},
     "output_type": "execute_result"
    }
   ],
   "source": [
    "x2.shape"
   ]
  },
  {
   "cell_type": "code",
   "execution_count": 44,
   "metadata": {},
   "outputs": [
    {
     "data": {
      "text/plain": [
       "(619029, 1)"
      ]
     },
     "execution_count": 44,
     "metadata": {},
     "output_type": "execute_result"
    }
   ],
   "source": [
    "y2.shape"
   ]
  },
  {
   "cell_type": "code",
   "execution_count": 18,
   "metadata": {
    "collapsed": true
   },
   "outputs": [],
   "source": [
    "sp_filled.drop(['Name', 'date'], axis=1, inplace=True)"
   ]
  },
  {
   "cell_type": "code",
   "execution_count": 19,
   "metadata": {},
   "outputs": [],
   "source": [
    "x1 = df_x(sp_filled, \"Sector\")"
   ]
  },
  {
   "cell_type": "code",
   "execution_count": 27,
   "metadata": {},
   "outputs": [
    {
     "data": {
      "text/plain": [
       "(619029, 6)"
      ]
     },
     "execution_count": 27,
     "metadata": {},
     "output_type": "execute_result"
    }
   ],
   "source": [
    "x1.shape"
   ]
  },
  {
   "cell_type": "code",
   "execution_count": null,
   "metadata": {},
   "outputs": [],
   "source": [
    "le.classes_"
   ]
  },
  {
   "cell_type": "code",
   "execution_count": null,
   "metadata": {},
   "outputs": [],
   "source": [
    "sp_filled['Name'] = sp_filled['Name'].apply(preprocessing.LabelEncoder().fit_transform)\n",
    "sp_filled.groupby(['Name','Sector']).mean()"
   ]
  },
  {
   "cell_type": "code",
   "execution_count": null,
   "metadata": {
    "collapsed": true
   },
   "outputs": [],
   "source": []
  }
 ],
 "metadata": {
  "kernelspec": {
   "display_name": "Python [default]",
   "language": "python",
   "name": "python3"
  },
  "language_info": {
   "codemirror_mode": {
    "name": "ipython",
    "version": 3
   },
   "file_extension": ".py",
   "mimetype": "text/x-python",
   "name": "python",
   "nbconvert_exporter": "python",
   "pygments_lexer": "ipython3",
   "version": "3.6.3"
  }
 },
 "nbformat": 4,
 "nbformat_minor": 2
}
