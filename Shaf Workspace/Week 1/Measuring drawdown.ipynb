{
 "cells": [
  {
   "cell_type": "code",
   "execution_count": 10,
   "metadata": {},
   "outputs": [],
   "source": [
    "import pandas as pd \n",
    "import numpy as np\n",
    "import matplotlib.pyplot as plt \n",
    "import datetime as dt"
   ]
  },
  {
   "cell_type": "code",
   "execution_count": 17,
   "metadata": {},
   "outputs": [],
   "source": [
    "raw_data = pd.read_csv('Telecommunication Services.csv', sep='\\s*,\\s*',\n",
    "                           header=0, encoding='ascii', engine='python')"
   ]
  },
  {
   "cell_type": "code",
   "execution_count": 18,
   "metadata": {},
   "outputs": [],
   "source": [
    "apple = raw_data[raw_data['Name'] == 'CTL']"
   ]
  },
  {
   "cell_type": "code",
   "execution_count": 19,
   "metadata": {
    "scrolled": false
   },
   "outputs": [
    {
     "data": {
      "text/html": [
       "<div>\n",
       "<table border=\"1\" class=\"dataframe\">\n",
       "  <thead>\n",
       "    <tr style=\"text-align: right;\">\n",
       "      <th></th>\n",
       "      <th>Unnamed: 0</th>\n",
       "      <th>date</th>\n",
       "      <th>open</th>\n",
       "      <th>high</th>\n",
       "      <th>low</th>\n",
       "      <th>close</th>\n",
       "      <th>volume</th>\n",
       "      <th>Name</th>\n",
       "      <th>full_name</th>\n",
       "      <th>sector</th>\n",
       "    </tr>\n",
       "  </thead>\n",
       "  <tbody>\n",
       "    <tr>\n",
       "      <th>0</th>\n",
       "      <td>146251</td>\n",
       "      <td>2013-02-08</td>\n",
       "      <td>41.17</td>\n",
       "      <td>41.38</td>\n",
       "      <td>41.10</td>\n",
       "      <td>41.36</td>\n",
       "      <td>4276175</td>\n",
       "      <td>CTL</td>\n",
       "      <td>CenturyLink Inc</td>\n",
       "      <td>Telecommunication Services</td>\n",
       "    </tr>\n",
       "    <tr>\n",
       "      <th>1</th>\n",
       "      <td>146252</td>\n",
       "      <td>2013-02-11</td>\n",
       "      <td>41.29</td>\n",
       "      <td>41.59</td>\n",
       "      <td>41.27</td>\n",
       "      <td>41.51</td>\n",
       "      <td>3009444</td>\n",
       "      <td>CTL</td>\n",
       "      <td>CenturyLink Inc</td>\n",
       "      <td>Telecommunication Services</td>\n",
       "    </tr>\n",
       "    <tr>\n",
       "      <th>2</th>\n",
       "      <td>146253</td>\n",
       "      <td>2013-02-12</td>\n",
       "      <td>41.57</td>\n",
       "      <td>42.01</td>\n",
       "      <td>41.43</td>\n",
       "      <td>41.76</td>\n",
       "      <td>6403569</td>\n",
       "      <td>CTL</td>\n",
       "      <td>CenturyLink Inc</td>\n",
       "      <td>Telecommunication Services</td>\n",
       "    </tr>\n",
       "    <tr>\n",
       "      <th>3</th>\n",
       "      <td>146254</td>\n",
       "      <td>2013-02-13</td>\n",
       "      <td>41.77</td>\n",
       "      <td>41.88</td>\n",
       "      <td>41.46</td>\n",
       "      <td>41.69</td>\n",
       "      <td>8139116</td>\n",
       "      <td>CTL</td>\n",
       "      <td>CenturyLink Inc</td>\n",
       "      <td>Telecommunication Services</td>\n",
       "    </tr>\n",
       "    <tr>\n",
       "      <th>4</th>\n",
       "      <td>146255</td>\n",
       "      <td>2013-02-14</td>\n",
       "      <td>33.97</td>\n",
       "      <td>34.15</td>\n",
       "      <td>32.05</td>\n",
       "      <td>32.27</td>\n",
       "      <td>70769166</td>\n",
       "      <td>CTL</td>\n",
       "      <td>CenturyLink Inc</td>\n",
       "      <td>Telecommunication Services</td>\n",
       "    </tr>\n",
       "  </tbody>\n",
       "</table>\n",
       "</div>"
      ],
      "text/plain": [
       "   Unnamed: 0        date   open   high    low  close    volume Name  \\\n",
       "0      146251  2013-02-08  41.17  41.38  41.10  41.36   4276175  CTL   \n",
       "1      146252  2013-02-11  41.29  41.59  41.27  41.51   3009444  CTL   \n",
       "2      146253  2013-02-12  41.57  42.01  41.43  41.76   6403569  CTL   \n",
       "3      146254  2013-02-13  41.77  41.88  41.46  41.69   8139116  CTL   \n",
       "4      146255  2013-02-14  33.97  34.15  32.05  32.27  70769166  CTL   \n",
       "\n",
       "         full_name                      sector  \n",
       "0  CenturyLink Inc  Telecommunication Services  \n",
       "1  CenturyLink Inc  Telecommunication Services  \n",
       "2  CenturyLink Inc  Telecommunication Services  \n",
       "3  CenturyLink Inc  Telecommunication Services  \n",
       "4  CenturyLink Inc  Telecommunication Services  "
      ]
     },
     "execution_count": 19,
     "metadata": {},
     "output_type": "execute_result"
    }
   ],
   "source": [
    "apple.head(5)\n"
   ]
  },
  {
   "cell_type": "markdown",
   "metadata": {},
   "source": [
    "## We calculate drawdown to determine the estimated gain required to recover from the all-time low compared to the all-time high"
   ]
  },
  {
   "cell_type": "code",
   "execution_count": 36,
   "metadata": {},
   "outputs": [
    {
     "data": {
      "text/plain": [
       "13.619999999999999"
      ]
     },
     "execution_count": 36,
     "metadata": {},
     "output_type": "execute_result"
    }
   ],
   "source": [
    "min_close = apple.loc[apple['close'].idxmin()].close\n",
    "min_close"
   ]
  },
  {
   "cell_type": "code",
   "execution_count": 37,
   "metadata": {},
   "outputs": [
    {
     "data": {
      "text/plain": [
       "41.810000000000002"
      ]
     },
     "execution_count": 37,
     "metadata": {},
     "output_type": "execute_result"
    }
   ],
   "source": [
    "max_close = apple.loc[apple['close'].idxmax()].close\n",
    "max_close"
   ]
  },
  {
   "cell_type": "code",
   "execution_count": 30,
   "metadata": {},
   "outputs": [],
   "source": [
    "max_drawdown = (max_close - min_close) / max_close"
   ]
  },
  {
   "cell_type": "code",
   "execution_count": 31,
   "metadata": {},
   "outputs": [
    {
     "data": {
      "text/plain": [
       "0.67424061229370968"
      ]
     },
     "execution_count": 31,
     "metadata": {},
     "output_type": "execute_result"
    }
   ],
   "source": [
    "max_drawdown"
   ]
  },
  {
   "cell_type": "markdown",
   "metadata": {},
   "source": [
    "#### Time needed for recovery formula:  https://quant.stackexchange.com/questions/25017/what-is-the-formula-for-calculating-draw-down-recovery-percentage"
   ]
  },
  {
   "cell_type": "code",
   "execution_count": 41,
   "metadata": {},
   "outputs": [
    {
     "data": {
      "text/plain": [
       "206.97503671071956"
      ]
     },
     "execution_count": 41,
     "metadata": {},
     "output_type": "execute_result"
    }
   ],
   "source": [
    "#the time needed for recovery follows this formula\n",
    "gain_needed = max_drawdown / (1 - max_drawdown)\n",
    "gain_needed * 100 #units in percentage"
   ]
  },
  {
   "cell_type": "markdown",
   "metadata": {},
   "source": [
    "#### Then determine Compound Annual Growth Rate: https://www.investopedia.com/terms/c/cagr.asp\n"
   ]
  },
  {
   "cell_type": "code",
   "execution_count": 44,
   "metadata": {},
   "outputs": [
    {
     "data": {
      "text/plain": [
       "Unnamed: 0                        146688\n",
       "date                          2014-11-03\n",
       "open                               41.53\n",
       "high                               41.97\n",
       "low                                 41.4\n",
       "close                              41.81\n",
       "volume                           2222062\n",
       "Name                                 CTL\n",
       "full_name                CenturyLink Inc\n",
       "sector        Telecommunication Services\n",
       "Name: 437, dtype: object"
      ]
     },
     "execution_count": 44,
     "metadata": {},
     "output_type": "execute_result"
    }
   ],
   "source": [
    "apple.loc[apple['close'].idxmax()]"
   ]
  },
  {
   "cell_type": "code",
   "execution_count": 53,
   "metadata": {},
   "outputs": [
    {
     "name": "stderr",
     "output_type": "stream",
     "text": [
      "C:\\Users\\sharfaraz\\AppData\\Roaming\\Python\\Python36\\site-packages\\ipykernel_launcher.py:1: SettingWithCopyWarning: \n",
      "A value is trying to be set on a copy of a slice from a DataFrame.\n",
      "Try using .loc[row_indexer,col_indexer] = value instead\n",
      "\n",
      "See the caveats in the documentation: http://pandas.pydata.org/pandas-docs/stable/indexing.html#indexing-view-versus-copy\n",
      "  \"\"\"Entry point for launching an IPython kernel.\n"
     ]
    }
   ],
   "source": [
    "apple['date'] = pd.to_datetime(apple['date'])\n",
    "\n",
    "dataframe1=apple[apple['date'].dt.year == 2014]"
   ]
  },
  {
   "cell_type": "code",
   "execution_count": 50,
   "metadata": {},
   "outputs": [],
   "source": [
    "dataframe2 =apple[apple['date'].dt.year == 2017]"
   ]
  },
  {
   "cell_type": "code",
   "execution_count": 49,
   "metadata": {},
   "outputs": [
    {
     "data": {
      "text/plain": [
       "Unnamed: 0                        147460\n",
       "date                 2017-11-27 00:00:00\n",
       "open                               13.85\n",
       "high                               14.05\n",
       "low                                13.56\n",
       "close                              13.62\n",
       "volume                          13763783\n",
       "Name                                 CTL\n",
       "full_name                CenturyLink Inc\n",
       "sector        Telecommunication Services\n",
       "Name: 1209, dtype: object"
      ]
     },
     "execution_count": 49,
     "metadata": {},
     "output_type": "execute_result"
    }
   ],
   "source": [
    "apple.loc[apple['close'].idxmin()]\n"
   ]
  },
  {
   "cell_type": "code",
   "execution_count": 56,
   "metadata": {},
   "outputs": [],
   "source": [
    "end_price = dataframe2['close'][dataframe2.index[-1]]"
   ]
  },
  {
   "cell_type": "code",
   "execution_count": 64,
   "metadata": {},
   "outputs": [],
   "source": [
    "start_price = dataframe1['close'][dataframe1.index[-1]]"
   ]
  },
  {
   "cell_type": "code",
   "execution_count": null,
   "metadata": {},
   "outputs": [],
   "source": []
  }
 ],
 "metadata": {
  "kernelspec": {
   "display_name": "Python 3",
   "language": "python",
   "name": "python3"
  },
  "language_info": {
   "codemirror_mode": {
    "name": "ipython",
    "version": 3
   },
   "file_extension": ".py",
   "mimetype": "text/x-python",
   "name": "python",
   "nbconvert_exporter": "python",
   "pygments_lexer": "ipython3",
   "version": "3.6.0"
  }
 },
 "nbformat": 4,
 "nbformat_minor": 2
}
