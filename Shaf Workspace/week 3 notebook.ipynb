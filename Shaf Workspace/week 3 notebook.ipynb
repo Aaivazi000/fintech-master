{
 "cells": [
  {
   "cell_type": "code",
   "execution_count": 373,
   "metadata": {
    "collapsed": true
   },
   "outputs": [],
   "source": [
    "import pandas as pd\n",
    "import matplotlib.pyplot as plt\n",
    "import numpy as np\n",
    "import matplotlib.dates as mdates"
   ]
  },
  {
   "cell_type": "code",
   "execution_count": 374,
   "metadata": {
    "collapsed": true
   },
   "outputs": [],
   "source": [
    "\n",
    "data = pd.read_csv('price return monthly.csv', sep='\\s*,\\s*',\n",
    "                           header=0, encoding='ascii', engine='python')"
   ]
  },
  {
   "cell_type": "code",
   "execution_count": 375,
   "metadata": {
    "collapsed": false
   },
   "outputs": [
    {
     "data": {
      "text/html": [
       "<div>\n",
       "<table border=\"1\" class=\"dataframe\">\n",
       "  <thead>\n",
       "    <tr style=\"text-align: right;\">\n",
       "      <th></th>\n",
       "      <th>Date</th>\n",
       "      <th>S&amp;P 500 (TR)</th>\n",
       "      <th>S&amp;P 500 (Net TR)</th>\n",
       "      <th>S&amp;P 500</th>\n",
       "    </tr>\n",
       "  </thead>\n",
       "  <tbody>\n",
       "    <tr>\n",
       "      <th>0</th>\n",
       "      <td>5/1/2013</td>\n",
       "      <td>2797.28</td>\n",
       "      <td>2582.38</td>\n",
       "      <td>1582.70</td>\n",
       "    </tr>\n",
       "    <tr>\n",
       "      <th>1</th>\n",
       "      <td>6/3/2013</td>\n",
       "      <td>2906.91</td>\n",
       "      <td>2681.48</td>\n",
       "      <td>1640.42</td>\n",
       "    </tr>\n",
       "    <tr>\n",
       "      <th>2</th>\n",
       "      <td>7/1/2013</td>\n",
       "      <td>2866.41</td>\n",
       "      <td>2642.84</td>\n",
       "      <td>1614.96</td>\n",
       "    </tr>\n",
       "    <tr>\n",
       "      <th>3</th>\n",
       "      <td>8/1/2013</td>\n",
       "      <td>3033.59</td>\n",
       "      <td>2795.86</td>\n",
       "      <td>1706.87</td>\n",
       "    </tr>\n",
       "    <tr>\n",
       "      <th>4</th>\n",
       "      <td>9/3/2013</td>\n",
       "      <td>2921.23</td>\n",
       "      <td>2690.40</td>\n",
       "      <td>1639.77</td>\n",
       "    </tr>\n",
       "  </tbody>\n",
       "</table>\n",
       "</div>"
      ],
      "text/plain": [
       "       Date  S&P 500 (TR)  S&P 500 (Net TR)  S&P 500\n",
       "0  5/1/2013       2797.28           2582.38  1582.70\n",
       "1  6/3/2013       2906.91           2681.48  1640.42\n",
       "2  7/1/2013       2866.41           2642.84  1614.96\n",
       "3  8/1/2013       3033.59           2795.86  1706.87\n",
       "4  9/3/2013       2921.23           2690.40  1639.77"
      ]
     },
     "execution_count": 375,
     "metadata": {},
     "output_type": "execute_result"
    }
   ],
   "source": [
    "data.head()\n"
   ]
  },
  {
   "cell_type": "code",
   "execution_count": 376,
   "metadata": {
    "collapsed": false
   },
   "outputs": [],
   "source": [
    "data['Date'] = pd.to_datetime(data['Date'])"
   ]
  },
  {
   "cell_type": "code",
   "execution_count": 377,
   "metadata": {
    "collapsed": false
   },
   "outputs": [],
   "source": [
    "data = data[(data['Date'] >= '2016-01-04') & (data['Date'] <= '2017-01-03')]"
   ]
  },
  {
   "cell_type": "code",
   "execution_count": null,
   "metadata": {
    "collapsed": false
   },
   "outputs": [],
   "source": []
  },
  {
   "cell_type": "code",
   "execution_count": 378,
   "metadata": {
    "collapsed": false,
    "scrolled": true
   },
   "outputs": [
    {
     "data": {
      "text/html": [
       "<div>\n",
       "<table border=\"1\" class=\"dataframe\">\n",
       "  <thead>\n",
       "    <tr style=\"text-align: right;\">\n",
       "      <th></th>\n",
       "      <th>Date</th>\n",
       "      <th>S&amp;P 500 (TR)</th>\n",
       "      <th>S&amp;P 500 (Net TR)</th>\n",
       "      <th>S&amp;P 500</th>\n",
       "    </tr>\n",
       "  </thead>\n",
       "  <tbody>\n",
       "    <tr>\n",
       "      <th>32</th>\n",
       "      <td>2016-01-04</td>\n",
       "      <td>3763.99</td>\n",
       "      <td>3416.42</td>\n",
       "      <td>2129.66</td>\n",
       "    </tr>\n",
       "    <tr>\n",
       "      <th>33</th>\n",
       "      <td>2016-02-01</td>\n",
       "      <td>3630.46</td>\n",
       "      <td>3294.26</td>\n",
       "      <td>1939.38</td>\n",
       "    </tr>\n",
       "    <tr>\n",
       "      <th>34</th>\n",
       "      <td>2016-03-01</td>\n",
       "      <td>3713.70</td>\n",
       "      <td>3366.99</td>\n",
       "      <td>1978.35</td>\n",
       "    </tr>\n",
       "    <tr>\n",
       "      <th>35</th>\n",
       "      <td>2016-04-01</td>\n",
       "      <td>3897.66</td>\n",
       "      <td>3531.95</td>\n",
       "      <td>2072.78</td>\n",
       "    </tr>\n",
       "    <tr>\n",
       "      <th>36</th>\n",
       "      <td>2016-05-02</td>\n",
       "      <td>3918.53</td>\n",
       "      <td>3549.61</td>\n",
       "      <td>2081.43</td>\n",
       "    </tr>\n",
       "    <tr>\n",
       "      <th>37</th>\n",
       "      <td>2016-06-01</td>\n",
       "      <td>3963.10</td>\n",
       "      <td>3587.03</td>\n",
       "      <td>2099.33</td>\n",
       "    </tr>\n",
       "    <tr>\n",
       "      <th>38</th>\n",
       "      <td>2016-08-01</td>\n",
       "      <td>4109.28</td>\n",
       "      <td>3716.30</td>\n",
       "      <td>2170.84</td>\n",
       "    </tr>\n",
       "    <tr>\n",
       "      <th>39</th>\n",
       "      <td>2016-07-01</td>\n",
       "      <td>3976.68</td>\n",
       "      <td>3597.49</td>\n",
       "      <td>2102.95</td>\n",
       "    </tr>\n",
       "    <tr>\n",
       "      <th>40</th>\n",
       "      <td>2016-09-01</td>\n",
       "      <td>4120.17</td>\n",
       "      <td>3723.20</td>\n",
       "      <td>2173.86</td>\n",
       "    </tr>\n",
       "    <tr>\n",
       "      <th>41</th>\n",
       "      <td>2016-10-03</td>\n",
       "      <td>4108.13</td>\n",
       "      <td>3710.61</td>\n",
       "      <td>2161.20</td>\n",
       "    </tr>\n",
       "    <tr>\n",
       "      <th>42</th>\n",
       "      <td>2016-11-01</td>\n",
       "      <td>4018.47</td>\n",
       "      <td>3628.44</td>\n",
       "      <td>2111.72</td>\n",
       "    </tr>\n",
       "    <tr>\n",
       "      <th>43</th>\n",
       "      <td>2016-12-01</td>\n",
       "      <td>4181.15</td>\n",
       "      <td>3772.17</td>\n",
       "      <td>2191.08</td>\n",
       "    </tr>\n",
       "    <tr>\n",
       "      <th>44</th>\n",
       "      <td>2017-01-03</td>\n",
       "      <td>4315.08</td>\n",
       "      <td>3891.22</td>\n",
       "      <td>2207.83</td>\n",
       "    </tr>\n",
       "  </tbody>\n",
       "</table>\n",
       "</div>"
      ],
      "text/plain": [
       "         Date  S&P 500 (TR)  S&P 500 (Net TR)  S&P 500\n",
       "32 2016-01-04       3763.99           3416.42  2129.66\n",
       "33 2016-02-01       3630.46           3294.26  1939.38\n",
       "34 2016-03-01       3713.70           3366.99  1978.35\n",
       "35 2016-04-01       3897.66           3531.95  2072.78\n",
       "36 2016-05-02       3918.53           3549.61  2081.43\n",
       "37 2016-06-01       3963.10           3587.03  2099.33\n",
       "38 2016-08-01       4109.28           3716.30  2170.84\n",
       "39 2016-07-01       3976.68           3597.49  2102.95\n",
       "40 2016-09-01       4120.17           3723.20  2173.86\n",
       "41 2016-10-03       4108.13           3710.61  2161.20\n",
       "42 2016-11-01       4018.47           3628.44  2111.72\n",
       "43 2016-12-01       4181.15           3772.17  2191.08\n",
       "44 2017-01-03       4315.08           3891.22  2207.83"
      ]
     },
     "execution_count": 378,
     "metadata": {},
     "output_type": "execute_result"
    }
   ],
   "source": [
    "data"
   ]
  },
  {
   "cell_type": "code",
   "execution_count": 379,
   "metadata": {
    "collapsed": false,
    "scrolled": true
   },
   "outputs": [
    {
     "data": {
      "image/png": "[encoded data removed]",
      "text/plain": [
       "<matplotlib.figure.Figure at 0x22aa88812e8>"
      ]
     },
     "metadata": {},
     "output_type": "display_data"
    }
   ],
   "source": [
    "fig = plt.figure(figsize=(10,10))\n",
    "ax = fig.add_subplot(1,1,1)\n",
    "\n",
    "data_dates = [pd.to_datetime(d) for d in data['Date']]\n",
    "\n",
    "plt.scatter(data_dates, data['S&P 500'], s=100)\n",
    "ax.xaxis.set_major_locator(mdates.MonthLocator())  \n",
    "ax.xaxis.set_major_formatter(mdates.DateFormatter('%Y-%m'))\n",
    "plt.xlabel('Date')\n",
    "plt.ylabel('Price Return')\n",
    "plt.xticks(rotation=50)\n",
    "plt.title('Price Return Relative Change in 2016')\n",
    "plt.show()"
   ]
  },
  {
   "cell_type": "code",
   "execution_count": null,
   "metadata": {
    "collapsed": true
   },
   "outputs": [],
   "source": []
  },
  {
   "cell_type": "code",
   "execution_count": null,
   "metadata": {
    "collapsed": true
   },
   "outputs": [],
   "source": []
  }
 ],
 "metadata": {
  "kernelspec": {
   "display_name": "Python 3",
   "language": "python",
   "name": "python3"
  },
  "language_info": {
   "codemirror_mode": {
    "name": "ipython",
    "version": 3
   },
   "file_extension": ".py",
   "mimetype": "text/x-python",
   "name": "python",
   "nbconvert_exporter": "python",
   "pygments_lexer": "ipython3",
   "version": "3.6.0"
  }
 },
 "nbformat": 4,
 "nbformat_minor": 2
}
